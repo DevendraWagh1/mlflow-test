{
 "cells": [
  {
   "cell_type": "code",
   "execution_count": 1,
   "id": "caffcfa0",
   "metadata": {},
   "outputs": [],
   "source": [
    "import pandas as pd\n",
    "import numpy as np\n",
    "import matplotlib.pyplot as plt\n",
    "import seaborn as sns\n",
    "import os\n",
    "\n",
    "from sklearn.model_selection import train_test_split\n",
    "from sklearn.impute import SimpleImputer\n",
    "from sklearn.preprocessing import OneHotEncoder\n",
    "from sklearn.linear_model import LinearRegression\n",
    "from sklearn.svm import SVR\n",
    "from sklearn.metrics import mean_absolute_percentage_error, r2_score\n",
    "\n",
    "# Pipeline related libraries\n",
    "from sklearn.pipeline import make_pipeline, Pipeline\n",
    "from sklearn.base import BaseEstimator, TransformerMixin\n",
    "\n",
    "%matplotlib inline"
   ]
  },
  {
   "cell_type": "code",
   "execution_count": 2,
   "id": "dae97dc1",
   "metadata": {},
   "outputs": [],
   "source": [
    "os.chdir(\"..\")"
   ]
  },
  {
   "cell_type": "code",
   "execution_count": 3,
   "id": "94c23dcd",
   "metadata": {},
   "outputs": [],
   "source": [
    "input_path = os.path.join(os.getcwd(),'02. Input') "
   ]
  },
  {
   "cell_type": "code",
   "execution_count": 4,
   "id": "6d6c706b",
   "metadata": {},
   "outputs": [],
   "source": [
    "# os.path.join(input_path,'airbnb_listings.csv')"
   ]
  },
  {
   "cell_type": "code",
   "execution_count": 5,
   "id": "d64bb077",
   "metadata": {},
   "outputs": [],
   "source": [
    "data = pd.read_csv(os.path.join(input_path,'airbnb_listings.csv'))"
   ]
  },
  {
   "cell_type": "code",
   "execution_count": 6,
   "id": "00a61c59",
   "metadata": {},
   "outputs": [
    {
     "data": {
      "text/plain": [
       "(2329, 75)"
      ]
     },
     "execution_count": 6,
     "metadata": {},
     "output_type": "execute_result"
    }
   ],
   "source": [
    "data.shape"
   ]
  },
  {
   "cell_type": "code",
   "execution_count": 7,
   "id": "69af10b3",
   "metadata": {},
   "outputs": [
    {
     "data": {
      "text/html": [
       "<div>\n",
       "<style scoped>\n",
       "    .dataframe tbody tr th:only-of-type {\n",
       "        vertical-align: middle;\n",
       "    }\n",
       "\n",
       "    .dataframe tbody tr th {\n",
       "        vertical-align: top;\n",
       "    }\n",
       "\n",
       "    .dataframe thead th {\n",
       "        text-align: right;\n",
       "    }\n",
       "</style>\n",
       "<table border=\"1\" class=\"dataframe\">\n",
       "  <thead>\n",
       "    <tr style=\"text-align: right;\">\n",
       "      <th></th>\n",
       "      <th>id</th>\n",
       "      <th>listing_url</th>\n",
       "      <th>scrape_id</th>\n",
       "      <th>last_scraped</th>\n",
       "      <th>source</th>\n",
       "      <th>name</th>\n",
       "      <th>description</th>\n",
       "      <th>neighborhood_overview</th>\n",
       "      <th>picture_url</th>\n",
       "      <th>host_id</th>\n",
       "      <th>...</th>\n",
       "      <th>review_scores_communication</th>\n",
       "      <th>review_scores_location</th>\n",
       "      <th>review_scores_value</th>\n",
       "      <th>license</th>\n",
       "      <th>instant_bookable</th>\n",
       "      <th>calculated_host_listings_count</th>\n",
       "      <th>calculated_host_listings_count_entire_homes</th>\n",
       "      <th>calculated_host_listings_count_private_rooms</th>\n",
       "      <th>calculated_host_listings_count_shared_rooms</th>\n",
       "      <th>reviews_per_month</th>\n",
       "    </tr>\n",
       "  </thead>\n",
       "  <tbody>\n",
       "    <tr>\n",
       "      <th>0</th>\n",
       "      <td>70820.0</td>\n",
       "      <td>https://www.airbnb.com/rooms/70820</td>\n",
       "      <td>2.023030e+13</td>\n",
       "      <td>28-03-2023</td>\n",
       "      <td>previous scrape</td>\n",
       "      <td>City View - Sarah's double room.</td>\n",
       "      <td>A good sized room with a comfy double bed and ...</td>\n",
       "      <td>The neighbourhood is friendly and welcoming; m...</td>\n",
       "      <td>https://a0.muscache.com/pictures/b33c30be-56a0...</td>\n",
       "      <td>360195</td>\n",
       "      <td>...</td>\n",
       "      <td>4.94</td>\n",
       "      <td>4.75</td>\n",
       "      <td>4.77</td>\n",
       "      <td>NaN</td>\n",
       "      <td>f</td>\n",
       "      <td>5</td>\n",
       "      <td>0</td>\n",
       "      <td>5</td>\n",
       "      <td>0</td>\n",
       "      <td>1.56</td>\n",
       "    </tr>\n",
       "    <tr>\n",
       "      <th>1</th>\n",
       "      <td>117122.0</td>\n",
       "      <td>https://www.airbnb.com/rooms/117122</td>\n",
       "      <td>2.023030e+13</td>\n",
       "      <td>28-03-2023</td>\n",
       "      <td>city scrape</td>\n",
       "      <td>City Centre-Waterside Retreat</td>\n",
       "      <td>My Harbourside apartment centrally located min...</td>\n",
       "      <td>This area is on the water and has splendid vie...</td>\n",
       "      <td>https://a0.muscache.com/pictures/f6d39021-af07...</td>\n",
       "      <td>591555</td>\n",
       "      <td>...</td>\n",
       "      <td>4.99</td>\n",
       "      <td>4.97</td>\n",
       "      <td>4.88</td>\n",
       "      <td>NaN</td>\n",
       "      <td>f</td>\n",
       "      <td>1</td>\n",
       "      <td>0</td>\n",
       "      <td>1</td>\n",
       "      <td>0</td>\n",
       "      <td>1.21</td>\n",
       "    </tr>\n",
       "    <tr>\n",
       "      <th>2</th>\n",
       "      <td>176306.0</td>\n",
       "      <td>https://www.airbnb.com/rooms/176306</td>\n",
       "      <td>2.023030e+13</td>\n",
       "      <td>28-03-2023</td>\n",
       "      <td>city scrape</td>\n",
       "      <td>The White Room -  Central Bristol Art House Ga...</td>\n",
       "      <td>A small double room in an artist's house, with...</td>\n",
       "      <td>Southville is pretty darn hip, frankly. North ...</td>\n",
       "      <td>https://a0.muscache.com/pictures/e1e7fdfc-9db5...</td>\n",
       "      <td>708175</td>\n",
       "      <td>...</td>\n",
       "      <td>4.93</td>\n",
       "      <td>4.74</td>\n",
       "      <td>4.70</td>\n",
       "      <td>NaN</td>\n",
       "      <td>f</td>\n",
       "      <td>1</td>\n",
       "      <td>0</td>\n",
       "      <td>1</td>\n",
       "      <td>0</td>\n",
       "      <td>0.37</td>\n",
       "    </tr>\n",
       "  </tbody>\n",
       "</table>\n",
       "<p>3 rows × 75 columns</p>\n",
       "</div>"
      ],
      "text/plain": [
       "         id                          listing_url     scrape_id last_scraped  \\\n",
       "0   70820.0   https://www.airbnb.com/rooms/70820  2.023030e+13   28-03-2023   \n",
       "1  117122.0  https://www.airbnb.com/rooms/117122  2.023030e+13   28-03-2023   \n",
       "2  176306.0  https://www.airbnb.com/rooms/176306  2.023030e+13   28-03-2023   \n",
       "\n",
       "            source                                               name  \\\n",
       "0  previous scrape                   City View - Sarah's double room.   \n",
       "1      city scrape                      City Centre-Waterside Retreat   \n",
       "2      city scrape  The White Room -  Central Bristol Art House Ga...   \n",
       "\n",
       "                                         description  \\\n",
       "0  A good sized room with a comfy double bed and ...   \n",
       "1  My Harbourside apartment centrally located min...   \n",
       "2  A small double room in an artist's house, with...   \n",
       "\n",
       "                               neighborhood_overview  \\\n",
       "0  The neighbourhood is friendly and welcoming; m...   \n",
       "1  This area is on the water and has splendid vie...   \n",
       "2  Southville is pretty darn hip, frankly. North ...   \n",
       "\n",
       "                                         picture_url  host_id  ...  \\\n",
       "0  https://a0.muscache.com/pictures/b33c30be-56a0...   360195  ...   \n",
       "1  https://a0.muscache.com/pictures/f6d39021-af07...   591555  ...   \n",
       "2  https://a0.muscache.com/pictures/e1e7fdfc-9db5...   708175  ...   \n",
       "\n",
       "  review_scores_communication review_scores_location review_scores_value  \\\n",
       "0                        4.94                   4.75                4.77   \n",
       "1                        4.99                   4.97                4.88   \n",
       "2                        4.93                   4.74                4.70   \n",
       "\n",
       "  license instant_bookable calculated_host_listings_count  \\\n",
       "0     NaN                f                              5   \n",
       "1     NaN                f                              1   \n",
       "2     NaN                f                              1   \n",
       "\n",
       "  calculated_host_listings_count_entire_homes  \\\n",
       "0                                           0   \n",
       "1                                           0   \n",
       "2                                           0   \n",
       "\n",
       "  calculated_host_listings_count_private_rooms  \\\n",
       "0                                            5   \n",
       "1                                            1   \n",
       "2                                            1   \n",
       "\n",
       "  calculated_host_listings_count_shared_rooms reviews_per_month  \n",
       "0                                           0              1.56  \n",
       "1                                           0              1.21  \n",
       "2                                           0              0.37  \n",
       "\n",
       "[3 rows x 75 columns]"
      ]
     },
     "execution_count": 7,
     "metadata": {},
     "output_type": "execute_result"
    }
   ],
   "source": [
    "data.head(3)"
   ]
  },
  {
   "cell_type": "code",
   "execution_count": 8,
   "id": "be07d822",
   "metadata": {
    "scrolled": false
   },
   "outputs": [
    {
     "data": {
      "text/plain": [
       "Index(['id', 'listing_url', 'scrape_id', 'last_scraped', 'source', 'name',\n",
       "       'description', 'neighborhood_overview', 'picture_url', 'host_id',\n",
       "       'host_url', 'host_name', 'host_since', 'host_location', '0',\n",
       "       'host_response_time', 'host_response_rate', 'host_acceptance_rate',\n",
       "       'host_is_superhost', 'host_thumbnail_url', 'host_picture_url',\n",
       "       'host_neighbourhood', 'host_listings_count',\n",
       "       'host_total_listings_count', 'host_verifications',\n",
       "       'host_has_profile_pic', 'host_identity_verified', 'neighbourhood',\n",
       "       'neighbourhood_cleansed', 'neighbourhood_group_cleansed', 'latitude',\n",
       "       'longitude', 'property_type', 'room_type', 'accommodates', 'bathrooms',\n",
       "       'bathrooms_text', 'bedrooms', 'beds', 'amenities', 'price',\n",
       "       'minimum_nights', 'maximum_nights', 'minimum_minimum_nights',\n",
       "       'maximum_minimum_nights', 'minimum_maximum_nights',\n",
       "       'maximum_maximum_nights', 'minimum_nights_avg_ntm',\n",
       "       'maximum_nights_avg_ntm', 'calendar_updated', 'has_availability',\n",
       "       'availability_30', 'availability_60', 'availability_90',\n",
       "       'availability_365', 'calendar_last_scraped', 'number_of_reviews',\n",
       "       'number_of_reviews_ltm', 'number_of_reviews_l30d', 'first_review',\n",
       "       'last_review', 'review_scores_rating', 'review_scores_accuracy',\n",
       "       'review_scores_cleanliness', 'review_scores_checkin',\n",
       "       'review_scores_communication', 'review_scores_location',\n",
       "       'review_scores_value', 'license', 'instant_bookable',\n",
       "       'calculated_host_listings_count',\n",
       "       'calculated_host_listings_count_entire_homes',\n",
       "       'calculated_host_listings_count_private_rooms',\n",
       "       'calculated_host_listings_count_shared_rooms', 'reviews_per_month'],\n",
       "      dtype='object')"
      ]
     },
     "execution_count": 8,
     "metadata": {},
     "output_type": "execute_result"
    }
   ],
   "source": [
    "data.columns"
   ]
  },
  {
   "cell_type": "code",
   "execution_count": 9,
   "id": "4e9444de",
   "metadata": {},
   "outputs": [],
   "source": [
    "keep_columns = [\n",
    "       'host_response_time', 'host_response_rate', 'host_acceptance_rate','host_is_superhost', \n",
    "       #'host_listings_count', 'host_total_listings_count', \n",
    "       'host_verifications',\n",
    "       'host_has_profile_pic', 'host_identity_verified', 'neighbourhood',\n",
    "       # 'latitude', 'longitude', \n",
    "       'property_type', 'room_type', 'accommodates',\n",
    "       'bathrooms_text', 'bedrooms', 'beds', 'amenities',\n",
    "       #'minimum_nights', 'maximum_nights', 'minimum_minimum_nights',\n",
    "       #'maximum_minimum_nights', 'minimum_maximum_nights',\n",
    "       #'maximum_maximum_nights', 'minimum_nights_avg_ntm',\n",
    "       #'maximum_nights_avg_ntm', 'calendar_updated', \n",
    "       #'has_availability','availability_30', \n",
    "       #'availability_60', 'availability_90', 'availability_365', 'calendar_last_scraped', 'number_of_reviews',\n",
    "       'number_of_reviews_ltm', 'number_of_reviews_l30d', \n",
    "       #'first_review', 'last_review', \n",
    "       'review_scores_rating', 'review_scores_accuracy',\n",
    "       'review_scores_cleanliness', 'review_scores_checkin',\n",
    "       'review_scores_communication', 'review_scores_location',\n",
    "       'review_scores_value', \n",
    "       #'license', \n",
    "       'instant_bookable', 'calculated_host_listings_count',\n",
    "       'calculated_host_listings_count_entire_homes',\n",
    "       'calculated_host_listings_count_private_rooms',\n",
    "       'calculated_host_listings_count_shared_rooms', \n",
    "       #'reviews_per_month', \n",
    "       'price']"
   ]
  },
  {
   "cell_type": "code",
   "execution_count": 10,
   "id": "5785e00e",
   "metadata": {},
   "outputs": [],
   "source": [
    "data = data[keep_columns]"
   ]
  },
  {
   "cell_type": "code",
   "execution_count": 11,
   "id": "92234868",
   "metadata": {},
   "outputs": [],
   "source": [
    "data['neighbourhood'] = data['neighbourhood'].fillna('')"
   ]
  },
  {
   "cell_type": "code",
   "execution_count": 12,
   "id": "a7b78baf",
   "metadata": {},
   "outputs": [],
   "source": [
    "data = data[data['neighbourhood'].str.lower().str.contains('bristol')]"
   ]
  },
  {
   "cell_type": "code",
   "execution_count": 13,
   "id": "6dcd8eef",
   "metadata": {},
   "outputs": [
    {
     "data": {
      "text/plain": [
       "City of Bristol, England, United Kingdom           363\n",
       "Bristol City, England, United Kingdom              320\n",
       "Bristol, England, United Kingdom                   192\n",
       "Bristol, United Kingdom                             97\n",
       "Bristol, City of Bristol, United Kingdom            10\n",
       "Bristol, Avon, United Kingdom                        8\n",
       "Clifton, Bristol, United Kingdom                     6\n",
       "Bristol, UK, United Kingdom                          6\n",
       "City of Bristol, Bristol, United Kingdom             6\n",
       "Redland, Bristol, United Kingdom                     4\n",
       "Bristol City, Southville, United Kingdom             3\n",
       "Bristol, Somerset, United Kingdom                    3\n",
       "Bristol , England, United Kingdom                    2\n",
       "City of Bristol, Avon, United Kingdom                2\n",
       "Bristol, St Andrews, United Kingdom                  1\n",
       "Bristol, south glos, United Kingdom                  1\n",
       "Bristol, Westbury on Trym, United Kingdom            1\n",
       "Easton, Bristol, United Kingdom                      1\n",
       "Bristol, Dorset, United Kingdom                      1\n",
       "Center City of Bristol, England, United Kingdom      1\n",
       "Bristol, ., United Kingdom                           1\n",
       "Stockwood, Bristol, England, United Kingdom          1\n",
       "Bristol , Avon, United Kingdom                       1\n",
       "Bristol City, United Kingdom                         1\n",
       "Name: neighbourhood, dtype: int64"
      ]
     },
     "execution_count": 13,
     "metadata": {},
     "output_type": "execute_result"
    }
   ],
   "source": [
    "data['neighbourhood'].value_counts()"
   ]
  },
  {
   "cell_type": "code",
   "execution_count": 300,
   "id": "5e48c522",
   "metadata": {},
   "outputs": [],
   "source": [
    "X = data.drop(columns=['neighbourhood', 'price'], axis=1)"
   ]
  },
  {
   "cell_type": "code",
   "execution_count": 301,
   "id": "8948f7b6",
   "metadata": {},
   "outputs": [
    {
     "data": {
      "text/plain": [
       "Index(['host_response_time', 'host_response_rate', 'host_acceptance_rate',\n",
       "       'host_is_superhost', 'host_verifications', 'host_has_profile_pic',\n",
       "       'host_identity_verified', 'property_type', 'room_type', 'accommodates',\n",
       "       'bathrooms_text', 'bedrooms', 'beds', 'amenities',\n",
       "       'number_of_reviews_ltm', 'number_of_reviews_l30d',\n",
       "       'review_scores_rating', 'review_scores_accuracy',\n",
       "       'review_scores_cleanliness', 'review_scores_checkin',\n",
       "       'review_scores_communication', 'review_scores_location',\n",
       "       'review_scores_value', 'instant_bookable',\n",
       "       'calculated_host_listings_count',\n",
       "       'calculated_host_listings_count_entire_homes',\n",
       "       'calculated_host_listings_count_private_rooms',\n",
       "       'calculated_host_listings_count_shared_rooms'],\n",
       "      dtype='object')"
      ]
     },
     "execution_count": 301,
     "metadata": {},
     "output_type": "execute_result"
    }
   ],
   "source": [
    "X.columns"
   ]
  },
  {
   "cell_type": "code",
   "execution_count": 366,
   "id": "7f883ef4",
   "metadata": {},
   "outputs": [
    {
     "name": "stderr",
     "output_type": "stream",
     "text": [
      "C:\\Users\\dev3w\\AppData\\Local\\Temp\\ipykernel_17672\\3938196490.py:1: FutureWarning: The default value of regex will change from True to False in a future version. In addition, single character regular expressions will *not* be treated as literal strings when regex=True.\n",
      "  y = data['price'].str.replace('$','').str.replace(',','').astype('float').astype('int')\n"
     ]
    }
   ],
   "source": [
    "y = data['price'].str.replace('$','').str.replace(',','').astype('float').astype('int')"
   ]
  },
  {
   "cell_type": "code",
   "execution_count": null,
   "id": "25c3f742",
   "metadata": {},
   "outputs": [],
   "source": []
  },
  {
   "cell_type": "code",
   "execution_count": 14,
   "id": "7543e7e5",
   "metadata": {
    "scrolled": false
   },
   "outputs": [
    {
     "name": "stdout",
     "output_type": "stream",
     "text": [
      "<class 'pandas.core.frame.DataFrame'>\n",
      "Int64Index: 1032 entries, 0 to 2325\n",
      "Data columns (total 30 columns):\n",
      " #   Column                                        Non-Null Count  Dtype  \n",
      "---  ------                                        --------------  -----  \n",
      " 0   host_response_time                            885 non-null    object \n",
      " 1   host_response_rate                            885 non-null    object \n",
      " 2   host_acceptance_rate                          982 non-null    object \n",
      " 3   host_is_superhost                             1032 non-null   object \n",
      " 4   host_verifications                            1032 non-null   object \n",
      " 5   host_has_profile_pic                          1032 non-null   object \n",
      " 6   host_identity_verified                        1032 non-null   object \n",
      " 7   neighbourhood                                 1032 non-null   object \n",
      " 8   property_type                                 1032 non-null   object \n",
      " 9   room_type                                     1032 non-null   object \n",
      " 10  accommodates                                  1032 non-null   int64  \n",
      " 11  bathrooms_text                                1031 non-null   object \n",
      " 12  bedrooms                                      979 non-null    float64\n",
      " 13  beds                                          1005 non-null   float64\n",
      " 14  amenities                                     1032 non-null   object \n",
      " 15  number_of_reviews_ltm                         1032 non-null   int64  \n",
      " 16  number_of_reviews_l30d                        1032 non-null   int64  \n",
      " 17  review_scores_rating                          920 non-null    float64\n",
      " 18  review_scores_accuracy                        918 non-null    float64\n",
      " 19  review_scores_cleanliness                     918 non-null    float64\n",
      " 20  review_scores_checkin                         918 non-null    float64\n",
      " 21  review_scores_communication                   918 non-null    float64\n",
      " 22  review_scores_location                        918 non-null    float64\n",
      " 23  review_scores_value                           918 non-null    float64\n",
      " 24  instant_bookable                              1032 non-null   object \n",
      " 25  calculated_host_listings_count                1032 non-null   int64  \n",
      " 26  calculated_host_listings_count_entire_homes   1032 non-null   int64  \n",
      " 27  calculated_host_listings_count_private_rooms  1032 non-null   int64  \n",
      " 28  calculated_host_listings_count_shared_rooms   1032 non-null   int64  \n",
      " 29  price                                         1032 non-null   object \n",
      "dtypes: float64(9), int64(7), object(14)\n",
      "memory usage: 249.9+ KB\n"
     ]
    }
   ],
   "source": [
    "data.info()"
   ]
  },
  {
   "cell_type": "markdown",
   "id": "1d65cf92",
   "metadata": {},
   "source": [
    "#### 01.a Exploring columns with Object data type"
   ]
  },
  {
   "cell_type": "code",
   "execution_count": 15,
   "id": "3a3342e8",
   "metadata": {},
   "outputs": [],
   "source": [
    "obj_cols = data.select_dtypes(include=['object']).columns"
   ]
  },
  {
   "cell_type": "code",
   "execution_count": 16,
   "id": "0df1cee4",
   "metadata": {},
   "outputs": [],
   "source": [
    "obj_data = data[obj_cols]"
   ]
  },
  {
   "cell_type": "code",
   "execution_count": 17,
   "id": "d177f82a",
   "metadata": {},
   "outputs": [
    {
     "data": {
      "text/plain": [
       "Index(['host_response_time', 'host_response_rate', 'host_acceptance_rate',\n",
       "       'host_is_superhost', 'host_verifications', 'host_has_profile_pic',\n",
       "       'host_identity_verified', 'neighbourhood', 'property_type', 'room_type',\n",
       "       'bathrooms_text', 'amenities', 'instant_bookable', 'price'],\n",
       "      dtype='object')"
      ]
     },
     "execution_count": 17,
     "metadata": {},
     "output_type": "execute_result"
    }
   ],
   "source": [
    "obj_cols"
   ]
  },
  {
   "cell_type": "code",
   "execution_count": 18,
   "id": "720d7bbd",
   "metadata": {},
   "outputs": [
    {
     "data": {
      "text/plain": [
       "(147,\n",
       " within an hour        689\n",
       " within a few hours    135\n",
       " within a day           57\n",
       " a few days or more      4\n",
       " Name: host_response_time, dtype: int64)"
      ]
     },
     "execution_count": 18,
     "metadata": {},
     "output_type": "execute_result"
    }
   ],
   "source": [
    "obj_data['host_response_time'].isna().sum(), obj_data['host_response_time'].value_counts()"
   ]
  },
  {
   "cell_type": "code",
   "execution_count": 19,
   "id": "16757ca2",
   "metadata": {
    "scrolled": true
   },
   "outputs": [
    {
     "data": {
      "text/plain": [
       "(147,\n",
       " 100%    675\n",
       " 98%      65\n",
       " 99%      61\n",
       " 90%      11\n",
       " 50%       9\n",
       " 97%       8\n",
       " 88%       6\n",
       " 94%       6\n",
       " 91%       6\n",
       " 0%        4\n",
       " 89%       4\n",
       " 86%       4\n",
       " 93%       4\n",
       " 80%       3\n",
       " 83%       3\n",
       " 92%       3\n",
       " 96%       3\n",
       " 67%       2\n",
       " 63%       2\n",
       " 75%       2\n",
       " 70%       1\n",
       " 95%       1\n",
       " 87%       1\n",
       " 60%       1\n",
       " Name: host_response_rate, dtype: int64)"
      ]
     },
     "execution_count": 19,
     "metadata": {},
     "output_type": "execute_result"
    }
   ],
   "source": [
    "obj_data['host_response_rate'].isna().sum(), obj_data['host_response_rate'].value_counts()"
   ]
  },
  {
   "cell_type": "code",
   "execution_count": 20,
   "id": "07f52f19",
   "metadata": {
    "scrolled": false
   },
   "outputs": [
    {
     "data": {
      "text/plain": [
       "(50,\n",
       " 100%    275\n",
       " 98%     130\n",
       " 99%      68\n",
       " 97%      62\n",
       " 72%      61\n",
       "        ... \n",
       " 69%       1\n",
       " 59%       1\n",
       " 44%       1\n",
       " 47%       1\n",
       " 64%       1\n",
       " Name: host_acceptance_rate, Length: 62, dtype: int64)"
      ]
     },
     "execution_count": 20,
     "metadata": {},
     "output_type": "execute_result"
    }
   ],
   "source": [
    "obj_data['host_acceptance_rate'].isna().sum(), obj_data['host_acceptance_rate'].value_counts()"
   ]
  },
  {
   "cell_type": "code",
   "execution_count": 21,
   "id": "6dc5c7bc",
   "metadata": {},
   "outputs": [
    {
     "data": {
      "text/plain": [
       "(0,\n",
       " f    650\n",
       " t    382\n",
       " Name: host_is_superhost, dtype: int64)"
      ]
     },
     "execution_count": 21,
     "metadata": {},
     "output_type": "execute_result"
    }
   ],
   "source": [
    "obj_data['host_is_superhost'].isna().sum(), obj_data['host_is_superhost'].value_counts()"
   ]
  },
  {
   "cell_type": "code",
   "execution_count": 22,
   "id": "a65c529c",
   "metadata": {},
   "outputs": [
    {
     "data": {
      "text/plain": [
       "(0,\n",
       " ['email', 'phone']                  810\n",
       " ['email', 'phone', 'work_email']    165\n",
       " ['phone']                            42\n",
       " ['phone', 'work_email']              12\n",
       " []                                    2\n",
       " ['email']                             1\n",
       " Name: host_verifications, dtype: int64)"
      ]
     },
     "execution_count": 22,
     "metadata": {},
     "output_type": "execute_result"
    }
   ],
   "source": [
    "obj_data['host_verifications'].isna().sum(), obj_data['host_verifications'].value_counts()"
   ]
  },
  {
   "cell_type": "code",
   "execution_count": 23,
   "id": "1da6ea97",
   "metadata": {},
   "outputs": [
    {
     "data": {
      "text/plain": [
       "(0,\n",
       " t    1029\n",
       " f       3\n",
       " Name: host_has_profile_pic, dtype: int64)"
      ]
     },
     "execution_count": 23,
     "metadata": {},
     "output_type": "execute_result"
    }
   ],
   "source": [
    "obj_data['host_has_profile_pic'].isna().sum(), obj_data['host_has_profile_pic'].value_counts()"
   ]
  },
  {
   "cell_type": "code",
   "execution_count": 24,
   "id": "c4d2d9e9",
   "metadata": {},
   "outputs": [
    {
     "data": {
      "text/plain": [
       "(0,\n",
       " t    988\n",
       " f     44\n",
       " Name: host_identity_verified, dtype: int64)"
      ]
     },
     "execution_count": 24,
     "metadata": {},
     "output_type": "execute_result"
    }
   ],
   "source": [
    "obj_data['host_identity_verified'].isna().sum(), obj_data['host_identity_verified'].value_counts()"
   ]
  },
  {
   "cell_type": "code",
   "execution_count": 25,
   "id": "35d382e6",
   "metadata": {},
   "outputs": [
    {
     "data": {
      "text/plain": [
       "(0,\n",
       " City of Bristol, England, United Kingdom           363\n",
       " Bristol City, England, United Kingdom              320\n",
       " Bristol, England, United Kingdom                   192\n",
       " Bristol, United Kingdom                             97\n",
       " Bristol, City of Bristol, United Kingdom            10\n",
       " Bristol, Avon, United Kingdom                        8\n",
       " Clifton, Bristol, United Kingdom                     6\n",
       " Bristol, UK, United Kingdom                          6\n",
       " City of Bristol, Bristol, United Kingdom             6\n",
       " Redland, Bristol, United Kingdom                     4\n",
       " Bristol City, Southville, United Kingdom             3\n",
       " Bristol, Somerset, United Kingdom                    3\n",
       " Bristol , England, United Kingdom                    2\n",
       " City of Bristol, Avon, United Kingdom                2\n",
       " Bristol, St Andrews, United Kingdom                  1\n",
       " Bristol, south glos, United Kingdom                  1\n",
       " Bristol, Westbury on Trym, United Kingdom            1\n",
       " Easton, Bristol, United Kingdom                      1\n",
       " Bristol, Dorset, United Kingdom                      1\n",
       " Center City of Bristol, England, United Kingdom      1\n",
       " Bristol, ., United Kingdom                           1\n",
       " Stockwood, Bristol, England, United Kingdom          1\n",
       " Bristol , Avon, United Kingdom                       1\n",
       " Bristol City, United Kingdom                         1\n",
       " Name: neighbourhood, dtype: int64)"
      ]
     },
     "execution_count": 25,
     "metadata": {},
     "output_type": "execute_result"
    }
   ],
   "source": [
    "obj_data['neighbourhood'].isna().sum(), obj_data['neighbourhood'].value_counts()"
   ]
  },
  {
   "cell_type": "code",
   "execution_count": 26,
   "id": "095024f0",
   "metadata": {
    "scrolled": true
   },
   "outputs": [
    {
     "data": {
      "text/plain": [
       "(0,\n",
       " Entire rental unit                    234\n",
       " Private room in home                  177\n",
       " Entire home                           170\n",
       " Private room in rental unit            99\n",
       " Entire serviced apartment              65\n",
       " Private room in townhouse              63\n",
       " Entire condo                           62\n",
       " Entire townhouse                       36\n",
       " Private room in condo                  24\n",
       " Private room in bed and breakfast      15\n",
       " Entire guest suite                     14\n",
       " Entire loft                            10\n",
       " Tiny home                               9\n",
       " Room in serviced apartment              9\n",
       " Entire guesthouse                       8\n",
       " Entire cottage                          6\n",
       " Private room in guest suite             5\n",
       " Private room in bungalow                3\n",
       " Private room                            3\n",
       " Room in aparthotel                      3\n",
       " Private room in serviced apartment      2\n",
       " Private room in tiny home               2\n",
       " Private room in loft                    2\n",
       " Room in hotel                           2\n",
       " Houseboat                               1\n",
       " Private room in cabin                   1\n",
       " Shared room in home                     1\n",
       " Entire bungalow                         1\n",
       " Private room in yurt                    1\n",
       " Barn                                    1\n",
       " Private room in castle                  1\n",
       " Camper/RV                               1\n",
       " Entire place                            1\n",
       " Name: property_type, dtype: int64)"
      ]
     },
     "execution_count": 26,
     "metadata": {},
     "output_type": "execute_result"
    }
   ],
   "source": [
    "obj_data['property_type'].isna().sum(), obj_data['property_type'].value_counts()"
   ]
  },
  {
   "cell_type": "code",
   "execution_count": 27,
   "id": "22c57679",
   "metadata": {},
   "outputs": [
    {
     "data": {
      "text/plain": [
       "(0,\n",
       " Entire home/apt    619\n",
       " Private room       401\n",
       " Hotel room          11\n",
       " Shared room          1\n",
       " Name: room_type, dtype: int64)"
      ]
     },
     "execution_count": 27,
     "metadata": {},
     "output_type": "execute_result"
    }
   ],
   "source": [
    "obj_data['room_type'].isna().sum(), obj_data['room_type'].value_counts()"
   ]
  },
  {
   "cell_type": "code",
   "execution_count": 28,
   "id": "73acbb5e",
   "metadata": {
    "scrolled": false
   },
   "outputs": [
    {
     "data": {
      "text/plain": [
       "(1,\n",
       " 1 bath              432\n",
       " 1 shared bath       164\n",
       " 1 private bath      136\n",
       " 2 baths              90\n",
       " 1.5 baths            78\n",
       " 1.5 shared baths     43\n",
       " 2.5 baths            32\n",
       " 3 baths              22\n",
       " 2 shared baths        9\n",
       " 3.5 baths             6\n",
       " 4.5 baths             4\n",
       " Shared half-bath      4\n",
       " 2.5 shared baths      3\n",
       " 5 baths               3\n",
       " 3 shared baths        2\n",
       " 7 baths               1\n",
       " 6 baths               1\n",
       " Half-bath             1\n",
       " Name: bathrooms_text, dtype: int64)"
      ]
     },
     "execution_count": 28,
     "metadata": {},
     "output_type": "execute_result"
    }
   ],
   "source": [
    "obj_data['bathrooms_text'].isna().sum(), obj_data['bathrooms_text'].value_counts()"
   ]
  },
  {
   "cell_type": "code",
   "execution_count": 31,
   "id": "ea2754c5",
   "metadata": {},
   "outputs": [
    {
     "data": {
      "text/plain": [
       "(0,\n",
       " f    792\n",
       " t    240\n",
       " Name: instant_bookable, dtype: int64)"
      ]
     },
     "execution_count": 31,
     "metadata": {},
     "output_type": "execute_result"
    }
   ],
   "source": [
    "obj_data['instant_bookable'].isna().sum(), obj_data['instant_bookable'].value_counts()"
   ]
  },
  {
   "cell_type": "code",
   "execution_count": null,
   "id": "be7a8d3f",
   "metadata": {},
   "outputs": [],
   "source": []
  },
  {
   "cell_type": "markdown",
   "id": "1e7008c3",
   "metadata": {},
   "source": [
    "#### 01.b Exploring columns with Numerical data type"
   ]
  },
  {
   "cell_type": "code",
   "execution_count": 32,
   "id": "5b455a86",
   "metadata": {},
   "outputs": [],
   "source": [
    "numerical_cols = data.select_dtypes(include=['int64', 'float64']).columns"
   ]
  },
  {
   "cell_type": "code",
   "execution_count": 33,
   "id": "b4439eb8",
   "metadata": {},
   "outputs": [
    {
     "data": {
      "text/plain": [
       "Index(['accommodates', 'bedrooms', 'beds', 'number_of_reviews_ltm',\n",
       "       'number_of_reviews_l30d', 'review_scores_rating',\n",
       "       'review_scores_accuracy', 'review_scores_cleanliness',\n",
       "       'review_scores_checkin', 'review_scores_communication',\n",
       "       'review_scores_location', 'review_scores_value',\n",
       "       'calculated_host_listings_count',\n",
       "       'calculated_host_listings_count_entire_homes',\n",
       "       'calculated_host_listings_count_private_rooms',\n",
       "       'calculated_host_listings_count_shared_rooms'],\n",
       "      dtype='object')"
      ]
     },
     "execution_count": 33,
     "metadata": {},
     "output_type": "execute_result"
    }
   ],
   "source": [
    "numerical_cols"
   ]
  },
  {
   "cell_type": "code",
   "execution_count": 34,
   "id": "626c7d58",
   "metadata": {},
   "outputs": [],
   "source": [
    "numerical_data = data[numerical_cols]"
   ]
  },
  {
   "cell_type": "code",
   "execution_count": 35,
   "id": "73e89d72",
   "metadata": {},
   "outputs": [
    {
     "data": {
      "text/html": [
       "<div>\n",
       "<style scoped>\n",
       "    .dataframe tbody tr th:only-of-type {\n",
       "        vertical-align: middle;\n",
       "    }\n",
       "\n",
       "    .dataframe tbody tr th {\n",
       "        vertical-align: top;\n",
       "    }\n",
       "\n",
       "    .dataframe thead th {\n",
       "        text-align: right;\n",
       "    }\n",
       "</style>\n",
       "<table border=\"1\" class=\"dataframe\">\n",
       "  <thead>\n",
       "    <tr style=\"text-align: right;\">\n",
       "      <th></th>\n",
       "      <th>accommodates</th>\n",
       "      <th>bedrooms</th>\n",
       "      <th>beds</th>\n",
       "      <th>number_of_reviews_ltm</th>\n",
       "      <th>number_of_reviews_l30d</th>\n",
       "      <th>review_scores_rating</th>\n",
       "      <th>review_scores_accuracy</th>\n",
       "      <th>review_scores_cleanliness</th>\n",
       "      <th>review_scores_checkin</th>\n",
       "      <th>review_scores_communication</th>\n",
       "      <th>review_scores_location</th>\n",
       "      <th>review_scores_value</th>\n",
       "      <th>calculated_host_listings_count</th>\n",
       "      <th>calculated_host_listings_count_entire_homes</th>\n",
       "      <th>calculated_host_listings_count_private_rooms</th>\n",
       "      <th>calculated_host_listings_count_shared_rooms</th>\n",
       "    </tr>\n",
       "  </thead>\n",
       "  <tbody>\n",
       "    <tr>\n",
       "      <th>count</th>\n",
       "      <td>1032.000000</td>\n",
       "      <td>979.000000</td>\n",
       "      <td>1005.000000</td>\n",
       "      <td>1032.000000</td>\n",
       "      <td>1032.000000</td>\n",
       "      <td>920.000000</td>\n",
       "      <td>918.000000</td>\n",
       "      <td>918.000000</td>\n",
       "      <td>918.000000</td>\n",
       "      <td>918.000000</td>\n",
       "      <td>918.000000</td>\n",
       "      <td>918.000000</td>\n",
       "      <td>1032.000000</td>\n",
       "      <td>1032.000000</td>\n",
       "      <td>1032.000000</td>\n",
       "      <td>1032.000000</td>\n",
       "    </tr>\n",
       "    <tr>\n",
       "      <th>mean</th>\n",
       "      <td>3.302326</td>\n",
       "      <td>1.642492</td>\n",
       "      <td>2.039801</td>\n",
       "      <td>16.679264</td>\n",
       "      <td>1.246124</td>\n",
       "      <td>4.734359</td>\n",
       "      <td>4.812015</td>\n",
       "      <td>4.761351</td>\n",
       "      <td>4.864357</td>\n",
       "      <td>4.834455</td>\n",
       "      <td>4.782614</td>\n",
       "      <td>4.672985</td>\n",
       "      <td>17.626938</td>\n",
       "      <td>12.415698</td>\n",
       "      <td>4.531008</td>\n",
       "      <td>0.001938</td>\n",
       "    </tr>\n",
       "    <tr>\n",
       "      <th>std</th>\n",
       "      <td>2.347931</td>\n",
       "      <td>1.082899</td>\n",
       "      <td>1.793194</td>\n",
       "      <td>22.841987</td>\n",
       "      <td>2.141793</td>\n",
       "      <td>0.417342</td>\n",
       "      <td>0.311637</td>\n",
       "      <td>0.317527</td>\n",
       "      <td>0.311846</td>\n",
       "      <td>0.359569</td>\n",
       "      <td>0.276998</td>\n",
       "      <td>0.363929</td>\n",
       "      <td>38.103073</td>\n",
       "      <td>33.725897</td>\n",
       "      <td>13.903611</td>\n",
       "      <td>0.044001</td>\n",
       "    </tr>\n",
       "    <tr>\n",
       "      <th>min</th>\n",
       "      <td>1.000000</td>\n",
       "      <td>1.000000</td>\n",
       "      <td>1.000000</td>\n",
       "      <td>0.000000</td>\n",
       "      <td>0.000000</td>\n",
       "      <td>0.000000</td>\n",
       "      <td>1.000000</td>\n",
       "      <td>1.000000</td>\n",
       "      <td>1.000000</td>\n",
       "      <td>1.000000</td>\n",
       "      <td>1.000000</td>\n",
       "      <td>1.000000</td>\n",
       "      <td>1.000000</td>\n",
       "      <td>0.000000</td>\n",
       "      <td>0.000000</td>\n",
       "      <td>0.000000</td>\n",
       "    </tr>\n",
       "    <tr>\n",
       "      <th>25%</th>\n",
       "      <td>2.000000</td>\n",
       "      <td>1.000000</td>\n",
       "      <td>1.000000</td>\n",
       "      <td>1.000000</td>\n",
       "      <td>0.000000</td>\n",
       "      <td>4.670000</td>\n",
       "      <td>4.770000</td>\n",
       "      <td>4.670000</td>\n",
       "      <td>4.850000</td>\n",
       "      <td>4.830000</td>\n",
       "      <td>4.720000</td>\n",
       "      <td>4.600000</td>\n",
       "      <td>1.000000</td>\n",
       "      <td>0.000000</td>\n",
       "      <td>0.000000</td>\n",
       "      <td>0.000000</td>\n",
       "    </tr>\n",
       "    <tr>\n",
       "      <th>50%</th>\n",
       "      <td>2.000000</td>\n",
       "      <td>1.000000</td>\n",
       "      <td>1.000000</td>\n",
       "      <td>8.000000</td>\n",
       "      <td>0.000000</td>\n",
       "      <td>4.850000</td>\n",
       "      <td>4.900000</td>\n",
       "      <td>4.850000</td>\n",
       "      <td>4.940000</td>\n",
       "      <td>4.940000</td>\n",
       "      <td>4.840000</td>\n",
       "      <td>4.770000</td>\n",
       "      <td>2.000000</td>\n",
       "      <td>1.000000</td>\n",
       "      <td>0.000000</td>\n",
       "      <td>0.000000</td>\n",
       "    </tr>\n",
       "    <tr>\n",
       "      <th>75%</th>\n",
       "      <td>4.000000</td>\n",
       "      <td>2.000000</td>\n",
       "      <td>2.000000</td>\n",
       "      <td>23.000000</td>\n",
       "      <td>2.000000</td>\n",
       "      <td>4.940000</td>\n",
       "      <td>4.967500</td>\n",
       "      <td>4.960000</td>\n",
       "      <td>5.000000</td>\n",
       "      <td>5.000000</td>\n",
       "      <td>4.940000</td>\n",
       "      <td>4.880000</td>\n",
       "      <td>6.000000</td>\n",
       "      <td>2.000000</td>\n",
       "      <td>2.000000</td>\n",
       "      <td>0.000000</td>\n",
       "    </tr>\n",
       "    <tr>\n",
       "      <th>max</th>\n",
       "      <td>16.000000</td>\n",
       "      <td>9.000000</td>\n",
       "      <td>21.000000</td>\n",
       "      <td>170.000000</td>\n",
       "      <td>15.000000</td>\n",
       "      <td>5.000000</td>\n",
       "      <td>5.000000</td>\n",
       "      <td>5.000000</td>\n",
       "      <td>5.000000</td>\n",
       "      <td>5.000000</td>\n",
       "      <td>5.000000</td>\n",
       "      <td>5.000000</td>\n",
       "      <td>148.000000</td>\n",
       "      <td>134.000000</td>\n",
       "      <td>60.000000</td>\n",
       "      <td>1.000000</td>\n",
       "    </tr>\n",
       "  </tbody>\n",
       "</table>\n",
       "</div>"
      ],
      "text/plain": [
       "       accommodates    bedrooms         beds  number_of_reviews_ltm  \\\n",
       "count   1032.000000  979.000000  1005.000000            1032.000000   \n",
       "mean       3.302326    1.642492     2.039801              16.679264   \n",
       "std        2.347931    1.082899     1.793194              22.841987   \n",
       "min        1.000000    1.000000     1.000000               0.000000   \n",
       "25%        2.000000    1.000000     1.000000               1.000000   \n",
       "50%        2.000000    1.000000     1.000000               8.000000   \n",
       "75%        4.000000    2.000000     2.000000              23.000000   \n",
       "max       16.000000    9.000000    21.000000             170.000000   \n",
       "\n",
       "       number_of_reviews_l30d  review_scores_rating  review_scores_accuracy  \\\n",
       "count             1032.000000            920.000000              918.000000   \n",
       "mean                 1.246124              4.734359                4.812015   \n",
       "std                  2.141793              0.417342                0.311637   \n",
       "min                  0.000000              0.000000                1.000000   \n",
       "25%                  0.000000              4.670000                4.770000   \n",
       "50%                  0.000000              4.850000                4.900000   \n",
       "75%                  2.000000              4.940000                4.967500   \n",
       "max                 15.000000              5.000000                5.000000   \n",
       "\n",
       "       review_scores_cleanliness  review_scores_checkin  \\\n",
       "count                 918.000000             918.000000   \n",
       "mean                    4.761351               4.864357   \n",
       "std                     0.317527               0.311846   \n",
       "min                     1.000000               1.000000   \n",
       "25%                     4.670000               4.850000   \n",
       "50%                     4.850000               4.940000   \n",
       "75%                     4.960000               5.000000   \n",
       "max                     5.000000               5.000000   \n",
       "\n",
       "       review_scores_communication  review_scores_location  \\\n",
       "count                   918.000000              918.000000   \n",
       "mean                      4.834455                4.782614   \n",
       "std                       0.359569                0.276998   \n",
       "min                       1.000000                1.000000   \n",
       "25%                       4.830000                4.720000   \n",
       "50%                       4.940000                4.840000   \n",
       "75%                       5.000000                4.940000   \n",
       "max                       5.000000                5.000000   \n",
       "\n",
       "       review_scores_value  calculated_host_listings_count  \\\n",
       "count           918.000000                     1032.000000   \n",
       "mean              4.672985                       17.626938   \n",
       "std               0.363929                       38.103073   \n",
       "min               1.000000                        1.000000   \n",
       "25%               4.600000                        1.000000   \n",
       "50%               4.770000                        2.000000   \n",
       "75%               4.880000                        6.000000   \n",
       "max               5.000000                      148.000000   \n",
       "\n",
       "       calculated_host_listings_count_entire_homes  \\\n",
       "count                                  1032.000000   \n",
       "mean                                     12.415698   \n",
       "std                                      33.725897   \n",
       "min                                       0.000000   \n",
       "25%                                       0.000000   \n",
       "50%                                       1.000000   \n",
       "75%                                       2.000000   \n",
       "max                                     134.000000   \n",
       "\n",
       "       calculated_host_listings_count_private_rooms  \\\n",
       "count                                   1032.000000   \n",
       "mean                                       4.531008   \n",
       "std                                       13.903611   \n",
       "min                                        0.000000   \n",
       "25%                                        0.000000   \n",
       "50%                                        0.000000   \n",
       "75%                                        2.000000   \n",
       "max                                       60.000000   \n",
       "\n",
       "       calculated_host_listings_count_shared_rooms  \n",
       "count                                  1032.000000  \n",
       "mean                                      0.001938  \n",
       "std                                       0.044001  \n",
       "min                                       0.000000  \n",
       "25%                                       0.000000  \n",
       "50%                                       0.000000  \n",
       "75%                                       0.000000  \n",
       "max                                       1.000000  "
      ]
     },
     "execution_count": 35,
     "metadata": {},
     "output_type": "execute_result"
    }
   ],
   "source": [
    "numerical_data.describe()"
   ]
  },
  {
   "cell_type": "code",
   "execution_count": 36,
   "id": "bf116979",
   "metadata": {},
   "outputs": [
    {
     "data": {
      "text/plain": [
       "(1032, 16)"
      ]
     },
     "execution_count": 36,
     "metadata": {},
     "output_type": "execute_result"
    }
   ],
   "source": [
    "numerical_data.shape"
   ]
  },
  {
   "cell_type": "code",
   "execution_count": null,
   "id": "9e91f509",
   "metadata": {},
   "outputs": [],
   "source": []
  },
  {
   "cell_type": "markdown",
   "id": "153c88cd",
   "metadata": {},
   "source": [
    "### 2. Cleaning the Data"
   ]
  },
  {
   "cell_type": "markdown",
   "id": "da2a7b27",
   "metadata": {},
   "source": [
    "#### 2.a Cleaning numerical data"
   ]
  },
  {
   "cell_type": "code",
   "execution_count": 37,
   "id": "473ecb33",
   "metadata": {},
   "outputs": [
    {
     "name": "stderr",
     "output_type": "stream",
     "text": [
      "C:\\Users\\dev3w\\AppData\\Local\\Temp\\ipykernel_17672\\1966363746.py:6: SettingWithCopyWarning: \n",
      "A value is trying to be set on a copy of a slice from a DataFrame.\n",
      "Try using .loc[row_indexer,col_indexer] = value instead\n",
      "\n",
      "See the caveats in the documentation: https://pandas.pydata.org/pandas-docs/stable/user_guide/indexing.html#returning-a-view-versus-a-copy\n",
      "  numerical_data[col] = numerical_data[col].fillna(numerical_data[col].mean())\n"
     ]
    }
   ],
   "source": [
    "for col in numerical_cols:\n",
    "    if numerical_data[col].isna().sum():\n",
    "        if numerical_data[col].dtype == 'int64':\n",
    "            numerical_data[col] = numerical_data[col].fillna(numerical_data[col].median())\n",
    "        elif numerical_data[col].dtype == 'float64':\n",
    "            numerical_data[col] = numerical_data[col].fillna(numerical_data[col].mean())"
   ]
  },
  {
   "cell_type": "code",
   "execution_count": 38,
   "id": "3147ea74",
   "metadata": {},
   "outputs": [
    {
     "name": "stderr",
     "output_type": "stream",
     "text": [
      "C:\\Users\\dev3w\\AppData\\Local\\Temp\\ipykernel_17672\\2075073306.py:1: SettingWithCopyWarning: \n",
      "A value is trying to be set on a copy of a slice from a DataFrame.\n",
      "Try using .loc[row_indexer,col_indexer] = value instead\n",
      "\n",
      "See the caveats in the documentation: https://pandas.pydata.org/pandas-docs/stable/user_guide/indexing.html#returning-a-view-versus-a-copy\n",
      "  numerical_data['beds'] = numerical_data['beds'].astype('int64')\n",
      "C:\\Users\\dev3w\\AppData\\Local\\Temp\\ipykernel_17672\\2075073306.py:2: SettingWithCopyWarning: \n",
      "A value is trying to be set on a copy of a slice from a DataFrame.\n",
      "Try using .loc[row_indexer,col_indexer] = value instead\n",
      "\n",
      "See the caveats in the documentation: https://pandas.pydata.org/pandas-docs/stable/user_guide/indexing.html#returning-a-view-versus-a-copy\n",
      "  numerical_data['bedrooms'] = numerical_data['bedrooms'].astype('int64')\n"
     ]
    }
   ],
   "source": [
    "numerical_data['beds'] = numerical_data['beds'].astype('int64')\n",
    "numerical_data['bedrooms'] = numerical_data['bedrooms'].astype('int64')"
   ]
  },
  {
   "cell_type": "code",
   "execution_count": 39,
   "id": "eec653cb",
   "metadata": {},
   "outputs": [],
   "source": [
    "numerical_data = numerical_data.reset_index(drop=True)"
   ]
  },
  {
   "cell_type": "code",
   "execution_count": 40,
   "id": "02b2f216",
   "metadata": {
    "scrolled": false
   },
   "outputs": [
    {
     "name": "stdout",
     "output_type": "stream",
     "text": [
      "<class 'pandas.core.frame.DataFrame'>\n",
      "RangeIndex: 1032 entries, 0 to 1031\n",
      "Data columns (total 16 columns):\n",
      " #   Column                                        Non-Null Count  Dtype  \n",
      "---  ------                                        --------------  -----  \n",
      " 0   accommodates                                  1032 non-null   int64  \n",
      " 1   bedrooms                                      1032 non-null   int64  \n",
      " 2   beds                                          1032 non-null   int64  \n",
      " 3   number_of_reviews_ltm                         1032 non-null   int64  \n",
      " 4   number_of_reviews_l30d                        1032 non-null   int64  \n",
      " 5   review_scores_rating                          1032 non-null   float64\n",
      " 6   review_scores_accuracy                        1032 non-null   float64\n",
      " 7   review_scores_cleanliness                     1032 non-null   float64\n",
      " 8   review_scores_checkin                         1032 non-null   float64\n",
      " 9   review_scores_communication                   1032 non-null   float64\n",
      " 10  review_scores_location                        1032 non-null   float64\n",
      " 11  review_scores_value                           1032 non-null   float64\n",
      " 12  calculated_host_listings_count                1032 non-null   int64  \n",
      " 13  calculated_host_listings_count_entire_homes   1032 non-null   int64  \n",
      " 14  calculated_host_listings_count_private_rooms  1032 non-null   int64  \n",
      " 15  calculated_host_listings_count_shared_rooms   1032 non-null   int64  \n",
      "dtypes: float64(7), int64(9)\n",
      "memory usage: 129.1 KB\n"
     ]
    }
   ],
   "source": [
    "numerical_data.info()"
   ]
  },
  {
   "cell_type": "code",
   "execution_count": null,
   "id": "66780727",
   "metadata": {},
   "outputs": [],
   "source": []
  },
  {
   "cell_type": "markdown",
   "id": "c1dd1da1",
   "metadata": {},
   "source": [
    "#### 2.b Cleaning object type data"
   ]
  },
  {
   "cell_type": "code",
   "execution_count": 42,
   "id": "fff6ccb6",
   "metadata": {},
   "outputs": [],
   "source": [
    "impute = SimpleImputer(strategy='most_frequent')"
   ]
  },
  {
   "cell_type": "code",
   "execution_count": 43,
   "id": "7cd37f3d",
   "metadata": {},
   "outputs": [
    {
     "name": "stderr",
     "output_type": "stream",
     "text": [
      "C:\\Users\\dev3w\\AppData\\Local\\Temp\\ipykernel_17672\\3586505857.py:4: SettingWithCopyWarning: \n",
      "A value is trying to be set on a copy of a slice from a DataFrame.\n",
      "Try using .loc[row_indexer,col_indexer] = value instead\n",
      "\n",
      "See the caveats in the documentation: https://pandas.pydata.org/pandas-docs/stable/user_guide/indexing.html#returning-a-view-versus-a-copy\n",
      "  obj_data[col] = impute.fit_transform(obj_data[[col]])\n",
      "C:\\Users\\dev3w\\AppData\\Local\\Temp\\ipykernel_17672\\3586505857.py:4: SettingWithCopyWarning: \n",
      "A value is trying to be set on a copy of a slice from a DataFrame.\n",
      "Try using .loc[row_indexer,col_indexer] = value instead\n",
      "\n",
      "See the caveats in the documentation: https://pandas.pydata.org/pandas-docs/stable/user_guide/indexing.html#returning-a-view-versus-a-copy\n",
      "  obj_data[col] = impute.fit_transform(obj_data[[col]])\n",
      "C:\\Users\\dev3w\\AppData\\Local\\Temp\\ipykernel_17672\\3586505857.py:4: SettingWithCopyWarning: \n",
      "A value is trying to be set on a copy of a slice from a DataFrame.\n",
      "Try using .loc[row_indexer,col_indexer] = value instead\n",
      "\n",
      "See the caveats in the documentation: https://pandas.pydata.org/pandas-docs/stable/user_guide/indexing.html#returning-a-view-versus-a-copy\n",
      "  obj_data[col] = impute.fit_transform(obj_data[[col]])\n",
      "C:\\Users\\dev3w\\AppData\\Local\\Temp\\ipykernel_17672\\3586505857.py:4: SettingWithCopyWarning: \n",
      "A value is trying to be set on a copy of a slice from a DataFrame.\n",
      "Try using .loc[row_indexer,col_indexer] = value instead\n",
      "\n",
      "See the caveats in the documentation: https://pandas.pydata.org/pandas-docs/stable/user_guide/indexing.html#returning-a-view-versus-a-copy\n",
      "  obj_data[col] = impute.fit_transform(obj_data[[col]])\n"
     ]
    },
    {
     "name": "stdout",
     "output_type": "stream",
     "text": [
      "host_response_time\n",
      "host_response_rate\n",
      "host_acceptance_rate\n",
      "bathrooms_text\n"
     ]
    }
   ],
   "source": [
    "for col in obj_cols:\n",
    "    if obj_data[col].isna().sum():\n",
    "        print(col)\n",
    "        obj_data[col] = impute.fit_transform(obj_data[[col]])"
   ]
  },
  {
   "cell_type": "code",
   "execution_count": null,
   "id": "5d3577c0",
   "metadata": {},
   "outputs": [],
   "source": []
  },
  {
   "cell_type": "markdown",
   "id": "9eb2e02a",
   "metadata": {},
   "source": [
    "### 3. Creating Analytical Data Set (ADS)"
   ]
  },
  {
   "cell_type": "code",
   "execution_count": 45,
   "id": "9665dfbd",
   "metadata": {},
   "outputs": [],
   "source": [
    "ads = pd.DataFrame()"
   ]
  },
  {
   "cell_type": "code",
   "execution_count": 46,
   "id": "a0fd953a",
   "metadata": {},
   "outputs": [],
   "source": [
    "ohe = OneHotEncoder()"
   ]
  },
  {
   "cell_type": "code",
   "execution_count": 47,
   "id": "8223cfbb",
   "metadata": {},
   "outputs": [],
   "source": [
    "# host_response_time\n",
    "host_response_time = pd.DataFrame(ohe.fit_transform(obj_data[['host_response_time']]).toarray(),columns=ohe.get_feature_names_out())\n",
    "ads = pd.concat([ads, host_response_time], axis = 1)"
   ]
  },
  {
   "cell_type": "code",
   "execution_count": 48,
   "id": "19c4d510",
   "metadata": {},
   "outputs": [],
   "source": [
    "# host_response_rate\n",
    "def response_cat(response_rate):\n",
    "    if response_rate == 100:\n",
    "        return '100'\n",
    "    elif response_rate >= 95 and response_rate <100:\n",
    "        return 'over_95'\n",
    "    elif response_rate >= 90 and response_rate <95:\n",
    "        return 'over_90'\n",
    "    elif response_rate >= 70 and response_rate <90:\n",
    "        return 'over_70'\n",
    "    else:\n",
    "        return 'below_70'"
   ]
  },
  {
   "cell_type": "code",
   "execution_count": 50,
   "id": "6a5a8a3e",
   "metadata": {},
   "outputs": [
    {
     "name": "stderr",
     "output_type": "stream",
     "text": [
      "C:\\Users\\dev3w\\AppData\\Local\\Temp\\ipykernel_17672\\121515869.py:1: SettingWithCopyWarning: \n",
      "A value is trying to be set on a copy of a slice from a DataFrame.\n",
      "Try using .loc[row_indexer,col_indexer] = value instead\n",
      "\n",
      "See the caveats in the documentation: https://pandas.pydata.org/pandas-docs/stable/user_guide/indexing.html#returning-a-view-versus-a-copy\n",
      "  obj_data['host_response_rate'] = obj_data['host_response_rate'].str.replace('%','').astype('int')\n",
      "C:\\Users\\dev3w\\AppData\\Local\\Temp\\ipykernel_17672\\121515869.py:2: SettingWithCopyWarning: \n",
      "A value is trying to be set on a copy of a slice from a DataFrame.\n",
      "Try using .loc[row_indexer,col_indexer] = value instead\n",
      "\n",
      "See the caveats in the documentation: https://pandas.pydata.org/pandas-docs/stable/user_guide/indexing.html#returning-a-view-versus-a-copy\n",
      "  obj_data['host_response_rate_cat'] = obj_data['host_response_rate'].apply(response_cat)\n"
     ]
    }
   ],
   "source": [
    "obj_data['host_response_rate'] = obj_data['host_response_rate'].str.replace('%','').astype('int')\n",
    "obj_data['host_response_rate_cat'] = obj_data['host_response_rate'].apply(response_cat)\n",
    "obj_data['host_response_rate_cat'].value_counts()\n",
    "\n",
    "host_response_rate_cat = pd.DataFrame(ohe.fit_transform(obj_data[['host_response_rate_cat']]).toarray(),columns=ohe.get_feature_names_out())\n",
    "ads = pd.concat([ads, host_response_rate_cat], axis = 1)"
   ]
  },
  {
   "cell_type": "code",
   "execution_count": 51,
   "id": "990be311",
   "metadata": {},
   "outputs": [
    {
     "name": "stderr",
     "output_type": "stream",
     "text": [
      "C:\\Users\\dev3w\\AppData\\Local\\Temp\\ipykernel_17672\\884073820.py:14: SettingWithCopyWarning: \n",
      "A value is trying to be set on a copy of a slice from a DataFrame.\n",
      "Try using .loc[row_indexer,col_indexer] = value instead\n",
      "\n",
      "See the caveats in the documentation: https://pandas.pydata.org/pandas-docs/stable/user_guide/indexing.html#returning-a-view-versus-a-copy\n",
      "  obj_data['host_acceptance_rate'] = obj_data['host_acceptance_rate'].str.replace('%','').astype('int')\n",
      "C:\\Users\\dev3w\\AppData\\Local\\Temp\\ipykernel_17672\\884073820.py:15: SettingWithCopyWarning: \n",
      "A value is trying to be set on a copy of a slice from a DataFrame.\n",
      "Try using .loc[row_indexer,col_indexer] = value instead\n",
      "\n",
      "See the caveats in the documentation: https://pandas.pydata.org/pandas-docs/stable/user_guide/indexing.html#returning-a-view-versus-a-copy\n",
      "  obj_data['host_acceptance_rate_cat'] = obj_data['host_acceptance_rate'].apply(acceptance_cat)\n"
     ]
    }
   ],
   "source": [
    "# host_acceptance_rate\n",
    "def acceptance_cat(acceptance_rate):\n",
    "    if acceptance_rate == 100:\n",
    "        return '100'\n",
    "    elif acceptance_rate >= 95 and acceptance_rate <100:\n",
    "        return 'over_95'\n",
    "    elif acceptance_rate >= 90 and acceptance_rate <95:\n",
    "        return 'over_90'\n",
    "    elif acceptance_rate >= 70 and acceptance_rate <90:\n",
    "        return 'over_70'\n",
    "    else:\n",
    "        return 'below_70'\n",
    "\n",
    "obj_data['host_acceptance_rate'] = obj_data['host_acceptance_rate'].str.replace('%','').astype('int')\n",
    "obj_data['host_acceptance_rate_cat'] = obj_data['host_acceptance_rate'].apply(acceptance_cat)\n",
    "obj_data['host_acceptance_rate_cat'].value_counts()\n",
    "\n",
    "host_acceptance_rate_cat = pd.DataFrame(ohe.fit_transform(obj_data[['host_acceptance_rate_cat']]).toarray(),columns=ohe.get_feature_names_out())\n",
    "ads = pd.concat([ads, host_acceptance_rate_cat], axis = 1)"
   ]
  },
  {
   "cell_type": "code",
   "execution_count": 52,
   "id": "80b61019",
   "metadata": {},
   "outputs": [],
   "source": [
    "# host_is_superhost\n",
    "\n",
    "host_is_superhost = pd.DataFrame(ohe.fit_transform(obj_data[['host_is_superhost']]).toarray(),columns=ohe.get_feature_names_out())\n",
    "ads = pd.concat([ads, host_is_superhost], axis = 1)"
   ]
  },
  {
   "cell_type": "code",
   "execution_count": 54,
   "id": "ee6e23e8",
   "metadata": {},
   "outputs": [],
   "source": [
    "# host_verifications\n",
    "\n",
    "host_verifications = obj_data['host_verifications'].apply(lambda x: len(x.replace('[','').replace(']','').split(',')))\n",
    "host_verifications = host_verifications.reset_index(drop = True)\n",
    "ads = pd.concat([ads, host_verifications], axis = 1)"
   ]
  },
  {
   "cell_type": "code",
   "execution_count": 55,
   "id": "3bc55a77",
   "metadata": {},
   "outputs": [],
   "source": [
    "# host_has_profile_pic\n",
    "\n",
    "host_has_profile_pic = pd.DataFrame(ohe.fit_transform(obj_data[['host_has_profile_pic']]).toarray(),columns=ohe.get_feature_names_out())\n",
    "ads = pd.concat([ads, host_has_profile_pic], axis = 1)"
   ]
  },
  {
   "cell_type": "code",
   "execution_count": 56,
   "id": "4a32e243",
   "metadata": {},
   "outputs": [],
   "source": [
    "# host_identity_verified\n",
    "\n",
    "host_identity_verified = pd.DataFrame(ohe.fit_transform(obj_data[['host_identity_verified']]).toarray(),columns=ohe.get_feature_names_out())\n",
    "ads = pd.concat([ads, host_identity_verified], axis = 1)"
   ]
  },
  {
   "cell_type": "code",
   "execution_count": 57,
   "id": "ac902709",
   "metadata": {},
   "outputs": [],
   "source": [
    "# property_type\n",
    "\n",
    "property_type = pd.DataFrame(ohe.fit_transform(obj_data[['property_type']]).toarray(),columns=ohe.get_feature_names_out())\n",
    "ads = pd.concat([ads, property_type], axis = 1)"
   ]
  },
  {
   "cell_type": "code",
   "execution_count": 58,
   "id": "ff6b8192",
   "metadata": {},
   "outputs": [],
   "source": [
    "# room_type\n",
    "\n",
    "room_type = pd.DataFrame(ohe.fit_transform(obj_data[['room_type']]).toarray(),columns=ohe.get_feature_names_out())\n",
    "ads = pd.concat([ads, room_type], axis = 1)"
   ]
  },
  {
   "cell_type": "code",
   "execution_count": 59,
   "id": "49b10a26",
   "metadata": {
    "scrolled": true
   },
   "outputs": [],
   "source": [
    "bathroom_count = obj_data['bathrooms_text'].apply(lambda x: x.replace('Shared half-bath', '0.5 shared').replace('Half-bath', '0.5 bath').split(' ')[0]).astype('float')\n",
    "bathroom_count = bathroom_count.reset_index(drop = True)\n",
    "bathroom_count = bathroom_count.rename('bathroom_count')"
   ]
  },
  {
   "cell_type": "code",
   "execution_count": 60,
   "id": "761422ea",
   "metadata": {},
   "outputs": [
    {
     "data": {
      "text/plain": [
       "0         1\n",
       "1       2.5\n",
       "2         1\n",
       "3       1.5\n",
       "4         3\n",
       "       ... \n",
       "2305      1\n",
       "2306      2\n",
       "2314      1\n",
       "2322    1.5\n",
       "2325      1\n",
       "Name: bathrooms_text, Length: 1032, dtype: object"
      ]
     },
     "execution_count": 60,
     "metadata": {},
     "output_type": "execute_result"
    }
   ],
   "source": [
    "obj_data['bathrooms_text'].apply(lambda x: x.replace('Shared half-bath', '0.5 shared').replace('Half-bath', '0.5 bath').split(' ')[0])"
   ]
  },
  {
   "cell_type": "code",
   "execution_count": 61,
   "id": "2c9405ec",
   "metadata": {},
   "outputs": [],
   "source": [
    "ads = pd.concat([ads, bathroom_count], axis = 1)"
   ]
  },
  {
   "cell_type": "code",
   "execution_count": 62,
   "id": "3f3a2b97",
   "metadata": {},
   "outputs": [
    {
     "name": "stderr",
     "output_type": "stream",
     "text": [
      "C:\\Users\\dev3w\\AppData\\Local\\Temp\\ipykernel_17672\\1265981019.py:1: SettingWithCopyWarning: \n",
      "A value is trying to be set on a copy of a slice from a DataFrame.\n",
      "Try using .loc[row_indexer,col_indexer] = value instead\n",
      "\n",
      "See the caveats in the documentation: https://pandas.pydata.org/pandas-docs/stable/user_guide/indexing.html#returning-a-view-versus-a-copy\n",
      "  obj_data['bathroom_shared_flag'] = obj_data['bathrooms_text'].apply(lambda x: 't' if 'shared' in x else 'f')\n"
     ]
    }
   ],
   "source": [
    "obj_data['bathroom_shared_flag'] = obj_data['bathrooms_text'].apply(lambda x: 't' if 'shared' in x else 'f')"
   ]
  },
  {
   "cell_type": "code",
   "execution_count": 63,
   "id": "5e0fda88",
   "metadata": {},
   "outputs": [],
   "source": [
    "bathroom_shared = pd.DataFrame(ohe.fit_transform(obj_data[['bathroom_shared_flag']]).toarray(),columns=ohe.get_feature_names_out())\n",
    "ads = pd.concat([ads, bathroom_shared], axis=1)"
   ]
  },
  {
   "cell_type": "code",
   "execution_count": 64,
   "id": "d23f027a",
   "metadata": {},
   "outputs": [],
   "source": [
    "# amenities\n",
    "\n",
    "amenities = obj_data['amenities'].apply(lambda x: len(x.replace('[','').replace(']','').split(',')))\n",
    "amenities = amenities.reset_index(drop = True)\n",
    "ads = pd.concat([ads,amenities], axis = 1)"
   ]
  },
  {
   "cell_type": "code",
   "execution_count": 65,
   "id": "b46594ee",
   "metadata": {},
   "outputs": [],
   "source": [
    "# instant_bookable\n",
    "\n",
    "instant_bookable = pd.DataFrame(ohe.fit_transform(obj_data[['instant_bookable']]).toarray(), columns=ohe.get_feature_names_out())\n",
    "ads = pd.concat([ads,instant_bookable], axis = 1)"
   ]
  },
  {
   "cell_type": "code",
   "execution_count": null,
   "id": "1fa04927",
   "metadata": {},
   "outputs": [],
   "source": []
  },
  {
   "cell_type": "code",
   "execution_count": 66,
   "id": "32a6acc1",
   "metadata": {},
   "outputs": [],
   "source": [
    "ads = pd.concat([ads, numerical_data], axis=1)"
   ]
  },
  {
   "cell_type": "code",
   "execution_count": 67,
   "id": "34c4e415",
   "metadata": {
    "scrolled": true
   },
   "outputs": [
    {
     "name": "stderr",
     "output_type": "stream",
     "text": [
      "C:\\Users\\dev3w\\AppData\\Local\\Temp\\ipykernel_17672\\2371102118.py:1: FutureWarning: The default value of regex will change from True to False in a future version. In addition, single character regular expressions will *not* be treated as literal strings when regex=True.\n",
      "  price = obj_data['price'].str.replace('$','').str.replace(',','').astype('float').astype('int').reset_index(drop=True)\n"
     ]
    }
   ],
   "source": [
    "price = obj_data['price'].str.replace('$','').str.replace(',','').astype('float').astype('int').reset_index(drop=True)\n",
    "ads = pd.concat([ads, price], axis = 1)"
   ]
  },
  {
   "cell_type": "code",
   "execution_count": 68,
   "id": "6e85deaf",
   "metadata": {},
   "outputs": [
    {
     "data": {
      "text/html": [
       "<div>\n",
       "<style scoped>\n",
       "    .dataframe tbody tr th:only-of-type {\n",
       "        vertical-align: middle;\n",
       "    }\n",
       "\n",
       "    .dataframe tbody tr th {\n",
       "        vertical-align: top;\n",
       "    }\n",
       "\n",
       "    .dataframe thead th {\n",
       "        text-align: right;\n",
       "    }\n",
       "</style>\n",
       "<table border=\"1\" class=\"dataframe\">\n",
       "  <thead>\n",
       "    <tr style=\"text-align: right;\">\n",
       "      <th></th>\n",
       "      <th>host_response_time_a few days or more</th>\n",
       "      <th>host_response_time_within a day</th>\n",
       "      <th>host_response_time_within a few hours</th>\n",
       "      <th>host_response_time_within an hour</th>\n",
       "      <th>host_response_rate_cat_100</th>\n",
       "      <th>host_response_rate_cat_below_70</th>\n",
       "      <th>host_response_rate_cat_over_70</th>\n",
       "      <th>host_response_rate_cat_over_90</th>\n",
       "      <th>host_response_rate_cat_over_95</th>\n",
       "      <th>host_acceptance_rate_cat_100</th>\n",
       "      <th>...</th>\n",
       "      <th>review_scores_cleanliness</th>\n",
       "      <th>review_scores_checkin</th>\n",
       "      <th>review_scores_communication</th>\n",
       "      <th>review_scores_location</th>\n",
       "      <th>review_scores_value</th>\n",
       "      <th>calculated_host_listings_count</th>\n",
       "      <th>calculated_host_listings_count_entire_homes</th>\n",
       "      <th>calculated_host_listings_count_private_rooms</th>\n",
       "      <th>calculated_host_listings_count_shared_rooms</th>\n",
       "      <th>price</th>\n",
       "    </tr>\n",
       "  </thead>\n",
       "  <tbody>\n",
       "    <tr>\n",
       "      <th>0</th>\n",
       "      <td>0.0</td>\n",
       "      <td>0.0</td>\n",
       "      <td>0.0</td>\n",
       "      <td>1.0</td>\n",
       "      <td>1.0</td>\n",
       "      <td>0.0</td>\n",
       "      <td>0.0</td>\n",
       "      <td>0.0</td>\n",
       "      <td>0.0</td>\n",
       "      <td>0.0</td>\n",
       "      <td>...</td>\n",
       "      <td>4.68</td>\n",
       "      <td>4.95</td>\n",
       "      <td>4.94</td>\n",
       "      <td>4.75</td>\n",
       "      <td>4.77</td>\n",
       "      <td>5</td>\n",
       "      <td>0</td>\n",
       "      <td>5</td>\n",
       "      <td>0</td>\n",
       "      <td>41</td>\n",
       "    </tr>\n",
       "    <tr>\n",
       "      <th>1</th>\n",
       "      <td>0.0</td>\n",
       "      <td>0.0</td>\n",
       "      <td>0.0</td>\n",
       "      <td>1.0</td>\n",
       "      <td>1.0</td>\n",
       "      <td>0.0</td>\n",
       "      <td>0.0</td>\n",
       "      <td>0.0</td>\n",
       "      <td>0.0</td>\n",
       "      <td>1.0</td>\n",
       "      <td>...</td>\n",
       "      <td>4.98</td>\n",
       "      <td>5.00</td>\n",
       "      <td>4.99</td>\n",
       "      <td>4.97</td>\n",
       "      <td>4.88</td>\n",
       "      <td>1</td>\n",
       "      <td>0</td>\n",
       "      <td>1</td>\n",
       "      <td>0</td>\n",
       "      <td>96</td>\n",
       "    </tr>\n",
       "    <tr>\n",
       "      <th>2</th>\n",
       "      <td>0.0</td>\n",
       "      <td>0.0</td>\n",
       "      <td>1.0</td>\n",
       "      <td>0.0</td>\n",
       "      <td>1.0</td>\n",
       "      <td>0.0</td>\n",
       "      <td>0.0</td>\n",
       "      <td>0.0</td>\n",
       "      <td>0.0</td>\n",
       "      <td>0.0</td>\n",
       "      <td>...</td>\n",
       "      <td>4.42</td>\n",
       "      <td>5.00</td>\n",
       "      <td>4.93</td>\n",
       "      <td>4.74</td>\n",
       "      <td>4.70</td>\n",
       "      <td>1</td>\n",
       "      <td>0</td>\n",
       "      <td>1</td>\n",
       "      <td>0</td>\n",
       "      <td>32</td>\n",
       "    </tr>\n",
       "    <tr>\n",
       "      <th>3</th>\n",
       "      <td>0.0</td>\n",
       "      <td>0.0</td>\n",
       "      <td>1.0</td>\n",
       "      <td>0.0</td>\n",
       "      <td>1.0</td>\n",
       "      <td>0.0</td>\n",
       "      <td>0.0</td>\n",
       "      <td>0.0</td>\n",
       "      <td>0.0</td>\n",
       "      <td>0.0</td>\n",
       "      <td>...</td>\n",
       "      <td>4.72</td>\n",
       "      <td>4.93</td>\n",
       "      <td>4.76</td>\n",
       "      <td>4.79</td>\n",
       "      <td>4.62</td>\n",
       "      <td>3</td>\n",
       "      <td>1</td>\n",
       "      <td>2</td>\n",
       "      <td>0</td>\n",
       "      <td>38</td>\n",
       "    </tr>\n",
       "    <tr>\n",
       "      <th>4</th>\n",
       "      <td>0.0</td>\n",
       "      <td>0.0</td>\n",
       "      <td>0.0</td>\n",
       "      <td>1.0</td>\n",
       "      <td>1.0</td>\n",
       "      <td>0.0</td>\n",
       "      <td>0.0</td>\n",
       "      <td>0.0</td>\n",
       "      <td>0.0</td>\n",
       "      <td>1.0</td>\n",
       "      <td>...</td>\n",
       "      <td>4.86</td>\n",
       "      <td>4.96</td>\n",
       "      <td>4.96</td>\n",
       "      <td>4.83</td>\n",
       "      <td>4.73</td>\n",
       "      <td>1</td>\n",
       "      <td>1</td>\n",
       "      <td>0</td>\n",
       "      <td>0</td>\n",
       "      <td>571</td>\n",
       "    </tr>\n",
       "  </tbody>\n",
       "</table>\n",
       "<p>5 rows × 81 columns</p>\n",
       "</div>"
      ],
      "text/plain": [
       "   host_response_time_a few days or more  host_response_time_within a day  \\\n",
       "0                                    0.0                              0.0   \n",
       "1                                    0.0                              0.0   \n",
       "2                                    0.0                              0.0   \n",
       "3                                    0.0                              0.0   \n",
       "4                                    0.0                              0.0   \n",
       "\n",
       "   host_response_time_within a few hours  host_response_time_within an hour  \\\n",
       "0                                    0.0                                1.0   \n",
       "1                                    0.0                                1.0   \n",
       "2                                    1.0                                0.0   \n",
       "3                                    1.0                                0.0   \n",
       "4                                    0.0                                1.0   \n",
       "\n",
       "   host_response_rate_cat_100  host_response_rate_cat_below_70  \\\n",
       "0                         1.0                              0.0   \n",
       "1                         1.0                              0.0   \n",
       "2                         1.0                              0.0   \n",
       "3                         1.0                              0.0   \n",
       "4                         1.0                              0.0   \n",
       "\n",
       "   host_response_rate_cat_over_70  host_response_rate_cat_over_90  \\\n",
       "0                             0.0                             0.0   \n",
       "1                             0.0                             0.0   \n",
       "2                             0.0                             0.0   \n",
       "3                             0.0                             0.0   \n",
       "4                             0.0                             0.0   \n",
       "\n",
       "   host_response_rate_cat_over_95  host_acceptance_rate_cat_100  ...  \\\n",
       "0                             0.0                           0.0  ...   \n",
       "1                             0.0                           1.0  ...   \n",
       "2                             0.0                           0.0  ...   \n",
       "3                             0.0                           0.0  ...   \n",
       "4                             0.0                           1.0  ...   \n",
       "\n",
       "   review_scores_cleanliness  review_scores_checkin  \\\n",
       "0                       4.68                   4.95   \n",
       "1                       4.98                   5.00   \n",
       "2                       4.42                   5.00   \n",
       "3                       4.72                   4.93   \n",
       "4                       4.86                   4.96   \n",
       "\n",
       "   review_scores_communication  review_scores_location  review_scores_value  \\\n",
       "0                         4.94                    4.75                 4.77   \n",
       "1                         4.99                    4.97                 4.88   \n",
       "2                         4.93                    4.74                 4.70   \n",
       "3                         4.76                    4.79                 4.62   \n",
       "4                         4.96                    4.83                 4.73   \n",
       "\n",
       "   calculated_host_listings_count  \\\n",
       "0                               5   \n",
       "1                               1   \n",
       "2                               1   \n",
       "3                               3   \n",
       "4                               1   \n",
       "\n",
       "   calculated_host_listings_count_entire_homes  \\\n",
       "0                                            0   \n",
       "1                                            0   \n",
       "2                                            0   \n",
       "3                                            1   \n",
       "4                                            1   \n",
       "\n",
       "   calculated_host_listings_count_private_rooms  \\\n",
       "0                                             5   \n",
       "1                                             1   \n",
       "2                                             1   \n",
       "3                                             2   \n",
       "4                                             0   \n",
       "\n",
       "   calculated_host_listings_count_shared_rooms  price  \n",
       "0                                            0     41  \n",
       "1                                            0     96  \n",
       "2                                            0     32  \n",
       "3                                            0     38  \n",
       "4                                            0    571  \n",
       "\n",
       "[5 rows x 81 columns]"
      ]
     },
     "execution_count": 68,
     "metadata": {},
     "output_type": "execute_result"
    }
   ],
   "source": [
    "ads.head()"
   ]
  },
  {
   "cell_type": "code",
   "execution_count": 69,
   "id": "9c047191",
   "metadata": {},
   "outputs": [
    {
     "data": {
      "text/plain": [
       "0"
      ]
     },
     "execution_count": 69,
     "metadata": {},
     "output_type": "execute_result"
    }
   ],
   "source": [
    "ads.isna().sum().sum()"
   ]
  },
  {
   "cell_type": "code",
   "execution_count": 70,
   "id": "ed0ddd2b",
   "metadata": {},
   "outputs": [
    {
     "data": {
      "text/plain": [
       "Index(['host_response_time_a few days or more',\n",
       "       'host_response_time_within a day',\n",
       "       'host_response_time_within a few hours',\n",
       "       'host_response_time_within an hour', 'host_response_rate_cat_100',\n",
       "       'host_response_rate_cat_below_70', 'host_response_rate_cat_over_70',\n",
       "       'host_response_rate_cat_over_90', 'host_response_rate_cat_over_95',\n",
       "       'host_acceptance_rate_cat_100', 'host_acceptance_rate_cat_below_70',\n",
       "       'host_acceptance_rate_cat_over_70', 'host_acceptance_rate_cat_over_90',\n",
       "       'host_acceptance_rate_cat_over_95', 'host_is_superhost_f',\n",
       "       'host_is_superhost_t', 'host_verifications', 'host_has_profile_pic_f',\n",
       "       'host_has_profile_pic_t', 'host_identity_verified_f',\n",
       "       'host_identity_verified_t', 'property_type_Barn',\n",
       "       'property_type_Camper/RV', 'property_type_Entire bungalow',\n",
       "       'property_type_Entire condo', 'property_type_Entire cottage',\n",
       "       'property_type_Entire guest suite', 'property_type_Entire guesthouse',\n",
       "       'property_type_Entire home', 'property_type_Entire loft',\n",
       "       'property_type_Entire place', 'property_type_Entire rental unit',\n",
       "       'property_type_Entire serviced apartment',\n",
       "       'property_type_Entire townhouse', 'property_type_Houseboat',\n",
       "       'property_type_Private room',\n",
       "       'property_type_Private room in bed and breakfast',\n",
       "       'property_type_Private room in bungalow',\n",
       "       'property_type_Private room in cabin',\n",
       "       'property_type_Private room in castle',\n",
       "       'property_type_Private room in condo',\n",
       "       'property_type_Private room in guest suite',\n",
       "       'property_type_Private room in home',\n",
       "       'property_type_Private room in loft',\n",
       "       'property_type_Private room in rental unit',\n",
       "       'property_type_Private room in serviced apartment',\n",
       "       'property_type_Private room in tiny home',\n",
       "       'property_type_Private room in townhouse',\n",
       "       'property_type_Private room in yurt',\n",
       "       'property_type_Room in aparthotel', 'property_type_Room in hotel',\n",
       "       'property_type_Room in serviced apartment',\n",
       "       'property_type_Shared room in home', 'property_type_Tiny home',\n",
       "       'room_type_Entire home/apt', 'room_type_Hotel room',\n",
       "       'room_type_Private room', 'room_type_Shared room', 'bathroom_count',\n",
       "       'bathroom_shared_flag_f', 'bathroom_shared_flag_t', 'amenities',\n",
       "       'instant_bookable_f', 'instant_bookable_t', 'accommodates', 'bedrooms',\n",
       "       'beds', 'number_of_reviews_ltm', 'number_of_reviews_l30d',\n",
       "       'review_scores_rating', 'review_scores_accuracy',\n",
       "       'review_scores_cleanliness', 'review_scores_checkin',\n",
       "       'review_scores_communication', 'review_scores_location',\n",
       "       'review_scores_value', 'calculated_host_listings_count',\n",
       "       'calculated_host_listings_count_entire_homes',\n",
       "       'calculated_host_listings_count_private_rooms',\n",
       "       'calculated_host_listings_count_shared_rooms', 'price'],\n",
       "      dtype='object')"
      ]
     },
     "execution_count": 70,
     "metadata": {},
     "output_type": "execute_result"
    }
   ],
   "source": [
    "ads.columns"
   ]
  },
  {
   "cell_type": "markdown",
   "id": "98b7f78f",
   "metadata": {},
   "source": [
    "### Training the model"
   ]
  },
  {
   "cell_type": "code",
   "execution_count": 71,
   "id": "10ccca25",
   "metadata": {},
   "outputs": [],
   "source": [
    "X = ads.loc[:, ads.columns!='price']\n",
    "y = ads.loc[:, 'price']"
   ]
  },
  {
   "cell_type": "code",
   "execution_count": 72,
   "id": "bf6e69ed",
   "metadata": {},
   "outputs": [],
   "source": [
    "X_train, X_test, y_train, y_test = train_test_split(X, y, test_size=0.3, random_state=42)"
   ]
  },
  {
   "cell_type": "code",
   "execution_count": 73,
   "id": "0a73c45a",
   "metadata": {},
   "outputs": [],
   "source": [
    "pipe1 = Pipeline(steps=[('linear regression', LinearRegression())])"
   ]
  },
  {
   "cell_type": "code",
   "execution_count": 74,
   "id": "72a2a216",
   "metadata": {},
   "outputs": [],
   "source": [
    "model = pipe1.fit(X_train,y_train)"
   ]
  },
  {
   "cell_type": "code",
   "execution_count": 75,
   "id": "a5cbbd2d",
   "metadata": {},
   "outputs": [],
   "source": [
    "pred = model.predict(X_test)"
   ]
  },
  {
   "cell_type": "code",
   "execution_count": 76,
   "id": "26d8ffdf",
   "metadata": {},
   "outputs": [
    {
     "data": {
      "text/plain": [
       "(0.958054888036247, 0.45936808828116776)"
      ]
     },
     "execution_count": 76,
     "metadata": {},
     "output_type": "execute_result"
    }
   ],
   "source": [
    "r2_score(y_test, pred), mean_absolute_percentage_error(y_test,pred)"
   ]
  },
  {
   "cell_type": "code",
   "execution_count": 77,
   "id": "66f955ba",
   "metadata": {},
   "outputs": [],
   "source": [
    "lr = LinearRegression()"
   ]
  },
  {
   "cell_type": "code",
   "execution_count": 78,
   "id": "4cb61fc3",
   "metadata": {},
   "outputs": [],
   "source": [
    "model = lr.fit(X_train, y_train)"
   ]
  },
  {
   "cell_type": "code",
   "execution_count": 79,
   "id": "8a292117",
   "metadata": {},
   "outputs": [],
   "source": [
    "pred = model.predict(X_test)"
   ]
  },
  {
   "cell_type": "code",
   "execution_count": 80,
   "id": "ebd83d9e",
   "metadata": {},
   "outputs": [],
   "source": [
    "r2 = r2_score(y_test, pred)\n",
    "mape = mean_absolute_percentage_error(y_test, pred)"
   ]
  },
  {
   "cell_type": "code",
   "execution_count": 81,
   "id": "b5d73508",
   "metadata": {},
   "outputs": [
    {
     "data": {
      "text/plain": [
       "(0.958054888036247, 0.45936808828116776)"
      ]
     },
     "execution_count": 81,
     "metadata": {},
     "output_type": "execute_result"
    }
   ],
   "source": [
    "r2, mape"
   ]
  },
  {
   "cell_type": "code",
   "execution_count": 82,
   "id": "fd5d955f",
   "metadata": {},
   "outputs": [],
   "source": [
    "class TestTransformer(BaseEstimator, TransformerMixin):\n",
    "    def __init__(self):\n",
    "        print('__init__ called...')\n",
    "    \n",
    "    def fit(self, X, y=None):\n",
    "        print('fit called...')\n",
    "        return self\n",
    "    \n",
    "    def transform(self, X, y=None):\n",
    "        print('transformer called...')\n",
    "        return X"
   ]
  },
  {
   "cell_type": "code",
   "execution_count": 83,
   "id": "173257ff",
   "metadata": {},
   "outputs": [
    {
     "name": "stdout",
     "output_type": "stream",
     "text": [
      "__init__ called...\n"
     ]
    }
   ],
   "source": [
    "# Pipeline 2\n",
    "\n",
    "pipe2 = Pipeline(steps=[('transform',TestTransformer()), \n",
    "                        ('linear regression', LinearRegression())])"
   ]
  },
  {
   "cell_type": "code",
   "execution_count": 84,
   "id": "71772791",
   "metadata": {},
   "outputs": [
    {
     "name": "stdout",
     "output_type": "stream",
     "text": [
      "fit called...\n",
      "transformer called...\n"
     ]
    }
   ],
   "source": [
    "m2 = pipe2.fit(X_train, y_train)"
   ]
  },
  {
   "cell_type": "code",
   "execution_count": 85,
   "id": "c9046763",
   "metadata": {},
   "outputs": [
    {
     "name": "stdout",
     "output_type": "stream",
     "text": [
      "transformer called...\n"
     ]
    }
   ],
   "source": [
    "pred = m2.predict(X_test)"
   ]
  },
  {
   "cell_type": "code",
   "execution_count": 86,
   "id": "62eb5ed3",
   "metadata": {
    "scrolled": true
   },
   "outputs": [
    {
     "data": {
      "text/plain": [
       "(0.958054888036247, 0.45936808828116776)"
      ]
     },
     "execution_count": 86,
     "metadata": {},
     "output_type": "execute_result"
    }
   ],
   "source": [
    "r2_score(y_test, pred), mean_absolute_percentage_error(y_test, pred)"
   ]
  },
  {
   "cell_type": "code",
   "execution_count": 87,
   "id": "90c35095",
   "metadata": {},
   "outputs": [],
   "source": [
    "# Sub-set of columns to consider for model training\n",
    "# Separate columns based on data type\n",
    "# Perform transformations on columns\n",
    "# Collate all data back to create ads\n",
    "# Define the estimator in the pipeline"
   ]
  },
  {
   "cell_type": "code",
   "execution_count": 90,
   "id": "a7fb2e4f",
   "metadata": {},
   "outputs": [],
   "source": [
    "from sklearn.compose import ColumnTransformer\n",
    "from sklearn.compose import make_column_selector"
   ]
  },
  {
   "cell_type": "code",
   "execution_count": 252,
   "id": "d04d4595",
   "metadata": {},
   "outputs": [],
   "source": [
    "class PercentageProcessing(BaseEstimator, TransformerMixin):\n",
    "    def __init__(self, feature_list):\n",
    "        print('__init__ called...')\n",
    "        self.feature_list = feature_list\n",
    "    \n",
    "    def fit(self, X, y=None):\n",
    "        print('fit() called...')\n",
    "        return self\n",
    "    \n",
    "    def transform(self, X, y=None):\n",
    "        print('transform() called...')               \n",
    "        X_ = X.copy()\n",
    "#         print(self.feature_list)\n",
    "        for feature in self.feature_list:\n",
    "            X_.iloc[:,feature] = pd.to_numeric(X_.iloc[:,feature].str.replace('%', '', regex = True)).apply(lambda x: self.percentage_cat(x))\n",
    "        return X_\n",
    "    \n",
    "    def percentage_cat(self, percentage_cat):\n",
    "        if percentage_cat == 100:\n",
    "            return '100'\n",
    "        elif percentage_cat >= 95 and percentage_cat <100:\n",
    "            return 'over_95'\n",
    "        elif percentage_cat >= 90 and percentage_cat <95:\n",
    "            return 'over_90'\n",
    "        elif percentage_cat >= 70 and percentage_cat <90:\n",
    "            return 'over_70'\n",
    "        else:\n",
    "            return 'below_70'"
   ]
  },
  {
   "cell_type": "code",
   "execution_count": 315,
   "id": "fbc87734",
   "metadata": {},
   "outputs": [
    {
     "data": {
      "text/plain": [
       "'accommodates'"
      ]
     },
     "execution_count": 315,
     "metadata": {},
     "output_type": "execute_result"
    }
   ],
   "source": [
    "data.columns[10]"
   ]
  },
  {
   "cell_type": "code",
   "execution_count": 322,
   "id": "d4ccbab9",
   "metadata": {},
   "outputs": [],
   "source": [
    "class ItemCount(BaseEstimator, TransformerMixin):\n",
    "    def __init__(self, feature_list):\n",
    "        print('__init__ called...')\n",
    "        self.feature_list = feature_list\n",
    "        \n",
    "    def fit(self, X, y=None):\n",
    "        print('fit() called...')\n",
    "        return self\n",
    "    \n",
    "    def transform(self, X, y=None):\n",
    "        print('transform() called...')\n",
    "        X_ = X.copy()\n",
    "        \n",
    "        for feature in self.feature_list:\n",
    "#             print(X_.columns[feature])\n",
    "            X_.iloc[:,feature] = X_.iloc[:,feature].apply(lambda x: len(x.replace('[','').replace(']','').split(',')))\n",
    "        \n",
    "        return X_"
   ]
  },
  {
   "cell_type": "code",
   "execution_count": 323,
   "id": "f610d9b2",
   "metadata": {},
   "outputs": [],
   "source": [
    "class BathroomText(BaseEstimator, TransformerMixin):\n",
    "    def __init__(self, feature):\n",
    "        print('__init__ called...')\n",
    "        self.feature = feature\n",
    "        \n",
    "    def fit(self, X, y=None):\n",
    "        print('fit() called...')\n",
    "        return self\n",
    "    \n",
    "    def transform(self, X, y=None):\n",
    "        print('transform() called...')\n",
    "        X_ = X.copy()\n",
    "        \n",
    "        X_['bathroom_count'] = X_.iloc[:,self.feature].apply(lambda x: x.replace('Shared half-bath', '0.5 shared').replace('Half-bath', '0.5 bath').str.split(' '))\n",
    "        X_['bathroom_count'] = X_['bathroom_count'].str[0].astype('float')\n",
    "#         X_['bathroom_shared_flag'] = X_.iloc[:,self.feature].apply(lambda x: self.shared(x))\n",
    "#         X_['bathroom_shared_flag'] = self.shared(X_)\n",
    "        X_ = X_.drop(X_.columns[self.feature], axis=1)\n",
    "        return X_\n",
    "    \n",
    "#     def shared(self, df):\n",
    "#         ls = []\n",
    "#         for i in range(df.shape[0]):\n",
    "#             print(df.iloc[i,self.feature])\n",
    "#             if 'shared' in npdf.iloc[i,self.feature]:\n",
    "#                 ls.append('t')\n",
    "#             else:\n",
    "#                 ls.append('f')\n",
    "#         return ls"
   ]
  },
  {
   "cell_type": "code",
   "execution_count": 324,
   "id": "f27d371c",
   "metadata": {
    "scrolled": true
   },
   "outputs": [
    {
     "name": "stdout",
     "output_type": "stream",
     "text": [
      "<class 'pandas.core.frame.DataFrame'>\n",
      "Int64Index: 1032 entries, 0 to 2325\n",
      "Data columns (total 30 columns):\n",
      " #   Column                                        Non-Null Count  Dtype  \n",
      "---  ------                                        --------------  -----  \n",
      " 0   host_response_time                            885 non-null    object \n",
      " 1   host_response_rate                            885 non-null    object \n",
      " 2   host_acceptance_rate                          982 non-null    object \n",
      " 3   host_is_superhost                             1032 non-null   object \n",
      " 4   host_verifications                            1032 non-null   object \n",
      " 5   host_has_profile_pic                          1032 non-null   object \n",
      " 6   host_identity_verified                        1032 non-null   object \n",
      " 7   neighbourhood                                 1032 non-null   object \n",
      " 8   property_type                                 1032 non-null   object \n",
      " 9   room_type                                     1032 non-null   object \n",
      " 10  accommodates                                  1032 non-null   int64  \n",
      " 11  bathrooms_text                                1031 non-null   object \n",
      " 12  bedrooms                                      979 non-null    float64\n",
      " 13  beds                                          1005 non-null   float64\n",
      " 14  amenities                                     1032 non-null   object \n",
      " 15  number_of_reviews_ltm                         1032 non-null   int64  \n",
      " 16  number_of_reviews_l30d                        1032 non-null   int64  \n",
      " 17  review_scores_rating                          920 non-null    float64\n",
      " 18  review_scores_accuracy                        918 non-null    float64\n",
      " 19  review_scores_cleanliness                     918 non-null    float64\n",
      " 20  review_scores_checkin                         918 non-null    float64\n",
      " 21  review_scores_communication                   918 non-null    float64\n",
      " 22  review_scores_location                        918 non-null    float64\n",
      " 23  review_scores_value                           918 non-null    float64\n",
      " 24  instant_bookable                              1032 non-null   object \n",
      " 25  calculated_host_listings_count                1032 non-null   int64  \n",
      " 26  calculated_host_listings_count_entire_homes   1032 non-null   int64  \n",
      " 27  calculated_host_listings_count_private_rooms  1032 non-null   int64  \n",
      " 28  calculated_host_listings_count_shared_rooms   1032 non-null   int64  \n",
      " 29  price                                         1032 non-null   object \n",
      "dtypes: float64(9), int64(7), object(14)\n",
      "memory usage: 282.2+ KB\n"
     ]
    }
   ],
   "source": [
    "data.info()"
   ]
  },
  {
   "cell_type": "code",
   "execution_count": 325,
   "id": "83dfa8ec",
   "metadata": {
    "scrolled": true
   },
   "outputs": [
    {
     "name": "stdout",
     "output_type": "stream",
     "text": [
      "<class 'pandas.core.frame.DataFrame'>\n",
      "Int64Index: 1032 entries, 0 to 2325\n",
      "Data columns (total 28 columns):\n",
      " #   Column                                        Non-Null Count  Dtype  \n",
      "---  ------                                        --------------  -----  \n",
      " 0   host_response_time                            885 non-null    object \n",
      " 1   host_response_rate                            885 non-null    object \n",
      " 2   host_acceptance_rate                          982 non-null    object \n",
      " 3   host_is_superhost                             1032 non-null   object \n",
      " 4   host_verifications                            1032 non-null   object \n",
      " 5   host_has_profile_pic                          1032 non-null   object \n",
      " 6   host_identity_verified                        1032 non-null   object \n",
      " 7   property_type                                 1032 non-null   object \n",
      " 8   room_type                                     1032 non-null   object \n",
      " 9   accommodates                                  1032 non-null   int64  \n",
      " 10  bathrooms_text                                1031 non-null   object \n",
      " 11  bedrooms                                      979 non-null    float64\n",
      " 12  beds                                          1005 non-null   float64\n",
      " 13  amenities                                     1032 non-null   object \n",
      " 14  number_of_reviews_ltm                         1032 non-null   int64  \n",
      " 15  number_of_reviews_l30d                        1032 non-null   int64  \n",
      " 16  review_scores_rating                          920 non-null    float64\n",
      " 17  review_scores_accuracy                        918 non-null    float64\n",
      " 18  review_scores_cleanliness                     918 non-null    float64\n",
      " 19  review_scores_checkin                         918 non-null    float64\n",
      " 20  review_scores_communication                   918 non-null    float64\n",
      " 21  review_scores_location                        918 non-null    float64\n",
      " 22  review_scores_value                           918 non-null    float64\n",
      " 23  instant_bookable                              1032 non-null   object \n",
      " 24  calculated_host_listings_count                1032 non-null   int64  \n",
      " 25  calculated_host_listings_count_entire_homes   1032 non-null   int64  \n",
      " 26  calculated_host_listings_count_private_rooms  1032 non-null   int64  \n",
      " 27  calculated_host_listings_count_shared_rooms   1032 non-null   int64  \n",
      "dtypes: float64(9), int64(7), object(12)\n",
      "memory usage: 266.1+ KB\n"
     ]
    }
   ],
   "source": [
    "X.info()"
   ]
  },
  {
   "cell_type": "code",
   "execution_count": 373,
   "id": "ec1edf30",
   "metadata": {
    "scrolled": true
   },
   "outputs": [
    {
     "name": "stdout",
     "output_type": "stream",
     "text": [
      "__init__ called...\n",
      "__init__ called...\n",
      "__init__ called...\n"
     ]
    }
   ],
   "source": [
    "preprocessing = Pipeline(steps = [('PercentageProcessing', PercentageProcessing([1,2]))\n",
    "                    , ('ItemCount', ItemCount([4,13]))\n",
    "                    , ('BathroomText', BathroomText([10]))])"
   ]
  },
  {
   "cell_type": "code",
   "execution_count": 374,
   "id": "f99508b4",
   "metadata": {
    "scrolled": false
   },
   "outputs": [
    {
     "name": "stdout",
     "output_type": "stream",
     "text": [
      "fit() called...\n",
      "transform() called...\n",
      "fit() called...\n",
      "transform() called...\n",
      "fit() called...\n",
      "transform() called...\n"
     ]
    },
    {
     "data": {
      "text/plain": [
       "(1032, 28)"
      ]
     },
     "execution_count": 374,
     "metadata": {},
     "output_type": "execute_result"
    }
   ],
   "source": [
    "data_tf = pd.DataFrame(preprocessing.fit_transform(X))\n",
    "data_tf.shape"
   ]
  },
  {
   "cell_type": "code",
   "execution_count": 375,
   "id": "f6b98fdf",
   "metadata": {
    "scrolled": true
   },
   "outputs": [
    {
     "data": {
      "text/html": [
       "<div>\n",
       "<style scoped>\n",
       "    .dataframe tbody tr th:only-of-type {\n",
       "        vertical-align: middle;\n",
       "    }\n",
       "\n",
       "    .dataframe tbody tr th {\n",
       "        vertical-align: top;\n",
       "    }\n",
       "\n",
       "    .dataframe thead th {\n",
       "        text-align: right;\n",
       "    }\n",
       "</style>\n",
       "<table border=\"1\" class=\"dataframe\">\n",
       "  <thead>\n",
       "    <tr style=\"text-align: right;\">\n",
       "      <th></th>\n",
       "      <th>host_response_time</th>\n",
       "      <th>host_response_rate</th>\n",
       "      <th>host_acceptance_rate</th>\n",
       "      <th>host_is_superhost</th>\n",
       "      <th>host_verifications</th>\n",
       "      <th>host_has_profile_pic</th>\n",
       "      <th>host_identity_verified</th>\n",
       "      <th>property_type</th>\n",
       "      <th>room_type</th>\n",
       "      <th>accommodates</th>\n",
       "      <th>...</th>\n",
       "      <th>review_scores_checkin</th>\n",
       "      <th>review_scores_communication</th>\n",
       "      <th>review_scores_location</th>\n",
       "      <th>review_scores_value</th>\n",
       "      <th>instant_bookable</th>\n",
       "      <th>calculated_host_listings_count</th>\n",
       "      <th>calculated_host_listings_count_entire_homes</th>\n",
       "      <th>calculated_host_listings_count_private_rooms</th>\n",
       "      <th>calculated_host_listings_count_shared_rooms</th>\n",
       "      <th>bathroom_count</th>\n",
       "    </tr>\n",
       "  </thead>\n",
       "  <tbody>\n",
       "    <tr>\n",
       "      <th>0</th>\n",
       "      <td>within an hour</td>\n",
       "      <td>100</td>\n",
       "      <td>over_90</td>\n",
       "      <td>t</td>\n",
       "      <td>3</td>\n",
       "      <td>t</td>\n",
       "      <td>t</td>\n",
       "      <td>Private room in townhouse</td>\n",
       "      <td>Private room</td>\n",
       "      <td>2</td>\n",
       "      <td>...</td>\n",
       "      <td>4.95</td>\n",
       "      <td>4.94</td>\n",
       "      <td>4.75</td>\n",
       "      <td>4.77</td>\n",
       "      <td>f</td>\n",
       "      <td>5</td>\n",
       "      <td>0</td>\n",
       "      <td>5</td>\n",
       "      <td>0</td>\n",
       "      <td>1.0</td>\n",
       "    </tr>\n",
       "    <tr>\n",
       "      <th>1</th>\n",
       "      <td>within an hour</td>\n",
       "      <td>100</td>\n",
       "      <td>100</td>\n",
       "      <td>t</td>\n",
       "      <td>2</td>\n",
       "      <td>t</td>\n",
       "      <td>t</td>\n",
       "      <td>Private room in condo</td>\n",
       "      <td>Private room</td>\n",
       "      <td>2</td>\n",
       "      <td>...</td>\n",
       "      <td>5.00</td>\n",
       "      <td>4.99</td>\n",
       "      <td>4.97</td>\n",
       "      <td>4.88</td>\n",
       "      <td>f</td>\n",
       "      <td>1</td>\n",
       "      <td>0</td>\n",
       "      <td>1</td>\n",
       "      <td>0</td>\n",
       "      <td>2.5</td>\n",
       "    </tr>\n",
       "    <tr>\n",
       "      <th>2</th>\n",
       "      <td>within a few hours</td>\n",
       "      <td>100</td>\n",
       "      <td>below_70</td>\n",
       "      <td>f</td>\n",
       "      <td>2</td>\n",
       "      <td>t</td>\n",
       "      <td>t</td>\n",
       "      <td>Private room in townhouse</td>\n",
       "      <td>Private room</td>\n",
       "      <td>1</td>\n",
       "      <td>...</td>\n",
       "      <td>5.00</td>\n",
       "      <td>4.93</td>\n",
       "      <td>4.74</td>\n",
       "      <td>4.70</td>\n",
       "      <td>f</td>\n",
       "      <td>1</td>\n",
       "      <td>0</td>\n",
       "      <td>1</td>\n",
       "      <td>0</td>\n",
       "      <td>1.0</td>\n",
       "    </tr>\n",
       "    <tr>\n",
       "      <th>3</th>\n",
       "      <td>within a few hours</td>\n",
       "      <td>100</td>\n",
       "      <td>over_90</td>\n",
       "      <td>t</td>\n",
       "      <td>2</td>\n",
       "      <td>t</td>\n",
       "      <td>t</td>\n",
       "      <td>Private room in townhouse</td>\n",
       "      <td>Private room</td>\n",
       "      <td>2</td>\n",
       "      <td>...</td>\n",
       "      <td>4.93</td>\n",
       "      <td>4.76</td>\n",
       "      <td>4.79</td>\n",
       "      <td>4.62</td>\n",
       "      <td>f</td>\n",
       "      <td>3</td>\n",
       "      <td>1</td>\n",
       "      <td>2</td>\n",
       "      <td>0</td>\n",
       "      <td>1.5</td>\n",
       "    </tr>\n",
       "    <tr>\n",
       "      <th>4</th>\n",
       "      <td>NaN</td>\n",
       "      <td>below_70</td>\n",
       "      <td>100</td>\n",
       "      <td>t</td>\n",
       "      <td>2</td>\n",
       "      <td>t</td>\n",
       "      <td>t</td>\n",
       "      <td>Entire home</td>\n",
       "      <td>Entire home/apt</td>\n",
       "      <td>12</td>\n",
       "      <td>...</td>\n",
       "      <td>4.96</td>\n",
       "      <td>4.96</td>\n",
       "      <td>4.83</td>\n",
       "      <td>4.73</td>\n",
       "      <td>f</td>\n",
       "      <td>1</td>\n",
       "      <td>1</td>\n",
       "      <td>0</td>\n",
       "      <td>0</td>\n",
       "      <td>3.0</td>\n",
       "    </tr>\n",
       "  </tbody>\n",
       "</table>\n",
       "<p>5 rows × 28 columns</p>\n",
       "</div>"
      ],
      "text/plain": [
       "   host_response_time host_response_rate host_acceptance_rate  \\\n",
       "0      within an hour                100              over_90   \n",
       "1      within an hour                100                  100   \n",
       "2  within a few hours                100             below_70   \n",
       "3  within a few hours                100              over_90   \n",
       "4                 NaN           below_70                  100   \n",
       "\n",
       "  host_is_superhost  host_verifications host_has_profile_pic  \\\n",
       "0                 t                   3                    t   \n",
       "1                 t                   2                    t   \n",
       "2                 f                   2                    t   \n",
       "3                 t                   2                    t   \n",
       "4                 t                   2                    t   \n",
       "\n",
       "  host_identity_verified              property_type        room_type  \\\n",
       "0                      t  Private room in townhouse     Private room   \n",
       "1                      t      Private room in condo     Private room   \n",
       "2                      t  Private room in townhouse     Private room   \n",
       "3                      t  Private room in townhouse     Private room   \n",
       "4                      t                Entire home  Entire home/apt   \n",
       "\n",
       "   accommodates  ...  review_scores_checkin  review_scores_communication  \\\n",
       "0             2  ...                   4.95                         4.94   \n",
       "1             2  ...                   5.00                         4.99   \n",
       "2             1  ...                   5.00                         4.93   \n",
       "3             2  ...                   4.93                         4.76   \n",
       "4            12  ...                   4.96                         4.96   \n",
       "\n",
       "   review_scores_location  review_scores_value  instant_bookable  \\\n",
       "0                    4.75                 4.77                 f   \n",
       "1                    4.97                 4.88                 f   \n",
       "2                    4.74                 4.70                 f   \n",
       "3                    4.79                 4.62                 f   \n",
       "4                    4.83                 4.73                 f   \n",
       "\n",
       "   calculated_host_listings_count  \\\n",
       "0                               5   \n",
       "1                               1   \n",
       "2                               1   \n",
       "3                               3   \n",
       "4                               1   \n",
       "\n",
       "   calculated_host_listings_count_entire_homes  \\\n",
       "0                                            0   \n",
       "1                                            0   \n",
       "2                                            0   \n",
       "3                                            1   \n",
       "4                                            1   \n",
       "\n",
       "   calculated_host_listings_count_private_rooms  \\\n",
       "0                                             5   \n",
       "1                                             1   \n",
       "2                                             1   \n",
       "3                                             2   \n",
       "4                                             0   \n",
       "\n",
       "   calculated_host_listings_count_shared_rooms  bathroom_count  \n",
       "0                                            0             1.0  \n",
       "1                                            0             2.5  \n",
       "2                                            0             1.0  \n",
       "3                                            0             1.5  \n",
       "4                                            0             3.0  \n",
       "\n",
       "[5 rows x 28 columns]"
      ]
     },
     "execution_count": 375,
     "metadata": {},
     "output_type": "execute_result"
    }
   ],
   "source": [
    "data_tf.head()"
   ]
  },
  {
   "cell_type": "code",
   "execution_count": 377,
   "id": "980e7b40",
   "metadata": {
    "scrolled": true
   },
   "outputs": [
    {
     "data": {
      "text/html": [
       "<div>\n",
       "<style scoped>\n",
       "    .dataframe tbody tr th:only-of-type {\n",
       "        vertical-align: middle;\n",
       "    }\n",
       "\n",
       "    .dataframe tbody tr th {\n",
       "        vertical-align: top;\n",
       "    }\n",
       "\n",
       "    .dataframe thead th {\n",
       "        text-align: right;\n",
       "    }\n",
       "</style>\n",
       "<table border=\"1\" class=\"dataframe\">\n",
       "  <thead>\n",
       "    <tr style=\"text-align: right;\">\n",
       "      <th></th>\n",
       "      <th>host_response_time</th>\n",
       "      <th>host_response_rate</th>\n",
       "      <th>host_acceptance_rate</th>\n",
       "      <th>host_is_superhost</th>\n",
       "      <th>host_verifications</th>\n",
       "      <th>host_has_profile_pic</th>\n",
       "      <th>host_identity_verified</th>\n",
       "      <th>property_type</th>\n",
       "      <th>room_type</th>\n",
       "      <th>accommodates</th>\n",
       "      <th>bedrooms</th>\n",
       "      <th>beds</th>\n",
       "      <th>amenities</th>\n",
       "      <th>number_of_reviews_ltm</th>\n",
       "    </tr>\n",
       "  </thead>\n",
       "  <tbody>\n",
       "    <tr>\n",
       "      <th>0</th>\n",
       "      <td>within an hour</td>\n",
       "      <td>100</td>\n",
       "      <td>over_90</td>\n",
       "      <td>t</td>\n",
       "      <td>3</td>\n",
       "      <td>t</td>\n",
       "      <td>t</td>\n",
       "      <td>Private room in townhouse</td>\n",
       "      <td>Private room</td>\n",
       "      <td>2</td>\n",
       "      <td>1.0</td>\n",
       "      <td>1.0</td>\n",
       "      <td>13</td>\n",
       "      <td>19</td>\n",
       "    </tr>\n",
       "    <tr>\n",
       "      <th>1</th>\n",
       "      <td>within an hour</td>\n",
       "      <td>100</td>\n",
       "      <td>100</td>\n",
       "      <td>t</td>\n",
       "      <td>2</td>\n",
       "      <td>t</td>\n",
       "      <td>t</td>\n",
       "      <td>Private room in condo</td>\n",
       "      <td>Private room</td>\n",
       "      <td>2</td>\n",
       "      <td>1.0</td>\n",
       "      <td>1.0</td>\n",
       "      <td>60</td>\n",
       "      <td>17</td>\n",
       "    </tr>\n",
       "    <tr>\n",
       "      <th>2</th>\n",
       "      <td>within a few hours</td>\n",
       "      <td>100</td>\n",
       "      <td>below_70</td>\n",
       "      <td>f</td>\n",
       "      <td>2</td>\n",
       "      <td>t</td>\n",
       "      <td>t</td>\n",
       "      <td>Private room in townhouse</td>\n",
       "      <td>Private room</td>\n",
       "      <td>1</td>\n",
       "      <td>1.0</td>\n",
       "      <td>1.0</td>\n",
       "      <td>29</td>\n",
       "      <td>8</td>\n",
       "    </tr>\n",
       "    <tr>\n",
       "      <th>3</th>\n",
       "      <td>within a few hours</td>\n",
       "      <td>100</td>\n",
       "      <td>over_90</td>\n",
       "      <td>t</td>\n",
       "      <td>2</td>\n",
       "      <td>t</td>\n",
       "      <td>t</td>\n",
       "      <td>Private room in townhouse</td>\n",
       "      <td>Private room</td>\n",
       "      <td>2</td>\n",
       "      <td>1.0</td>\n",
       "      <td>1.0</td>\n",
       "      <td>51</td>\n",
       "      <td>6</td>\n",
       "    </tr>\n",
       "    <tr>\n",
       "      <th>4</th>\n",
       "      <td>NaN</td>\n",
       "      <td>below_70</td>\n",
       "      <td>100</td>\n",
       "      <td>t</td>\n",
       "      <td>2</td>\n",
       "      <td>t</td>\n",
       "      <td>t</td>\n",
       "      <td>Entire home</td>\n",
       "      <td>Entire home/apt</td>\n",
       "      <td>12</td>\n",
       "      <td>5.0</td>\n",
       "      <td>9.0</td>\n",
       "      <td>50</td>\n",
       "      <td>8</td>\n",
       "    </tr>\n",
       "  </tbody>\n",
       "</table>\n",
       "</div>"
      ],
      "text/plain": [
       "   host_response_time host_response_rate host_acceptance_rate  \\\n",
       "0      within an hour                100              over_90   \n",
       "1      within an hour                100                  100   \n",
       "2  within a few hours                100             below_70   \n",
       "3  within a few hours                100              over_90   \n",
       "4                 NaN           below_70                  100   \n",
       "\n",
       "  host_is_superhost  host_verifications host_has_profile_pic  \\\n",
       "0                 t                   3                    t   \n",
       "1                 t                   2                    t   \n",
       "2                 f                   2                    t   \n",
       "3                 t                   2                    t   \n",
       "4                 t                   2                    t   \n",
       "\n",
       "  host_identity_verified              property_type        room_type  \\\n",
       "0                      t  Private room in townhouse     Private room   \n",
       "1                      t      Private room in condo     Private room   \n",
       "2                      t  Private room in townhouse     Private room   \n",
       "3                      t  Private room in townhouse     Private room   \n",
       "4                      t                Entire home  Entire home/apt   \n",
       "\n",
       "   accommodates  bedrooms  beds  amenities  number_of_reviews_ltm  \n",
       "0             2       1.0   1.0         13                     19  \n",
       "1             2       1.0   1.0         60                     17  \n",
       "2             1       1.0   1.0         29                      8  \n",
       "3             2       1.0   1.0         51                      6  \n",
       "4            12       5.0   9.0         50                      8  "
      ]
     },
     "execution_count": 377,
     "metadata": {},
     "output_type": "execute_result"
    }
   ],
   "source": [
    "data_tf.iloc[0:5, 0:14]"
   ]
  },
  {
   "cell_type": "code",
   "execution_count": 379,
   "id": "a5fcf0b3",
   "metadata": {
    "scrolled": true
   },
   "outputs": [
    {
     "name": "stdout",
     "output_type": "stream",
     "text": [
      "<class 'pandas.core.frame.DataFrame'>\n",
      "Int64Index: 1032 entries, 0 to 2325\n",
      "Data columns (total 28 columns):\n",
      " #   Column                                        Non-Null Count  Dtype  \n",
      "---  ------                                        --------------  -----  \n",
      " 0   host_response_time                            885 non-null    object \n",
      " 1   host_response_rate                            1032 non-null   object \n",
      " 2   host_acceptance_rate                          1032 non-null   object \n",
      " 3   host_is_superhost                             1032 non-null   object \n",
      " 4   host_verifications                            1032 non-null   int64  \n",
      " 5   host_has_profile_pic                          1032 non-null   object \n",
      " 6   host_identity_verified                        1032 non-null   object \n",
      " 7   property_type                                 1032 non-null   object \n",
      " 8   room_type                                     1032 non-null   object \n",
      " 9   accommodates                                  1032 non-null   int64  \n",
      " 10  bedrooms                                      979 non-null    float64\n",
      " 11  beds                                          1005 non-null   float64\n",
      " 12  amenities                                     1032 non-null   int64  \n",
      " 13  number_of_reviews_ltm                         1032 non-null   int64  \n",
      " 14  number_of_reviews_l30d                        1032 non-null   int64  \n",
      " 15  review_scores_rating                          920 non-null    float64\n",
      " 16  review_scores_accuracy                        918 non-null    float64\n",
      " 17  review_scores_cleanliness                     918 non-null    float64\n",
      " 18  review_scores_checkin                         918 non-null    float64\n",
      " 19  review_scores_communication                   918 non-null    float64\n",
      " 20  review_scores_location                        918 non-null    float64\n",
      " 21  review_scores_value                           918 non-null    float64\n",
      " 22  instant_bookable                              1032 non-null   object \n",
      " 23  calculated_host_listings_count                1032 non-null   int64  \n",
      " 24  calculated_host_listings_count_entire_homes   1032 non-null   int64  \n",
      " 25  calculated_host_listings_count_private_rooms  1032 non-null   int64  \n",
      " 26  calculated_host_listings_count_shared_rooms   1032 non-null   int64  \n",
      " 27  bathroom_count                                1031 non-null   float64\n",
      "dtypes: float64(10), int64(9), object(9)\n",
      "memory usage: 266.1+ KB\n"
     ]
    }
   ],
   "source": [
    "data_tf.info()"
   ]
  },
  {
   "cell_type": "code",
   "execution_count": 341,
   "id": "7d958303",
   "metadata": {
    "scrolled": true
   },
   "outputs": [],
   "source": [
    "imputation = ColumnTransformer(transformers=[('FloatTransform', SimpleImputer(strategy='mean'), [10, 11, 15, 16, 17, 18, 19, 20, 21, 27])\n",
    "                                    ,('IntTransform', SimpleImputer(strategy='median'), [4, 9, 12, 13, 14, 23, 24, 25, 26])\n",
    "                                    ,('ObjImpute', SimpleImputer(strategy='most_frequent'), [0,1,2,3,5,6,7,8,22])]\n",
    "                      , verbose_feature_names_out=True\n",
    "                     )"
   ]
  },
  {
   "cell_type": "code",
   "execution_count": null,
   "id": "b8316a9e",
   "metadata": {},
   "outputs": [],
   "source": []
  },
  {
   "cell_type": "code",
   "execution_count": 348,
   "id": "0b084d85",
   "metadata": {},
   "outputs": [],
   "source": [
    "# ,('imputation', imputation)\n",
    "# ,\n",
    "                               "
   ]
  },
  {
   "cell_type": "code",
   "execution_count": 380,
   "id": "c7f1f8b3",
   "metadata": {},
   "outputs": [],
   "source": [
    "data_pipeline = Pipeline(steps=[('preprocessing', preprocessing)\n",
    "                               ,('imputation', imputation)])"
   ]
  },
  {
   "cell_type": "code",
   "execution_count": 386,
   "id": "b9c336f2",
   "metadata": {},
   "outputs": [
    {
     "name": "stdout",
     "output_type": "stream",
     "text": [
      "fit() called...\n",
      "transform() called...\n",
      "fit() called...\n",
      "transform() called...\n",
      "fit() called...\n",
      "transform() called...\n"
     ]
    }
   ],
   "source": [
    "inputed_data = pd.DataFrame(data_pipeline.fit_transform(X))"
   ]
  },
  {
   "cell_type": "code",
   "execution_count": 387,
   "id": "5b06873f",
   "metadata": {},
   "outputs": [
    {
     "data": {
      "text/html": [
       "<div>\n",
       "<style scoped>\n",
       "    .dataframe tbody tr th:only-of-type {\n",
       "        vertical-align: middle;\n",
       "    }\n",
       "\n",
       "    .dataframe tbody tr th {\n",
       "        vertical-align: top;\n",
       "    }\n",
       "\n",
       "    .dataframe thead th {\n",
       "        text-align: right;\n",
       "    }\n",
       "</style>\n",
       "<table border=\"1\" class=\"dataframe\">\n",
       "  <thead>\n",
       "    <tr style=\"text-align: right;\">\n",
       "      <th></th>\n",
       "      <th>0</th>\n",
       "      <th>1</th>\n",
       "      <th>2</th>\n",
       "      <th>3</th>\n",
       "      <th>4</th>\n",
       "      <th>5</th>\n",
       "      <th>6</th>\n",
       "      <th>7</th>\n",
       "      <th>8</th>\n",
       "      <th>9</th>\n",
       "      <th>10</th>\n",
       "      <th>11</th>\n",
       "      <th>12</th>\n",
       "      <th>13</th>\n",
       "      <th>14</th>\n",
       "      <th>15</th>\n",
       "      <th>16</th>\n",
       "      <th>17</th>\n",
       "      <th>18</th>\n",
       "      <th>19</th>\n",
       "    </tr>\n",
       "  </thead>\n",
       "  <tbody>\n",
       "    <tr>\n",
       "      <th>0</th>\n",
       "      <td>1.0</td>\n",
       "      <td>1.0</td>\n",
       "      <td>4.78</td>\n",
       "      <td>4.9</td>\n",
       "      <td>4.68</td>\n",
       "      <td>4.95</td>\n",
       "      <td>4.94</td>\n",
       "      <td>4.75</td>\n",
       "      <td>4.77</td>\n",
       "      <td>1.0</td>\n",
       "      <td>3.0</td>\n",
       "      <td>2.0</td>\n",
       "      <td>13.0</td>\n",
       "      <td>19.0</td>\n",
       "      <td>0.0</td>\n",
       "      <td>5.0</td>\n",
       "      <td>0.0</td>\n",
       "      <td>5.0</td>\n",
       "      <td>0.0</td>\n",
       "      <td>within an hour</td>\n",
       "    </tr>\n",
       "    <tr>\n",
       "      <th>1</th>\n",
       "      <td>1.0</td>\n",
       "      <td>1.0</td>\n",
       "      <td>4.95</td>\n",
       "      <td>4.93</td>\n",
       "      <td>4.98</td>\n",
       "      <td>5.0</td>\n",
       "      <td>4.99</td>\n",
       "      <td>4.97</td>\n",
       "      <td>4.88</td>\n",
       "      <td>2.5</td>\n",
       "      <td>2.0</td>\n",
       "      <td>2.0</td>\n",
       "      <td>60.0</td>\n",
       "      <td>17.0</td>\n",
       "      <td>1.0</td>\n",
       "      <td>1.0</td>\n",
       "      <td>0.0</td>\n",
       "      <td>1.0</td>\n",
       "      <td>0.0</td>\n",
       "      <td>within an hour</td>\n",
       "    </tr>\n",
       "    <tr>\n",
       "      <th>2</th>\n",
       "      <td>1.0</td>\n",
       "      <td>1.0</td>\n",
       "      <td>4.76</td>\n",
       "      <td>4.67</td>\n",
       "      <td>4.42</td>\n",
       "      <td>5.0</td>\n",
       "      <td>4.93</td>\n",
       "      <td>4.74</td>\n",
       "      <td>4.7</td>\n",
       "      <td>1.0</td>\n",
       "      <td>2.0</td>\n",
       "      <td>1.0</td>\n",
       "      <td>29.0</td>\n",
       "      <td>8.0</td>\n",
       "      <td>2.0</td>\n",
       "      <td>1.0</td>\n",
       "      <td>0.0</td>\n",
       "      <td>1.0</td>\n",
       "      <td>0.0</td>\n",
       "      <td>within a few hours</td>\n",
       "    </tr>\n",
       "    <tr>\n",
       "      <th>3</th>\n",
       "      <td>1.0</td>\n",
       "      <td>1.0</td>\n",
       "      <td>4.63</td>\n",
       "      <td>4.83</td>\n",
       "      <td>4.72</td>\n",
       "      <td>4.93</td>\n",
       "      <td>4.76</td>\n",
       "      <td>4.79</td>\n",
       "      <td>4.62</td>\n",
       "      <td>1.5</td>\n",
       "      <td>2.0</td>\n",
       "      <td>2.0</td>\n",
       "      <td>51.0</td>\n",
       "      <td>6.0</td>\n",
       "      <td>0.0</td>\n",
       "      <td>3.0</td>\n",
       "      <td>1.0</td>\n",
       "      <td>2.0</td>\n",
       "      <td>0.0</td>\n",
       "      <td>within a few hours</td>\n",
       "    </tr>\n",
       "    <tr>\n",
       "      <th>4</th>\n",
       "      <td>5.0</td>\n",
       "      <td>9.0</td>\n",
       "      <td>4.94</td>\n",
       "      <td>4.9</td>\n",
       "      <td>4.86</td>\n",
       "      <td>4.96</td>\n",
       "      <td>4.96</td>\n",
       "      <td>4.83</td>\n",
       "      <td>4.73</td>\n",
       "      <td>3.0</td>\n",
       "      <td>2.0</td>\n",
       "      <td>12.0</td>\n",
       "      <td>50.0</td>\n",
       "      <td>8.0</td>\n",
       "      <td>0.0</td>\n",
       "      <td>1.0</td>\n",
       "      <td>1.0</td>\n",
       "      <td>0.0</td>\n",
       "      <td>0.0</td>\n",
       "      <td>within an hour</td>\n",
       "    </tr>\n",
       "  </tbody>\n",
       "</table>\n",
       "</div>"
      ],
      "text/plain": [
       "    0    1     2     3     4     5     6     7     8    9    10    11    12  \\\n",
       "0  1.0  1.0  4.78   4.9  4.68  4.95  4.94  4.75  4.77  1.0  3.0   2.0  13.0   \n",
       "1  1.0  1.0  4.95  4.93  4.98   5.0  4.99  4.97  4.88  2.5  2.0   2.0  60.0   \n",
       "2  1.0  1.0  4.76  4.67  4.42   5.0  4.93  4.74   4.7  1.0  2.0   1.0  29.0   \n",
       "3  1.0  1.0  4.63  4.83  4.72  4.93  4.76  4.79  4.62  1.5  2.0   2.0  51.0   \n",
       "4  5.0  9.0  4.94   4.9  4.86  4.96  4.96  4.83  4.73  3.0  2.0  12.0  50.0   \n",
       "\n",
       "     13   14   15   16   17   18                  19  \n",
       "0  19.0  0.0  5.0  0.0  5.0  0.0      within an hour  \n",
       "1  17.0  1.0  1.0  0.0  1.0  0.0      within an hour  \n",
       "2   8.0  2.0  1.0  0.0  1.0  0.0  within a few hours  \n",
       "3   6.0  0.0  3.0  1.0  2.0  0.0  within a few hours  \n",
       "4   8.0  0.0  1.0  1.0  0.0  0.0      within an hour  "
      ]
     },
     "execution_count": 387,
     "metadata": {},
     "output_type": "execute_result"
    }
   ],
   "source": [
    "inputed_data.iloc[0:5,0:20]"
   ]
  },
  {
   "cell_type": "code",
   "execution_count": 388,
   "id": "33c99945",
   "metadata": {
    "scrolled": true
   },
   "outputs": [
    {
     "data": {
      "text/html": [
       "<div>\n",
       "<style scoped>\n",
       "    .dataframe tbody tr th:only-of-type {\n",
       "        vertical-align: middle;\n",
       "    }\n",
       "\n",
       "    .dataframe tbody tr th {\n",
       "        vertical-align: top;\n",
       "    }\n",
       "\n",
       "    .dataframe thead th {\n",
       "        text-align: right;\n",
       "    }\n",
       "</style>\n",
       "<table border=\"1\" class=\"dataframe\">\n",
       "  <thead>\n",
       "    <tr style=\"text-align: right;\">\n",
       "      <th></th>\n",
       "      <th>20</th>\n",
       "      <th>21</th>\n",
       "      <th>22</th>\n",
       "      <th>23</th>\n",
       "      <th>24</th>\n",
       "      <th>25</th>\n",
       "      <th>26</th>\n",
       "      <th>27</th>\n",
       "    </tr>\n",
       "  </thead>\n",
       "  <tbody>\n",
       "    <tr>\n",
       "      <th>0</th>\n",
       "      <td>100</td>\n",
       "      <td>over_90</td>\n",
       "      <td>t</td>\n",
       "      <td>t</td>\n",
       "      <td>t</td>\n",
       "      <td>Private room in townhouse</td>\n",
       "      <td>Private room</td>\n",
       "      <td>f</td>\n",
       "    </tr>\n",
       "    <tr>\n",
       "      <th>1</th>\n",
       "      <td>100</td>\n",
       "      <td>100</td>\n",
       "      <td>t</td>\n",
       "      <td>t</td>\n",
       "      <td>t</td>\n",
       "      <td>Private room in condo</td>\n",
       "      <td>Private room</td>\n",
       "      <td>f</td>\n",
       "    </tr>\n",
       "    <tr>\n",
       "      <th>2</th>\n",
       "      <td>100</td>\n",
       "      <td>below_70</td>\n",
       "      <td>f</td>\n",
       "      <td>t</td>\n",
       "      <td>t</td>\n",
       "      <td>Private room in townhouse</td>\n",
       "      <td>Private room</td>\n",
       "      <td>f</td>\n",
       "    </tr>\n",
       "    <tr>\n",
       "      <th>3</th>\n",
       "      <td>100</td>\n",
       "      <td>over_90</td>\n",
       "      <td>t</td>\n",
       "      <td>t</td>\n",
       "      <td>t</td>\n",
       "      <td>Private room in townhouse</td>\n",
       "      <td>Private room</td>\n",
       "      <td>f</td>\n",
       "    </tr>\n",
       "    <tr>\n",
       "      <th>4</th>\n",
       "      <td>below_70</td>\n",
       "      <td>100</td>\n",
       "      <td>t</td>\n",
       "      <td>t</td>\n",
       "      <td>t</td>\n",
       "      <td>Entire home</td>\n",
       "      <td>Entire home/apt</td>\n",
       "      <td>f</td>\n",
       "    </tr>\n",
       "  </tbody>\n",
       "</table>\n",
       "</div>"
      ],
      "text/plain": [
       "         20        21 22 23 24                         25               26 27\n",
       "0       100   over_90  t  t  t  Private room in townhouse     Private room  f\n",
       "1       100       100  t  t  t      Private room in condo     Private room  f\n",
       "2       100  below_70  f  t  t  Private room in townhouse     Private room  f\n",
       "3       100   over_90  t  t  t  Private room in townhouse     Private room  f\n",
       "4  below_70       100  t  t  t                Entire home  Entire home/apt  f"
      ]
     },
     "execution_count": 388,
     "metadata": {},
     "output_type": "execute_result"
    }
   ],
   "source": [
    "inputed_data.iloc[0:5,20:40]"
   ]
  },
  {
   "cell_type": "code",
   "execution_count": 389,
   "id": "af0a8b1e",
   "metadata": {},
   "outputs": [],
   "source": [
    "ohe = ColumnTransformer(transformers=[('ohe', OneHotEncoder(handle_unknown='ignore'), [19,20,21,22,23,24,25,26,27])]\n",
    "                       ,remainder='passthrough')"
   ]
  },
  {
   "cell_type": "code",
   "execution_count": 390,
   "id": "196a697c",
   "metadata": {},
   "outputs": [],
   "source": [
    "data_pipeline = Pipeline(steps=[('preprocessing', preprocessing)\n",
    "                               ,('imputation', imputation)\n",
    "                               ,('ohe', ohe)])"
   ]
  },
  {
   "cell_type": "code",
   "execution_count": 412,
   "id": "803d9d05",
   "metadata": {},
   "outputs": [],
   "source": [
    "import pickle\n",
    "pickle.dump(data_pipeline, open('data_pipeline.pkl','wb'))"
   ]
  },
  {
   "cell_type": "code",
   "execution_count": 394,
   "id": "bce7b3fd",
   "metadata": {},
   "outputs": [
    {
     "name": "stdout",
     "output_type": "stream",
     "text": [
      "fit() called...\n",
      "transform() called...\n",
      "fit() called...\n",
      "transform() called...\n",
      "fit() called...\n",
      "transform() called...\n"
     ]
    },
    {
     "data": {
      "text/plain": [
       "(1032, 78)"
      ]
     },
     "execution_count": 394,
     "metadata": {},
     "output_type": "execute_result"
    }
   ],
   "source": [
    "processed_data = pd.DataFrame(data_pipeline.fit_transform(X))\n",
    "processed_data.shape"
   ]
  },
  {
   "cell_type": "code",
   "execution_count": 397,
   "id": "34eb4ebb",
   "metadata": {},
   "outputs": [
    {
     "data": {
      "text/html": [
       "<div>\n",
       "<style scoped>\n",
       "    .dataframe tbody tr th:only-of-type {\n",
       "        vertical-align: middle;\n",
       "    }\n",
       "\n",
       "    .dataframe tbody tr th {\n",
       "        vertical-align: top;\n",
       "    }\n",
       "\n",
       "    .dataframe thead th {\n",
       "        text-align: right;\n",
       "    }\n",
       "</style>\n",
       "<table border=\"1\" class=\"dataframe\">\n",
       "  <thead>\n",
       "    <tr style=\"text-align: right;\">\n",
       "      <th></th>\n",
       "      <th>0</th>\n",
       "      <th>1</th>\n",
       "      <th>2</th>\n",
       "      <th>3</th>\n",
       "      <th>4</th>\n",
       "      <th>5</th>\n",
       "      <th>6</th>\n",
       "      <th>7</th>\n",
       "      <th>8</th>\n",
       "      <th>9</th>\n",
       "      <th>10</th>\n",
       "      <th>11</th>\n",
       "      <th>12</th>\n",
       "      <th>13</th>\n",
       "      <th>14</th>\n",
       "      <th>15</th>\n",
       "      <th>16</th>\n",
       "      <th>17</th>\n",
       "      <th>18</th>\n",
       "      <th>19</th>\n",
       "    </tr>\n",
       "  </thead>\n",
       "  <tbody>\n",
       "    <tr>\n",
       "      <th>0</th>\n",
       "      <td>0.0</td>\n",
       "      <td>0.0</td>\n",
       "      <td>0.0</td>\n",
       "      <td>1.0</td>\n",
       "      <td>1.0</td>\n",
       "      <td>0.0</td>\n",
       "      <td>0.0</td>\n",
       "      <td>0.0</td>\n",
       "      <td>0.0</td>\n",
       "      <td>0.0</td>\n",
       "      <td>0.0</td>\n",
       "      <td>0.0</td>\n",
       "      <td>1.0</td>\n",
       "      <td>0.0</td>\n",
       "      <td>0.0</td>\n",
       "      <td>1.0</td>\n",
       "      <td>0.0</td>\n",
       "      <td>1.0</td>\n",
       "      <td>0.0</td>\n",
       "      <td>1.0</td>\n",
       "    </tr>\n",
       "    <tr>\n",
       "      <th>1</th>\n",
       "      <td>0.0</td>\n",
       "      <td>0.0</td>\n",
       "      <td>0.0</td>\n",
       "      <td>1.0</td>\n",
       "      <td>1.0</td>\n",
       "      <td>0.0</td>\n",
       "      <td>0.0</td>\n",
       "      <td>0.0</td>\n",
       "      <td>0.0</td>\n",
       "      <td>1.0</td>\n",
       "      <td>0.0</td>\n",
       "      <td>0.0</td>\n",
       "      <td>0.0</td>\n",
       "      <td>0.0</td>\n",
       "      <td>0.0</td>\n",
       "      <td>1.0</td>\n",
       "      <td>0.0</td>\n",
       "      <td>1.0</td>\n",
       "      <td>0.0</td>\n",
       "      <td>1.0</td>\n",
       "    </tr>\n",
       "    <tr>\n",
       "      <th>2</th>\n",
       "      <td>0.0</td>\n",
       "      <td>0.0</td>\n",
       "      <td>1.0</td>\n",
       "      <td>0.0</td>\n",
       "      <td>1.0</td>\n",
       "      <td>0.0</td>\n",
       "      <td>0.0</td>\n",
       "      <td>0.0</td>\n",
       "      <td>0.0</td>\n",
       "      <td>0.0</td>\n",
       "      <td>1.0</td>\n",
       "      <td>0.0</td>\n",
       "      <td>0.0</td>\n",
       "      <td>0.0</td>\n",
       "      <td>1.0</td>\n",
       "      <td>0.0</td>\n",
       "      <td>0.0</td>\n",
       "      <td>1.0</td>\n",
       "      <td>0.0</td>\n",
       "      <td>1.0</td>\n",
       "    </tr>\n",
       "    <tr>\n",
       "      <th>3</th>\n",
       "      <td>0.0</td>\n",
       "      <td>0.0</td>\n",
       "      <td>1.0</td>\n",
       "      <td>0.0</td>\n",
       "      <td>1.0</td>\n",
       "      <td>0.0</td>\n",
       "      <td>0.0</td>\n",
       "      <td>0.0</td>\n",
       "      <td>0.0</td>\n",
       "      <td>0.0</td>\n",
       "      <td>0.0</td>\n",
       "      <td>0.0</td>\n",
       "      <td>1.0</td>\n",
       "      <td>0.0</td>\n",
       "      <td>0.0</td>\n",
       "      <td>1.0</td>\n",
       "      <td>0.0</td>\n",
       "      <td>1.0</td>\n",
       "      <td>0.0</td>\n",
       "      <td>1.0</td>\n",
       "    </tr>\n",
       "    <tr>\n",
       "      <th>4</th>\n",
       "      <td>0.0</td>\n",
       "      <td>0.0</td>\n",
       "      <td>0.0</td>\n",
       "      <td>1.0</td>\n",
       "      <td>0.0</td>\n",
       "      <td>1.0</td>\n",
       "      <td>0.0</td>\n",
       "      <td>0.0</td>\n",
       "      <td>0.0</td>\n",
       "      <td>1.0</td>\n",
       "      <td>0.0</td>\n",
       "      <td>0.0</td>\n",
       "      <td>0.0</td>\n",
       "      <td>0.0</td>\n",
       "      <td>0.0</td>\n",
       "      <td>1.0</td>\n",
       "      <td>0.0</td>\n",
       "      <td>1.0</td>\n",
       "      <td>0.0</td>\n",
       "      <td>1.0</td>\n",
       "    </tr>\n",
       "  </tbody>\n",
       "</table>\n",
       "</div>"
      ],
      "text/plain": [
       "    0    1    2    3    4    5    6    7    8    9    10   11   12   13   14  \\\n",
       "0  0.0  0.0  0.0  1.0  1.0  0.0  0.0  0.0  0.0  0.0  0.0  0.0  1.0  0.0  0.0   \n",
       "1  0.0  0.0  0.0  1.0  1.0  0.0  0.0  0.0  0.0  1.0  0.0  0.0  0.0  0.0  0.0   \n",
       "2  0.0  0.0  1.0  0.0  1.0  0.0  0.0  0.0  0.0  0.0  1.0  0.0  0.0  0.0  1.0   \n",
       "3  0.0  0.0  1.0  0.0  1.0  0.0  0.0  0.0  0.0  0.0  0.0  0.0  1.0  0.0  0.0   \n",
       "4  0.0  0.0  0.0  1.0  0.0  1.0  0.0  0.0  0.0  1.0  0.0  0.0  0.0  0.0  0.0   \n",
       "\n",
       "    15   16   17   18   19  \n",
       "0  1.0  0.0  1.0  0.0  1.0  \n",
       "1  1.0  0.0  1.0  0.0  1.0  \n",
       "2  0.0  0.0  1.0  0.0  1.0  \n",
       "3  1.0  0.0  1.0  0.0  1.0  \n",
       "4  1.0  0.0  1.0  0.0  1.0  "
      ]
     },
     "execution_count": 397,
     "metadata": {},
     "output_type": "execute_result"
    }
   ],
   "source": [
    "processed_data.iloc[0:5, 0:20]"
   ]
  },
  {
   "cell_type": "code",
   "execution_count": 398,
   "id": "06c01f9f",
   "metadata": {},
   "outputs": [
    {
     "data": {
      "text/html": [
       "<div>\n",
       "<style scoped>\n",
       "    .dataframe tbody tr th:only-of-type {\n",
       "        vertical-align: middle;\n",
       "    }\n",
       "\n",
       "    .dataframe tbody tr th {\n",
       "        vertical-align: top;\n",
       "    }\n",
       "\n",
       "    .dataframe thead th {\n",
       "        text-align: right;\n",
       "    }\n",
       "</style>\n",
       "<table border=\"1\" class=\"dataframe\">\n",
       "  <thead>\n",
       "    <tr style=\"text-align: right;\">\n",
       "      <th></th>\n",
       "      <th>20</th>\n",
       "      <th>21</th>\n",
       "      <th>22</th>\n",
       "      <th>23</th>\n",
       "      <th>24</th>\n",
       "      <th>25</th>\n",
       "      <th>26</th>\n",
       "      <th>27</th>\n",
       "      <th>28</th>\n",
       "      <th>29</th>\n",
       "      <th>30</th>\n",
       "      <th>31</th>\n",
       "      <th>32</th>\n",
       "      <th>33</th>\n",
       "      <th>34</th>\n",
       "      <th>35</th>\n",
       "      <th>36</th>\n",
       "      <th>37</th>\n",
       "      <th>38</th>\n",
       "      <th>39</th>\n",
       "    </tr>\n",
       "  </thead>\n",
       "  <tbody>\n",
       "    <tr>\n",
       "      <th>0</th>\n",
       "      <td>0.0</td>\n",
       "      <td>0.0</td>\n",
       "      <td>0.0</td>\n",
       "      <td>0.0</td>\n",
       "      <td>0.0</td>\n",
       "      <td>0.0</td>\n",
       "      <td>0.0</td>\n",
       "      <td>0.0</td>\n",
       "      <td>0.0</td>\n",
       "      <td>0.0</td>\n",
       "      <td>0.0</td>\n",
       "      <td>0.0</td>\n",
       "      <td>0.0</td>\n",
       "      <td>0.0</td>\n",
       "      <td>0.0</td>\n",
       "      <td>0.0</td>\n",
       "      <td>0.0</td>\n",
       "      <td>0.0</td>\n",
       "      <td>0.0</td>\n",
       "      <td>0.0</td>\n",
       "    </tr>\n",
       "    <tr>\n",
       "      <th>1</th>\n",
       "      <td>0.0</td>\n",
       "      <td>0.0</td>\n",
       "      <td>0.0</td>\n",
       "      <td>0.0</td>\n",
       "      <td>0.0</td>\n",
       "      <td>0.0</td>\n",
       "      <td>0.0</td>\n",
       "      <td>0.0</td>\n",
       "      <td>0.0</td>\n",
       "      <td>0.0</td>\n",
       "      <td>0.0</td>\n",
       "      <td>0.0</td>\n",
       "      <td>0.0</td>\n",
       "      <td>0.0</td>\n",
       "      <td>0.0</td>\n",
       "      <td>0.0</td>\n",
       "      <td>0.0</td>\n",
       "      <td>0.0</td>\n",
       "      <td>0.0</td>\n",
       "      <td>1.0</td>\n",
       "    </tr>\n",
       "    <tr>\n",
       "      <th>2</th>\n",
       "      <td>0.0</td>\n",
       "      <td>0.0</td>\n",
       "      <td>0.0</td>\n",
       "      <td>0.0</td>\n",
       "      <td>0.0</td>\n",
       "      <td>0.0</td>\n",
       "      <td>0.0</td>\n",
       "      <td>0.0</td>\n",
       "      <td>0.0</td>\n",
       "      <td>0.0</td>\n",
       "      <td>0.0</td>\n",
       "      <td>0.0</td>\n",
       "      <td>0.0</td>\n",
       "      <td>0.0</td>\n",
       "      <td>0.0</td>\n",
       "      <td>0.0</td>\n",
       "      <td>0.0</td>\n",
       "      <td>0.0</td>\n",
       "      <td>0.0</td>\n",
       "      <td>0.0</td>\n",
       "    </tr>\n",
       "    <tr>\n",
       "      <th>3</th>\n",
       "      <td>0.0</td>\n",
       "      <td>0.0</td>\n",
       "      <td>0.0</td>\n",
       "      <td>0.0</td>\n",
       "      <td>0.0</td>\n",
       "      <td>0.0</td>\n",
       "      <td>0.0</td>\n",
       "      <td>0.0</td>\n",
       "      <td>0.0</td>\n",
       "      <td>0.0</td>\n",
       "      <td>0.0</td>\n",
       "      <td>0.0</td>\n",
       "      <td>0.0</td>\n",
       "      <td>0.0</td>\n",
       "      <td>0.0</td>\n",
       "      <td>0.0</td>\n",
       "      <td>0.0</td>\n",
       "      <td>0.0</td>\n",
       "      <td>0.0</td>\n",
       "      <td>0.0</td>\n",
       "    </tr>\n",
       "    <tr>\n",
       "      <th>4</th>\n",
       "      <td>0.0</td>\n",
       "      <td>0.0</td>\n",
       "      <td>0.0</td>\n",
       "      <td>0.0</td>\n",
       "      <td>0.0</td>\n",
       "      <td>0.0</td>\n",
       "      <td>0.0</td>\n",
       "      <td>1.0</td>\n",
       "      <td>0.0</td>\n",
       "      <td>0.0</td>\n",
       "      <td>0.0</td>\n",
       "      <td>0.0</td>\n",
       "      <td>0.0</td>\n",
       "      <td>0.0</td>\n",
       "      <td>0.0</td>\n",
       "      <td>0.0</td>\n",
       "      <td>0.0</td>\n",
       "      <td>0.0</td>\n",
       "      <td>0.0</td>\n",
       "      <td>0.0</td>\n",
       "    </tr>\n",
       "  </tbody>\n",
       "</table>\n",
       "</div>"
      ],
      "text/plain": [
       "    20   21   22   23   24   25   26   27   28   29   30   31   32   33   34  \\\n",
       "0  0.0  0.0  0.0  0.0  0.0  0.0  0.0  0.0  0.0  0.0  0.0  0.0  0.0  0.0  0.0   \n",
       "1  0.0  0.0  0.0  0.0  0.0  0.0  0.0  0.0  0.0  0.0  0.0  0.0  0.0  0.0  0.0   \n",
       "2  0.0  0.0  0.0  0.0  0.0  0.0  0.0  0.0  0.0  0.0  0.0  0.0  0.0  0.0  0.0   \n",
       "3  0.0  0.0  0.0  0.0  0.0  0.0  0.0  0.0  0.0  0.0  0.0  0.0  0.0  0.0  0.0   \n",
       "4  0.0  0.0  0.0  0.0  0.0  0.0  0.0  1.0  0.0  0.0  0.0  0.0  0.0  0.0  0.0   \n",
       "\n",
       "    35   36   37   38   39  \n",
       "0  0.0  0.0  0.0  0.0  0.0  \n",
       "1  0.0  0.0  0.0  0.0  1.0  \n",
       "2  0.0  0.0  0.0  0.0  0.0  \n",
       "3  0.0  0.0  0.0  0.0  0.0  \n",
       "4  0.0  0.0  0.0  0.0  0.0  "
      ]
     },
     "execution_count": 398,
     "metadata": {},
     "output_type": "execute_result"
    }
   ],
   "source": [
    "processed_data.iloc[0:5, 20:40]"
   ]
  },
  {
   "cell_type": "code",
   "execution_count": 399,
   "id": "ace17304",
   "metadata": {},
   "outputs": [
    {
     "data": {
      "text/html": [
       "<div>\n",
       "<style scoped>\n",
       "    .dataframe tbody tr th:only-of-type {\n",
       "        vertical-align: middle;\n",
       "    }\n",
       "\n",
       "    .dataframe tbody tr th {\n",
       "        vertical-align: top;\n",
       "    }\n",
       "\n",
       "    .dataframe thead th {\n",
       "        text-align: right;\n",
       "    }\n",
       "</style>\n",
       "<table border=\"1\" class=\"dataframe\">\n",
       "  <thead>\n",
       "    <tr style=\"text-align: right;\">\n",
       "      <th></th>\n",
       "      <th>40</th>\n",
       "      <th>41</th>\n",
       "      <th>42</th>\n",
       "      <th>43</th>\n",
       "      <th>44</th>\n",
       "      <th>45</th>\n",
       "      <th>46</th>\n",
       "      <th>47</th>\n",
       "      <th>48</th>\n",
       "      <th>49</th>\n",
       "      <th>50</th>\n",
       "      <th>51</th>\n",
       "      <th>52</th>\n",
       "      <th>53</th>\n",
       "      <th>54</th>\n",
       "      <th>55</th>\n",
       "      <th>56</th>\n",
       "      <th>57</th>\n",
       "      <th>58</th>\n",
       "      <th>59</th>\n",
       "    </tr>\n",
       "  </thead>\n",
       "  <tbody>\n",
       "    <tr>\n",
       "      <th>0</th>\n",
       "      <td>0.0</td>\n",
       "      <td>0.0</td>\n",
       "      <td>0.0</td>\n",
       "      <td>0.0</td>\n",
       "      <td>0.0</td>\n",
       "      <td>0.0</td>\n",
       "      <td>1.0</td>\n",
       "      <td>0.0</td>\n",
       "      <td>0.0</td>\n",
       "      <td>0.0</td>\n",
       "      <td>0.0</td>\n",
       "      <td>0.0</td>\n",
       "      <td>0.0</td>\n",
       "      <td>0.0</td>\n",
       "      <td>0.0</td>\n",
       "      <td>1.0</td>\n",
       "      <td>0.0</td>\n",
       "      <td>1.0</td>\n",
       "      <td>0.0</td>\n",
       "      <td>1.0</td>\n",
       "    </tr>\n",
       "    <tr>\n",
       "      <th>1</th>\n",
       "      <td>0.0</td>\n",
       "      <td>0.0</td>\n",
       "      <td>0.0</td>\n",
       "      <td>0.0</td>\n",
       "      <td>0.0</td>\n",
       "      <td>0.0</td>\n",
       "      <td>0.0</td>\n",
       "      <td>0.0</td>\n",
       "      <td>0.0</td>\n",
       "      <td>0.0</td>\n",
       "      <td>0.0</td>\n",
       "      <td>0.0</td>\n",
       "      <td>0.0</td>\n",
       "      <td>0.0</td>\n",
       "      <td>0.0</td>\n",
       "      <td>1.0</td>\n",
       "      <td>0.0</td>\n",
       "      <td>1.0</td>\n",
       "      <td>0.0</td>\n",
       "      <td>1.0</td>\n",
       "    </tr>\n",
       "    <tr>\n",
       "      <th>2</th>\n",
       "      <td>0.0</td>\n",
       "      <td>0.0</td>\n",
       "      <td>0.0</td>\n",
       "      <td>0.0</td>\n",
       "      <td>0.0</td>\n",
       "      <td>0.0</td>\n",
       "      <td>1.0</td>\n",
       "      <td>0.0</td>\n",
       "      <td>0.0</td>\n",
       "      <td>0.0</td>\n",
       "      <td>0.0</td>\n",
       "      <td>0.0</td>\n",
       "      <td>0.0</td>\n",
       "      <td>0.0</td>\n",
       "      <td>0.0</td>\n",
       "      <td>1.0</td>\n",
       "      <td>0.0</td>\n",
       "      <td>1.0</td>\n",
       "      <td>0.0</td>\n",
       "      <td>1.0</td>\n",
       "    </tr>\n",
       "    <tr>\n",
       "      <th>3</th>\n",
       "      <td>0.0</td>\n",
       "      <td>0.0</td>\n",
       "      <td>0.0</td>\n",
       "      <td>0.0</td>\n",
       "      <td>0.0</td>\n",
       "      <td>0.0</td>\n",
       "      <td>1.0</td>\n",
       "      <td>0.0</td>\n",
       "      <td>0.0</td>\n",
       "      <td>0.0</td>\n",
       "      <td>0.0</td>\n",
       "      <td>0.0</td>\n",
       "      <td>0.0</td>\n",
       "      <td>0.0</td>\n",
       "      <td>0.0</td>\n",
       "      <td>1.0</td>\n",
       "      <td>0.0</td>\n",
       "      <td>1.0</td>\n",
       "      <td>0.0</td>\n",
       "      <td>1.0</td>\n",
       "    </tr>\n",
       "    <tr>\n",
       "      <th>4</th>\n",
       "      <td>0.0</td>\n",
       "      <td>0.0</td>\n",
       "      <td>0.0</td>\n",
       "      <td>0.0</td>\n",
       "      <td>0.0</td>\n",
       "      <td>0.0</td>\n",
       "      <td>0.0</td>\n",
       "      <td>0.0</td>\n",
       "      <td>0.0</td>\n",
       "      <td>0.0</td>\n",
       "      <td>0.0</td>\n",
       "      <td>0.0</td>\n",
       "      <td>0.0</td>\n",
       "      <td>1.0</td>\n",
       "      <td>0.0</td>\n",
       "      <td>0.0</td>\n",
       "      <td>0.0</td>\n",
       "      <td>1.0</td>\n",
       "      <td>0.0</td>\n",
       "      <td>5.0</td>\n",
       "    </tr>\n",
       "  </tbody>\n",
       "</table>\n",
       "</div>"
      ],
      "text/plain": [
       "    40   41   42   43   44   45   46   47   48   49   50   51   52   53   54  \\\n",
       "0  0.0  0.0  0.0  0.0  0.0  0.0  1.0  0.0  0.0  0.0  0.0  0.0  0.0  0.0  0.0   \n",
       "1  0.0  0.0  0.0  0.0  0.0  0.0  0.0  0.0  0.0  0.0  0.0  0.0  0.0  0.0  0.0   \n",
       "2  0.0  0.0  0.0  0.0  0.0  0.0  1.0  0.0  0.0  0.0  0.0  0.0  0.0  0.0  0.0   \n",
       "3  0.0  0.0  0.0  0.0  0.0  0.0  1.0  0.0  0.0  0.0  0.0  0.0  0.0  0.0  0.0   \n",
       "4  0.0  0.0  0.0  0.0  0.0  0.0  0.0  0.0  0.0  0.0  0.0  0.0  0.0  1.0  0.0   \n",
       "\n",
       "    55   56   57   58   59  \n",
       "0  1.0  0.0  1.0  0.0  1.0  \n",
       "1  1.0  0.0  1.0  0.0  1.0  \n",
       "2  1.0  0.0  1.0  0.0  1.0  \n",
       "3  1.0  0.0  1.0  0.0  1.0  \n",
       "4  0.0  0.0  1.0  0.0  5.0  "
      ]
     },
     "execution_count": 399,
     "metadata": {},
     "output_type": "execute_result"
    }
   ],
   "source": [
    "processed_data.iloc[0:5, 40:60]"
   ]
  },
  {
   "cell_type": "code",
   "execution_count": 400,
   "id": "499bf709",
   "metadata": {},
   "outputs": [
    {
     "data": {
      "text/html": [
       "<div>\n",
       "<style scoped>\n",
       "    .dataframe tbody tr th:only-of-type {\n",
       "        vertical-align: middle;\n",
       "    }\n",
       "\n",
       "    .dataframe tbody tr th {\n",
       "        vertical-align: top;\n",
       "    }\n",
       "\n",
       "    .dataframe thead th {\n",
       "        text-align: right;\n",
       "    }\n",
       "</style>\n",
       "<table border=\"1\" class=\"dataframe\">\n",
       "  <thead>\n",
       "    <tr style=\"text-align: right;\">\n",
       "      <th></th>\n",
       "      <th>60</th>\n",
       "      <th>61</th>\n",
       "      <th>62</th>\n",
       "      <th>63</th>\n",
       "      <th>64</th>\n",
       "      <th>65</th>\n",
       "      <th>66</th>\n",
       "      <th>67</th>\n",
       "      <th>68</th>\n",
       "      <th>69</th>\n",
       "      <th>70</th>\n",
       "      <th>71</th>\n",
       "      <th>72</th>\n",
       "      <th>73</th>\n",
       "      <th>74</th>\n",
       "      <th>75</th>\n",
       "      <th>76</th>\n",
       "      <th>77</th>\n",
       "    </tr>\n",
       "  </thead>\n",
       "  <tbody>\n",
       "    <tr>\n",
       "      <th>0</th>\n",
       "      <td>1.0</td>\n",
       "      <td>4.78</td>\n",
       "      <td>4.9</td>\n",
       "      <td>4.68</td>\n",
       "      <td>4.95</td>\n",
       "      <td>4.94</td>\n",
       "      <td>4.75</td>\n",
       "      <td>4.77</td>\n",
       "      <td>1.0</td>\n",
       "      <td>3.0</td>\n",
       "      <td>2.0</td>\n",
       "      <td>13.0</td>\n",
       "      <td>19.0</td>\n",
       "      <td>0.0</td>\n",
       "      <td>5.0</td>\n",
       "      <td>0.0</td>\n",
       "      <td>5.0</td>\n",
       "      <td>0.0</td>\n",
       "    </tr>\n",
       "    <tr>\n",
       "      <th>1</th>\n",
       "      <td>1.0</td>\n",
       "      <td>4.95</td>\n",
       "      <td>4.93</td>\n",
       "      <td>4.98</td>\n",
       "      <td>5.0</td>\n",
       "      <td>4.99</td>\n",
       "      <td>4.97</td>\n",
       "      <td>4.88</td>\n",
       "      <td>2.5</td>\n",
       "      <td>2.0</td>\n",
       "      <td>2.0</td>\n",
       "      <td>60.0</td>\n",
       "      <td>17.0</td>\n",
       "      <td>1.0</td>\n",
       "      <td>1.0</td>\n",
       "      <td>0.0</td>\n",
       "      <td>1.0</td>\n",
       "      <td>0.0</td>\n",
       "    </tr>\n",
       "    <tr>\n",
       "      <th>2</th>\n",
       "      <td>1.0</td>\n",
       "      <td>4.76</td>\n",
       "      <td>4.67</td>\n",
       "      <td>4.42</td>\n",
       "      <td>5.0</td>\n",
       "      <td>4.93</td>\n",
       "      <td>4.74</td>\n",
       "      <td>4.7</td>\n",
       "      <td>1.0</td>\n",
       "      <td>2.0</td>\n",
       "      <td>1.0</td>\n",
       "      <td>29.0</td>\n",
       "      <td>8.0</td>\n",
       "      <td>2.0</td>\n",
       "      <td>1.0</td>\n",
       "      <td>0.0</td>\n",
       "      <td>1.0</td>\n",
       "      <td>0.0</td>\n",
       "    </tr>\n",
       "    <tr>\n",
       "      <th>3</th>\n",
       "      <td>1.0</td>\n",
       "      <td>4.63</td>\n",
       "      <td>4.83</td>\n",
       "      <td>4.72</td>\n",
       "      <td>4.93</td>\n",
       "      <td>4.76</td>\n",
       "      <td>4.79</td>\n",
       "      <td>4.62</td>\n",
       "      <td>1.5</td>\n",
       "      <td>2.0</td>\n",
       "      <td>2.0</td>\n",
       "      <td>51.0</td>\n",
       "      <td>6.0</td>\n",
       "      <td>0.0</td>\n",
       "      <td>3.0</td>\n",
       "      <td>1.0</td>\n",
       "      <td>2.0</td>\n",
       "      <td>0.0</td>\n",
       "    </tr>\n",
       "    <tr>\n",
       "      <th>4</th>\n",
       "      <td>9.0</td>\n",
       "      <td>4.94</td>\n",
       "      <td>4.9</td>\n",
       "      <td>4.86</td>\n",
       "      <td>4.96</td>\n",
       "      <td>4.96</td>\n",
       "      <td>4.83</td>\n",
       "      <td>4.73</td>\n",
       "      <td>3.0</td>\n",
       "      <td>2.0</td>\n",
       "      <td>12.0</td>\n",
       "      <td>50.0</td>\n",
       "      <td>8.0</td>\n",
       "      <td>0.0</td>\n",
       "      <td>1.0</td>\n",
       "      <td>1.0</td>\n",
       "      <td>0.0</td>\n",
       "      <td>0.0</td>\n",
       "    </tr>\n",
       "  </tbody>\n",
       "</table>\n",
       "</div>"
      ],
      "text/plain": [
       "    60    61    62    63    64    65    66    67   68   69    70    71    72  \\\n",
       "0  1.0  4.78   4.9  4.68  4.95  4.94  4.75  4.77  1.0  3.0   2.0  13.0  19.0   \n",
       "1  1.0  4.95  4.93  4.98   5.0  4.99  4.97  4.88  2.5  2.0   2.0  60.0  17.0   \n",
       "2  1.0  4.76  4.67  4.42   5.0  4.93  4.74   4.7  1.0  2.0   1.0  29.0   8.0   \n",
       "3  1.0  4.63  4.83  4.72  4.93  4.76  4.79  4.62  1.5  2.0   2.0  51.0   6.0   \n",
       "4  9.0  4.94   4.9  4.86  4.96  4.96  4.83  4.73  3.0  2.0  12.0  50.0   8.0   \n",
       "\n",
       "    73   74   75   76   77  \n",
       "0  0.0  5.0  0.0  5.0  0.0  \n",
       "1  1.0  1.0  0.0  1.0  0.0  \n",
       "2  2.0  1.0  0.0  1.0  0.0  \n",
       "3  0.0  3.0  1.0  2.0  0.0  \n",
       "4  0.0  1.0  1.0  0.0  0.0  "
      ]
     },
     "execution_count": 400,
     "metadata": {},
     "output_type": "execute_result"
    }
   ],
   "source": [
    "processed_data.iloc[0:5, 60:80]"
   ]
  },
  {
   "cell_type": "code",
   "execution_count": 402,
   "id": "1174b92c",
   "metadata": {},
   "outputs": [],
   "source": [
    "ml_pipeline = Pipeline(steps=[('data_pipeline', data_pipeline)\n",
    "                             ,('linear_regression', LinearRegression())])"
   ]
  },
  {
   "cell_type": "code",
   "execution_count": 413,
   "id": "62eb0dc8",
   "metadata": {},
   "outputs": [],
   "source": [
    "pickle.dump(ml_pipeline, open('ml_pipeline_airbnb.pkl', 'wb'))"
   ]
  },
  {
   "cell_type": "code",
   "execution_count": 403,
   "id": "69e3dc6b",
   "metadata": {},
   "outputs": [
    {
     "data": {
      "text/html": [
       "<style>#sk-94111214-55a4-4b70-91cf-8f88f77f4b6d {color: black;background-color: white;}#sk-94111214-55a4-4b70-91cf-8f88f77f4b6d pre{padding: 0;}#sk-94111214-55a4-4b70-91cf-8f88f77f4b6d div.sk-toggleable {background-color: white;}#sk-94111214-55a4-4b70-91cf-8f88f77f4b6d label.sk-toggleable__label {cursor: pointer;display: block;width: 100%;margin-bottom: 0;padding: 0.3em;box-sizing: border-box;text-align: center;}#sk-94111214-55a4-4b70-91cf-8f88f77f4b6d label.sk-toggleable__label-arrow:before {content: \"▸\";float: left;margin-right: 0.25em;color: #696969;}#sk-94111214-55a4-4b70-91cf-8f88f77f4b6d label.sk-toggleable__label-arrow:hover:before {color: black;}#sk-94111214-55a4-4b70-91cf-8f88f77f4b6d div.sk-estimator:hover label.sk-toggleable__label-arrow:before {color: black;}#sk-94111214-55a4-4b70-91cf-8f88f77f4b6d div.sk-toggleable__content {max-height: 0;max-width: 0;overflow: hidden;text-align: left;background-color: #f0f8ff;}#sk-94111214-55a4-4b70-91cf-8f88f77f4b6d div.sk-toggleable__content pre {margin: 0.2em;color: black;border-radius: 0.25em;background-color: #f0f8ff;}#sk-94111214-55a4-4b70-91cf-8f88f77f4b6d input.sk-toggleable__control:checked~div.sk-toggleable__content {max-height: 200px;max-width: 100%;overflow: auto;}#sk-94111214-55a4-4b70-91cf-8f88f77f4b6d input.sk-toggleable__control:checked~label.sk-toggleable__label-arrow:before {content: \"▾\";}#sk-94111214-55a4-4b70-91cf-8f88f77f4b6d div.sk-estimator input.sk-toggleable__control:checked~label.sk-toggleable__label {background-color: #d4ebff;}#sk-94111214-55a4-4b70-91cf-8f88f77f4b6d div.sk-label input.sk-toggleable__control:checked~label.sk-toggleable__label {background-color: #d4ebff;}#sk-94111214-55a4-4b70-91cf-8f88f77f4b6d input.sk-hidden--visually {border: 0;clip: rect(1px 1px 1px 1px);clip: rect(1px, 1px, 1px, 1px);height: 1px;margin: -1px;overflow: hidden;padding: 0;position: absolute;width: 1px;}#sk-94111214-55a4-4b70-91cf-8f88f77f4b6d div.sk-estimator {font-family: monospace;background-color: #f0f8ff;border: 1px dotted black;border-radius: 0.25em;box-sizing: border-box;margin-bottom: 0.5em;}#sk-94111214-55a4-4b70-91cf-8f88f77f4b6d div.sk-estimator:hover {background-color: #d4ebff;}#sk-94111214-55a4-4b70-91cf-8f88f77f4b6d div.sk-parallel-item::after {content: \"\";width: 100%;border-bottom: 1px solid gray;flex-grow: 1;}#sk-94111214-55a4-4b70-91cf-8f88f77f4b6d div.sk-label:hover label.sk-toggleable__label {background-color: #d4ebff;}#sk-94111214-55a4-4b70-91cf-8f88f77f4b6d div.sk-serial::before {content: \"\";position: absolute;border-left: 1px solid gray;box-sizing: border-box;top: 2em;bottom: 0;left: 50%;}#sk-94111214-55a4-4b70-91cf-8f88f77f4b6d div.sk-serial {display: flex;flex-direction: column;align-items: center;background-color: white;padding-right: 0.2em;padding-left: 0.2em;}#sk-94111214-55a4-4b70-91cf-8f88f77f4b6d div.sk-item {z-index: 1;}#sk-94111214-55a4-4b70-91cf-8f88f77f4b6d div.sk-parallel {display: flex;align-items: stretch;justify-content: center;background-color: white;}#sk-94111214-55a4-4b70-91cf-8f88f77f4b6d div.sk-parallel::before {content: \"\";position: absolute;border-left: 1px solid gray;box-sizing: border-box;top: 2em;bottom: 0;left: 50%;}#sk-94111214-55a4-4b70-91cf-8f88f77f4b6d div.sk-parallel-item {display: flex;flex-direction: column;position: relative;background-color: white;}#sk-94111214-55a4-4b70-91cf-8f88f77f4b6d div.sk-parallel-item:first-child::after {align-self: flex-end;width: 50%;}#sk-94111214-55a4-4b70-91cf-8f88f77f4b6d div.sk-parallel-item:last-child::after {align-self: flex-start;width: 50%;}#sk-94111214-55a4-4b70-91cf-8f88f77f4b6d div.sk-parallel-item:only-child::after {width: 0;}#sk-94111214-55a4-4b70-91cf-8f88f77f4b6d div.sk-dashed-wrapped {border: 1px dashed gray;margin: 0 0.4em 0.5em 0.4em;box-sizing: border-box;padding-bottom: 0.4em;background-color: white;position: relative;}#sk-94111214-55a4-4b70-91cf-8f88f77f4b6d div.sk-label label {font-family: monospace;font-weight: bold;background-color: white;display: inline-block;line-height: 1.2em;}#sk-94111214-55a4-4b70-91cf-8f88f77f4b6d div.sk-label-container {position: relative;z-index: 2;text-align: center;}#sk-94111214-55a4-4b70-91cf-8f88f77f4b6d div.sk-container {/* jupyter's `normalize.less` sets `[hidden] { display: none; }` but bootstrap.min.css set `[hidden] { display: none !important; }` so we also need the `!important` here to be able to override the default hidden behavior on the sphinx rendered scikit-learn.org. See: https://github.com/scikit-learn/scikit-learn/issues/21755 */display: inline-block !important;position: relative;}#sk-94111214-55a4-4b70-91cf-8f88f77f4b6d div.sk-text-repr-fallback {display: none;}</style><div id=\"sk-94111214-55a4-4b70-91cf-8f88f77f4b6d\" class=\"sk-top-container\"><div class=\"sk-text-repr-fallback\"><pre>Pipeline(steps=[(&#x27;data_pipeline&#x27;,\n",
       "                 Pipeline(steps=[(&#x27;preprocessing&#x27;,\n",
       "                                  Pipeline(steps=[(&#x27;PercentageProcessing&#x27;,\n",
       "                                                   PercentageProcessing(feature_list=[1,\n",
       "                                                                                      2])),\n",
       "                                                  (&#x27;ItemCount&#x27;,\n",
       "                                                   ItemCount(feature_list=[4,\n",
       "                                                                           13])),\n",
       "                                                  (&#x27;BathroomText&#x27;,\n",
       "                                                   BathroomText(feature=[10]))])),\n",
       "                                 (&#x27;imputation&#x27;,\n",
       "                                  ColumnTransformer(transformers=[(&#x27;FloatTransform&#x27;,\n",
       "                                                                   SimpleImputer(),\n",
       "                                                                   [10, 11, 15,\n",
       "                                                                    16, 17, 18,\n",
       "                                                                    19, 20, 21,\n",
       "                                                                    27]),\n",
       "                                                                  (&#x27;IntTransform&#x27;,\n",
       "                                                                   SimpleImputer(strategy=&#x27;median&#x27;),\n",
       "                                                                   [4, 9, 12,\n",
       "                                                                    13, 14, 23,\n",
       "                                                                    24, 25,\n",
       "                                                                    26]),\n",
       "                                                                  (&#x27;ObjImpute&#x27;,\n",
       "                                                                   SimpleImputer(strategy=&#x27;most_frequent&#x27;),\n",
       "                                                                   [0, 1, 2, 3,\n",
       "                                                                    5, 6, 7, 8,\n",
       "                                                                    22])])),\n",
       "                                 (&#x27;ohe&#x27;,\n",
       "                                  ColumnTransformer(remainder=&#x27;passthrough&#x27;,\n",
       "                                                    transformers=[(&#x27;ohe&#x27;,\n",
       "                                                                   OneHotEncoder(handle_unknown=&#x27;ignore&#x27;),\n",
       "                                                                   [19, 20, 21,\n",
       "                                                                    22, 23, 24,\n",
       "                                                                    25, 26,\n",
       "                                                                    27])]))])),\n",
       "                (&#x27;linear_regression&#x27;, LinearRegression())])</pre><b>Please rerun this cell to show the HTML repr or trust the notebook.</b></div><div class=\"sk-container\" hidden><div class=\"sk-item sk-dashed-wrapped\"><div class=\"sk-label-container\"><div class=\"sk-label sk-toggleable\"><input class=\"sk-toggleable__control sk-hidden--visually\" id=\"a58375a1-b072-47b4-8841-eeb1f2330152\" type=\"checkbox\" ><label for=\"a58375a1-b072-47b4-8841-eeb1f2330152\" class=\"sk-toggleable__label sk-toggleable__label-arrow\">Pipeline</label><div class=\"sk-toggleable__content\"><pre>Pipeline(steps=[(&#x27;data_pipeline&#x27;,\n",
       "                 Pipeline(steps=[(&#x27;preprocessing&#x27;,\n",
       "                                  Pipeline(steps=[(&#x27;PercentageProcessing&#x27;,\n",
       "                                                   PercentageProcessing(feature_list=[1,\n",
       "                                                                                      2])),\n",
       "                                                  (&#x27;ItemCount&#x27;,\n",
       "                                                   ItemCount(feature_list=[4,\n",
       "                                                                           13])),\n",
       "                                                  (&#x27;BathroomText&#x27;,\n",
       "                                                   BathroomText(feature=[10]))])),\n",
       "                                 (&#x27;imputation&#x27;,\n",
       "                                  ColumnTransformer(transformers=[(&#x27;FloatTransform&#x27;,\n",
       "                                                                   SimpleImputer(),\n",
       "                                                                   [10, 11, 15,\n",
       "                                                                    16, 17, 18,\n",
       "                                                                    19, 20, 21,\n",
       "                                                                    27]),\n",
       "                                                                  (&#x27;IntTransform&#x27;,\n",
       "                                                                   SimpleImputer(strategy=&#x27;median&#x27;),\n",
       "                                                                   [4, 9, 12,\n",
       "                                                                    13, 14, 23,\n",
       "                                                                    24, 25,\n",
       "                                                                    26]),\n",
       "                                                                  (&#x27;ObjImpute&#x27;,\n",
       "                                                                   SimpleImputer(strategy=&#x27;most_frequent&#x27;),\n",
       "                                                                   [0, 1, 2, 3,\n",
       "                                                                    5, 6, 7, 8,\n",
       "                                                                    22])])),\n",
       "                                 (&#x27;ohe&#x27;,\n",
       "                                  ColumnTransformer(remainder=&#x27;passthrough&#x27;,\n",
       "                                                    transformers=[(&#x27;ohe&#x27;,\n",
       "                                                                   OneHotEncoder(handle_unknown=&#x27;ignore&#x27;),\n",
       "                                                                   [19, 20, 21,\n",
       "                                                                    22, 23, 24,\n",
       "                                                                    25, 26,\n",
       "                                                                    27])]))])),\n",
       "                (&#x27;linear_regression&#x27;, LinearRegression())])</pre></div></div></div><div class=\"sk-serial\"><div class=\"sk-item\"><div class=\"sk-label-container\"><div class=\"sk-label sk-toggleable\"><input class=\"sk-toggleable__control sk-hidden--visually\" id=\"185bde0e-c6f0-413d-a040-4cc5e8509f1d\" type=\"checkbox\" ><label for=\"185bde0e-c6f0-413d-a040-4cc5e8509f1d\" class=\"sk-toggleable__label sk-toggleable__label-arrow\">data_pipeline: Pipeline</label><div class=\"sk-toggleable__content\"><pre>Pipeline(steps=[(&#x27;preprocessing&#x27;,\n",
       "                 Pipeline(steps=[(&#x27;PercentageProcessing&#x27;,\n",
       "                                  PercentageProcessing(feature_list=[1, 2])),\n",
       "                                 (&#x27;ItemCount&#x27;, ItemCount(feature_list=[4, 13])),\n",
       "                                 (&#x27;BathroomText&#x27;,\n",
       "                                  BathroomText(feature=[10]))])),\n",
       "                (&#x27;imputation&#x27;,\n",
       "                 ColumnTransformer(transformers=[(&#x27;FloatTransform&#x27;,\n",
       "                                                  SimpleImputer(),\n",
       "                                                  [10, 11, 15, 16, 17, 18, 19,\n",
       "                                                   20, 21, 27]),\n",
       "                                                 (&#x27;IntTransform&#x27;,\n",
       "                                                  SimpleImputer(strategy=&#x27;median&#x27;),\n",
       "                                                  [4, 9, 12, 13, 14, 23, 24, 25,\n",
       "                                                   26]),\n",
       "                                                 (&#x27;ObjImpute&#x27;,\n",
       "                                                  SimpleImputer(strategy=&#x27;most_frequent&#x27;),\n",
       "                                                  [0, 1, 2, 3, 5, 6, 7, 8,\n",
       "                                                   22])])),\n",
       "                (&#x27;ohe&#x27;,\n",
       "                 ColumnTransformer(remainder=&#x27;passthrough&#x27;,\n",
       "                                   transformers=[(&#x27;ohe&#x27;,\n",
       "                                                  OneHotEncoder(handle_unknown=&#x27;ignore&#x27;),\n",
       "                                                  [19, 20, 21, 22, 23, 24, 25,\n",
       "                                                   26, 27])]))])</pre></div></div></div><div class=\"sk-serial\"><div class=\"sk-item\"><div class=\"sk-label-container\"><div class=\"sk-label sk-toggleable\"><input class=\"sk-toggleable__control sk-hidden--visually\" id=\"e2917402-274e-423a-8687-300cb6283d2b\" type=\"checkbox\" ><label for=\"e2917402-274e-423a-8687-300cb6283d2b\" class=\"sk-toggleable__label sk-toggleable__label-arrow\">preprocessing: Pipeline</label><div class=\"sk-toggleable__content\"><pre>Pipeline(steps=[(&#x27;PercentageProcessing&#x27;,\n",
       "                 PercentageProcessing(feature_list=[1, 2])),\n",
       "                (&#x27;ItemCount&#x27;, ItemCount(feature_list=[4, 13])),\n",
       "                (&#x27;BathroomText&#x27;, BathroomText(feature=[10]))])</pre></div></div></div><div class=\"sk-serial\"><div class=\"sk-item\"><div class=\"sk-estimator sk-toggleable\"><input class=\"sk-toggleable__control sk-hidden--visually\" id=\"8fc79f5d-2cae-419d-898d-0b72ce7c4b0d\" type=\"checkbox\" ><label for=\"8fc79f5d-2cae-419d-898d-0b72ce7c4b0d\" class=\"sk-toggleable__label sk-toggleable__label-arrow\">PercentageProcessing</label><div class=\"sk-toggleable__content\"><pre>PercentageProcessing(feature_list=[1, 2])</pre></div></div></div><div class=\"sk-item\"><div class=\"sk-estimator sk-toggleable\"><input class=\"sk-toggleable__control sk-hidden--visually\" id=\"31df3608-ad73-4ef3-bca6-966bd55a34ae\" type=\"checkbox\" ><label for=\"31df3608-ad73-4ef3-bca6-966bd55a34ae\" class=\"sk-toggleable__label sk-toggleable__label-arrow\">ItemCount</label><div class=\"sk-toggleable__content\"><pre>ItemCount(feature_list=[4, 13])</pre></div></div></div><div class=\"sk-item\"><div class=\"sk-estimator sk-toggleable\"><input class=\"sk-toggleable__control sk-hidden--visually\" id=\"1a89c64f-21a7-45e3-8b4e-3e8b430333eb\" type=\"checkbox\" ><label for=\"1a89c64f-21a7-45e3-8b4e-3e8b430333eb\" class=\"sk-toggleable__label sk-toggleable__label-arrow\">BathroomText</label><div class=\"sk-toggleable__content\"><pre>BathroomText(feature=[10])</pre></div></div></div></div></div><div class=\"sk-item sk-dashed-wrapped\"><div class=\"sk-label-container\"><div class=\"sk-label sk-toggleable\"><input class=\"sk-toggleable__control sk-hidden--visually\" id=\"ade40a35-d534-42fc-adb8-02d221342840\" type=\"checkbox\" ><label for=\"ade40a35-d534-42fc-adb8-02d221342840\" class=\"sk-toggleable__label sk-toggleable__label-arrow\">imputation: ColumnTransformer</label><div class=\"sk-toggleable__content\"><pre>ColumnTransformer(transformers=[(&#x27;FloatTransform&#x27;, SimpleImputer(),\n",
       "                                 [10, 11, 15, 16, 17, 18, 19, 20, 21, 27]),\n",
       "                                (&#x27;IntTransform&#x27;,\n",
       "                                 SimpleImputer(strategy=&#x27;median&#x27;),\n",
       "                                 [4, 9, 12, 13, 14, 23, 24, 25, 26]),\n",
       "                                (&#x27;ObjImpute&#x27;,\n",
       "                                 SimpleImputer(strategy=&#x27;most_frequent&#x27;),\n",
       "                                 [0, 1, 2, 3, 5, 6, 7, 8, 22])])</pre></div></div></div><div class=\"sk-parallel\"><div class=\"sk-parallel-item\"><div class=\"sk-item\"><div class=\"sk-label-container\"><div class=\"sk-label sk-toggleable\"><input class=\"sk-toggleable__control sk-hidden--visually\" id=\"04cbfbc7-dfae-412f-98a4-c1520bebe90a\" type=\"checkbox\" ><label for=\"04cbfbc7-dfae-412f-98a4-c1520bebe90a\" class=\"sk-toggleable__label sk-toggleable__label-arrow\">FloatTransform</label><div class=\"sk-toggleable__content\"><pre>[10, 11, 15, 16, 17, 18, 19, 20, 21, 27]</pre></div></div></div><div class=\"sk-serial\"><div class=\"sk-item\"><div class=\"sk-estimator sk-toggleable\"><input class=\"sk-toggleable__control sk-hidden--visually\" id=\"0bc33d96-7a9f-40e0-96e3-cf09dd2b073e\" type=\"checkbox\" ><label for=\"0bc33d96-7a9f-40e0-96e3-cf09dd2b073e\" class=\"sk-toggleable__label sk-toggleable__label-arrow\">SimpleImputer</label><div class=\"sk-toggleable__content\"><pre>SimpleImputer()</pre></div></div></div></div></div></div><div class=\"sk-parallel-item\"><div class=\"sk-item\"><div class=\"sk-label-container\"><div class=\"sk-label sk-toggleable\"><input class=\"sk-toggleable__control sk-hidden--visually\" id=\"61bf9b8f-237f-4d37-89c5-9c3289dac131\" type=\"checkbox\" ><label for=\"61bf9b8f-237f-4d37-89c5-9c3289dac131\" class=\"sk-toggleable__label sk-toggleable__label-arrow\">IntTransform</label><div class=\"sk-toggleable__content\"><pre>[4, 9, 12, 13, 14, 23, 24, 25, 26]</pre></div></div></div><div class=\"sk-serial\"><div class=\"sk-item\"><div class=\"sk-estimator sk-toggleable\"><input class=\"sk-toggleable__control sk-hidden--visually\" id=\"19de97be-f856-4b33-8c06-6851a8bddfbc\" type=\"checkbox\" ><label for=\"19de97be-f856-4b33-8c06-6851a8bddfbc\" class=\"sk-toggleable__label sk-toggleable__label-arrow\">SimpleImputer</label><div class=\"sk-toggleable__content\"><pre>SimpleImputer(strategy=&#x27;median&#x27;)</pre></div></div></div></div></div></div><div class=\"sk-parallel-item\"><div class=\"sk-item\"><div class=\"sk-label-container\"><div class=\"sk-label sk-toggleable\"><input class=\"sk-toggleable__control sk-hidden--visually\" id=\"0ff2a5d8-4f22-473d-94b5-88deabb6b4fa\" type=\"checkbox\" ><label for=\"0ff2a5d8-4f22-473d-94b5-88deabb6b4fa\" class=\"sk-toggleable__label sk-toggleable__label-arrow\">ObjImpute</label><div class=\"sk-toggleable__content\"><pre>[0, 1, 2, 3, 5, 6, 7, 8, 22]</pre></div></div></div><div class=\"sk-serial\"><div class=\"sk-item\"><div class=\"sk-estimator sk-toggleable\"><input class=\"sk-toggleable__control sk-hidden--visually\" id=\"5461e580-2cb4-4142-acb9-9e79685352e8\" type=\"checkbox\" ><label for=\"5461e580-2cb4-4142-acb9-9e79685352e8\" class=\"sk-toggleable__label sk-toggleable__label-arrow\">SimpleImputer</label><div class=\"sk-toggleable__content\"><pre>SimpleImputer(strategy=&#x27;most_frequent&#x27;)</pre></div></div></div></div></div></div></div></div><div class=\"sk-item sk-dashed-wrapped\"><div class=\"sk-label-container\"><div class=\"sk-label sk-toggleable\"><input class=\"sk-toggleable__control sk-hidden--visually\" id=\"b2de3967-34aa-42eb-9273-103de2c52805\" type=\"checkbox\" ><label for=\"b2de3967-34aa-42eb-9273-103de2c52805\" class=\"sk-toggleable__label sk-toggleable__label-arrow\">ohe: ColumnTransformer</label><div class=\"sk-toggleable__content\"><pre>ColumnTransformer(remainder=&#x27;passthrough&#x27;,\n",
       "                  transformers=[(&#x27;ohe&#x27;, OneHotEncoder(handle_unknown=&#x27;ignore&#x27;),\n",
       "                                 [19, 20, 21, 22, 23, 24, 25, 26, 27])])</pre></div></div></div><div class=\"sk-parallel\"><div class=\"sk-parallel-item\"><div class=\"sk-item\"><div class=\"sk-label-container\"><div class=\"sk-label sk-toggleable\"><input class=\"sk-toggleable__control sk-hidden--visually\" id=\"1367f908-a65e-488e-82a8-4ff1e397903f\" type=\"checkbox\" ><label for=\"1367f908-a65e-488e-82a8-4ff1e397903f\" class=\"sk-toggleable__label sk-toggleable__label-arrow\">ohe</label><div class=\"sk-toggleable__content\"><pre>[19, 20, 21, 22, 23, 24, 25, 26, 27]</pre></div></div></div><div class=\"sk-serial\"><div class=\"sk-item\"><div class=\"sk-estimator sk-toggleable\"><input class=\"sk-toggleable__control sk-hidden--visually\" id=\"be5ef3b0-e1be-4009-a6d7-4980c100786a\" type=\"checkbox\" ><label for=\"be5ef3b0-e1be-4009-a6d7-4980c100786a\" class=\"sk-toggleable__label sk-toggleable__label-arrow\">OneHotEncoder</label><div class=\"sk-toggleable__content\"><pre>OneHotEncoder(handle_unknown=&#x27;ignore&#x27;)</pre></div></div></div></div></div></div><div class=\"sk-parallel-item\"><div class=\"sk-item\"><div class=\"sk-label-container\"><div class=\"sk-label sk-toggleable\"><input class=\"sk-toggleable__control sk-hidden--visually\" id=\"db7de119-85fb-4f9b-882a-0fd1674cdb73\" type=\"checkbox\" ><label for=\"db7de119-85fb-4f9b-882a-0fd1674cdb73\" class=\"sk-toggleable__label sk-toggleable__label-arrow\">remainder</label><div class=\"sk-toggleable__content\"><pre>[0, 1, 2, 3, 4, 5, 6, 7, 8, 9, 10, 11, 12, 13, 14, 15, 16, 17, 18]</pre></div></div></div><div class=\"sk-serial\"><div class=\"sk-item\"><div class=\"sk-estimator sk-toggleable\"><input class=\"sk-toggleable__control sk-hidden--visually\" id=\"0f43d0b9-0df9-403f-b83f-ef4f4b8158d8\" type=\"checkbox\" ><label for=\"0f43d0b9-0df9-403f-b83f-ef4f4b8158d8\" class=\"sk-toggleable__label sk-toggleable__label-arrow\">passthrough</label><div class=\"sk-toggleable__content\"><pre>passthrough</pre></div></div></div></div></div></div></div></div></div></div><div class=\"sk-item\"><div class=\"sk-estimator sk-toggleable\"><input class=\"sk-toggleable__control sk-hidden--visually\" id=\"cb1fc3fc-4fb1-4764-979e-bbf4aa6633a8\" type=\"checkbox\" ><label for=\"cb1fc3fc-4fb1-4764-979e-bbf4aa6633a8\" class=\"sk-toggleable__label sk-toggleable__label-arrow\">LinearRegression</label><div class=\"sk-toggleable__content\"><pre>LinearRegression()</pre></div></div></div></div></div></div></div>"
      ],
      "text/plain": [
       "Pipeline(steps=[('data_pipeline',\n",
       "                 Pipeline(steps=[('preprocessing',\n",
       "                                  Pipeline(steps=[('PercentageProcessing',\n",
       "                                                   PercentageProcessing(feature_list=[1,\n",
       "                                                                                      2])),\n",
       "                                                  ('ItemCount',\n",
       "                                                   ItemCount(feature_list=[4,\n",
       "                                                                           13])),\n",
       "                                                  ('BathroomText',\n",
       "                                                   BathroomText(feature=[10]))])),\n",
       "                                 ('imputation',\n",
       "                                  ColumnTransformer(transformers=[('FloatTransform',\n",
       "                                                                   SimpleImputer(),\n",
       "                                                                   [10, 11, 15,\n",
       "                                                                    16, 17, 18,\n",
       "                                                                    19, 20, 21,\n",
       "                                                                    27]),\n",
       "                                                                  ('IntTransform',\n",
       "                                                                   SimpleImputer(strategy='median'),\n",
       "                                                                   [4, 9, 12,\n",
       "                                                                    13, 14, 23,\n",
       "                                                                    24, 25,\n",
       "                                                                    26]),\n",
       "                                                                  ('ObjImpute',\n",
       "                                                                   SimpleImputer(strategy='most_frequent'),\n",
       "                                                                   [0, 1, 2, 3,\n",
       "                                                                    5, 6, 7, 8,\n",
       "                                                                    22])])),\n",
       "                                 ('ohe',\n",
       "                                  ColumnTransformer(remainder='passthrough',\n",
       "                                                    transformers=[('ohe',\n",
       "                                                                   OneHotEncoder(handle_unknown='ignore'),\n",
       "                                                                   [19, 20, 21,\n",
       "                                                                    22, 23, 24,\n",
       "                                                                    25, 26,\n",
       "                                                                    27])]))])),\n",
       "                ('linear_regression', LinearRegression())])"
      ]
     },
     "metadata": {},
     "output_type": "display_data"
    }
   ],
   "source": [
    "display(ml_pipeline)"
   ]
  },
  {
   "cell_type": "code",
   "execution_count": 405,
   "id": "852eba1a",
   "metadata": {
    "scrolled": true
   },
   "outputs": [
    {
     "name": "stdout",
     "output_type": "stream",
     "text": [
      "fit() called...\n",
      "transform() called...\n",
      "fit() called...\n",
      "transform() called...\n",
      "fit() called...\n",
      "transform() called...\n"
     ]
    }
   ],
   "source": [
    "m1 = ml_pipeline.fit(X,y)"
   ]
  },
  {
   "cell_type": "code",
   "execution_count": 408,
   "id": "56fc3e21",
   "metadata": {},
   "outputs": [
    {
     "name": "stdout",
     "output_type": "stream",
     "text": [
      "transform() called...\n",
      "transform() called...\n",
      "transform() called...\n"
     ]
    }
   ],
   "source": [
    "pred = m1.predict(X)"
   ]
  },
  {
   "cell_type": "code",
   "execution_count": 410,
   "id": "1398a412",
   "metadata": {},
   "outputs": [
    {
     "data": {
      "text/plain": [
       "(0.9683033366240836, 0.4245416839240649)"
      ]
     },
     "execution_count": 410,
     "metadata": {},
     "output_type": "execute_result"
    }
   ],
   "source": [
    "r2_score(y, pred), mean_absolute_percentage_error(y, pred)"
   ]
  },
  {
   "cell_type": "code",
   "execution_count": 270,
   "id": "efd3ebb0",
   "metadata": {
    "scrolled": false
   },
   "outputs": [
    {
     "name": "stdout",
     "output_type": "stream",
     "text": [
      "<class 'pandas.core.frame.DataFrame'>\n",
      "Int64Index: 1032 entries, 0 to 2325\n",
      "Data columns (total 30 columns):\n",
      " #   Column                                        Non-Null Count  Dtype  \n",
      "---  ------                                        --------------  -----  \n",
      " 0   host_response_time                            885 non-null    object \n",
      " 1   host_response_rate                            1032 non-null   object \n",
      " 2   host_acceptance_rate                          1032 non-null   object \n",
      " 3   host_is_superhost                             1032 non-null   object \n",
      " 4   host_verifications                            1032 non-null   int64  \n",
      " 5   host_has_profile_pic                          1032 non-null   object \n",
      " 6   host_identity_verified                        1032 non-null   object \n",
      " 7   neighbourhood                                 1032 non-null   object \n",
      " 8   property_type                                 1032 non-null   object \n",
      " 9   room_type                                     1032 non-null   object \n",
      " 10  accommodates                                  1032 non-null   int64  \n",
      " 11  bedrooms                                      979 non-null    float64\n",
      " 12  beds                                          1005 non-null   float64\n",
      " 13  amenities                                     1032 non-null   int64  \n",
      " 14  number_of_reviews_ltm                         1032 non-null   int64  \n",
      " 15  number_of_reviews_l30d                        1032 non-null   int64  \n",
      " 16  review_scores_rating                          920 non-null    float64\n",
      " 17  review_scores_accuracy                        918 non-null    float64\n",
      " 18  review_scores_cleanliness                     918 non-null    float64\n",
      " 19  review_scores_checkin                         918 non-null    float64\n",
      " 20  review_scores_communication                   918 non-null    float64\n",
      " 21  review_scores_location                        918 non-null    float64\n",
      " 22  review_scores_value                           918 non-null    float64\n",
      " 23  instant_bookable                              1032 non-null   object \n",
      " 24  calculated_host_listings_count                1032 non-null   int64  \n",
      " 25  calculated_host_listings_count_entire_homes   1032 non-null   int64  \n",
      " 26  calculated_host_listings_count_private_rooms  1032 non-null   int64  \n",
      " 27  calculated_host_listings_count_shared_rooms   1032 non-null   int64  \n",
      " 28  price                                         1032 non-null   object \n",
      " 29  bathroom_count                                1031 non-null   float64\n",
      "dtypes: float64(10), int64(9), object(11)\n",
      "memory usage: 282.2+ KB\n"
     ]
    }
   ],
   "source": [
    "processed_data.info()"
   ]
  },
  {
   "cell_type": "code",
   "execution_count": null,
   "id": "b78610d4",
   "metadata": {},
   "outputs": [],
   "source": [
    "# drop 7\n",
    "[0, 1, 2, 3, 5, 6, 8, 9, 23]"
   ]
  },
  {
   "cell_type": "code",
   "execution_count": null,
   "id": "61dad2f1",
   "metadata": {},
   "outputs": [],
   "source": [
    "['host_response_time',      ohe\n",
    " 'host_response_rate',      Pre-processing, ohe\n",
    " 'host_acceptance_rate',    Pre-processing, ohe\n",
    " 'host_is_superhost',       ohe\n",
    " 'host_verifications',      Pre-processing\n",
    " 'host_has_profile_pic',    ohe\n",
    " 'host_identity_verified',  ohe\n",
    " 'neighbourhood',           drop\n",
    " 'property_type',           ohe\n",
    " 'room_type',               ohe\n",
    " 'bathrooms_text',          Pre-processing, derive 2 columns\n",
    " 'amenities',               Pre-processing same as host verification\n",
    " 'instant_bookable',        ohe\n",
    " 'price',                   drop\n",
    "]"
   ]
  }
 ],
 "metadata": {
  "kernelspec": {
   "display_name": "Python 3 (ipykernel)",
   "language": "python",
   "name": "python3"
  },
  "language_info": {
   "codemirror_mode": {
    "name": "ipython",
    "version": 3
   },
   "file_extension": ".py",
   "mimetype": "text/x-python",
   "name": "python",
   "nbconvert_exporter": "python",
   "pygments_lexer": "ipython3",
   "version": "3.9.13"
  }
 },
 "nbformat": 4,
 "nbformat_minor": 5
}
