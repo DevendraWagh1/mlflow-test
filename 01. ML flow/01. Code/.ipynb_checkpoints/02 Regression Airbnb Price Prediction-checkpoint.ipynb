{
 "cells": [
  {
   "cell_type": "code",
   "execution_count": 96,
   "id": "caffcfa0",
   "metadata": {},
   "outputs": [],
   "source": [
    "import pandas as pd\n",
    "import numpy as np\n",
    "import matplotlib.pyplot as plt\n",
    "import seaborn as sns\n",
    "import os\n",
    "\n",
    "from sklearn.model_selection import train_test_split\n",
    "from sklearn.impute import SimpleImputer\n",
    "from sklearn.preprocessing import OneHotEncoder\n",
    "from sklearn.linear_model import LinearRegression\n",
    "from sklearn.svm import SVR\n",
    "from sklearn.metrics import mean_absolute_percentage_error, r2_score\n",
    "from sklearn.pipeline import make_pipeline, Pipeline\n",
    "\n",
    "%matplotlib inline"
   ]
  },
  {
   "cell_type": "code",
   "execution_count": 2,
   "id": "d219481a",
   "metadata": {},
   "outputs": [
    {
     "data": {
      "text/plain": [
       "'E:\\\\00_Learning\\\\01. Courses\\\\05. ML Pipeline\\\\01. Code'"
      ]
     },
     "execution_count": 2,
     "metadata": {},
     "output_type": "execute_result"
    }
   ],
   "source": [
    "os.getcwd()"
   ]
  },
  {
   "cell_type": "code",
   "execution_count": 3,
   "id": "dae97dc1",
   "metadata": {},
   "outputs": [],
   "source": [
    "os.chdir(\"..\")"
   ]
  },
  {
   "cell_type": "code",
   "execution_count": 4,
   "id": "94c23dcd",
   "metadata": {},
   "outputs": [],
   "source": [
    "input_path = os.path.join(os.getcwd(),'02. Input') "
   ]
  },
  {
   "cell_type": "code",
   "execution_count": 5,
   "id": "6d6c706b",
   "metadata": {},
   "outputs": [
    {
     "data": {
      "text/plain": [
       "'E:\\\\00_Learning\\\\01. Courses\\\\05. ML Pipeline\\\\02. Input\\\\airbnb_listings.csv'"
      ]
     },
     "execution_count": 5,
     "metadata": {},
     "output_type": "execute_result"
    }
   ],
   "source": [
    "os.path.join(input_path,'airbnb_listings.csv')"
   ]
  },
  {
   "cell_type": "code",
   "execution_count": 6,
   "id": "d64bb077",
   "metadata": {},
   "outputs": [],
   "source": [
    "data = pd.read_csv(os.path.join(input_path,'airbnb_listings.csv'))"
   ]
  },
  {
   "cell_type": "code",
   "execution_count": 7,
   "id": "00a61c59",
   "metadata": {},
   "outputs": [
    {
     "data": {
      "text/plain": [
       "(2329, 75)"
      ]
     },
     "execution_count": 7,
     "metadata": {},
     "output_type": "execute_result"
    }
   ],
   "source": [
    "data.shape"
   ]
  },
  {
   "cell_type": "code",
   "execution_count": 8,
   "id": "69af10b3",
   "metadata": {},
   "outputs": [
    {
     "data": {
      "text/html": [
       "<div>\n",
       "<style scoped>\n",
       "    .dataframe tbody tr th:only-of-type {\n",
       "        vertical-align: middle;\n",
       "    }\n",
       "\n",
       "    .dataframe tbody tr th {\n",
       "        vertical-align: top;\n",
       "    }\n",
       "\n",
       "    .dataframe thead th {\n",
       "        text-align: right;\n",
       "    }\n",
       "</style>\n",
       "<table border=\"1\" class=\"dataframe\">\n",
       "  <thead>\n",
       "    <tr style=\"text-align: right;\">\n",
       "      <th></th>\n",
       "      <th>id</th>\n",
       "      <th>listing_url</th>\n",
       "      <th>scrape_id</th>\n",
       "      <th>last_scraped</th>\n",
       "      <th>source</th>\n",
       "      <th>name</th>\n",
       "      <th>description</th>\n",
       "      <th>neighborhood_overview</th>\n",
       "      <th>picture_url</th>\n",
       "      <th>host_id</th>\n",
       "      <th>...</th>\n",
       "      <th>review_scores_communication</th>\n",
       "      <th>review_scores_location</th>\n",
       "      <th>review_scores_value</th>\n",
       "      <th>license</th>\n",
       "      <th>instant_bookable</th>\n",
       "      <th>calculated_host_listings_count</th>\n",
       "      <th>calculated_host_listings_count_entire_homes</th>\n",
       "      <th>calculated_host_listings_count_private_rooms</th>\n",
       "      <th>calculated_host_listings_count_shared_rooms</th>\n",
       "      <th>reviews_per_month</th>\n",
       "    </tr>\n",
       "  </thead>\n",
       "  <tbody>\n",
       "    <tr>\n",
       "      <th>0</th>\n",
       "      <td>70820.0</td>\n",
       "      <td>https://www.airbnb.com/rooms/70820</td>\n",
       "      <td>2.023030e+13</td>\n",
       "      <td>28-03-2023</td>\n",
       "      <td>previous scrape</td>\n",
       "      <td>City View - Sarah's double room.</td>\n",
       "      <td>A good sized room with a comfy double bed and ...</td>\n",
       "      <td>The neighbourhood is friendly and welcoming; m...</td>\n",
       "      <td>https://a0.muscache.com/pictures/b33c30be-56a0...</td>\n",
       "      <td>360195</td>\n",
       "      <td>...</td>\n",
       "      <td>4.94</td>\n",
       "      <td>4.75</td>\n",
       "      <td>4.77</td>\n",
       "      <td>NaN</td>\n",
       "      <td>f</td>\n",
       "      <td>5</td>\n",
       "      <td>0</td>\n",
       "      <td>5</td>\n",
       "      <td>0</td>\n",
       "      <td>1.56</td>\n",
       "    </tr>\n",
       "    <tr>\n",
       "      <th>1</th>\n",
       "      <td>117122.0</td>\n",
       "      <td>https://www.airbnb.com/rooms/117122</td>\n",
       "      <td>2.023030e+13</td>\n",
       "      <td>28-03-2023</td>\n",
       "      <td>city scrape</td>\n",
       "      <td>City Centre-Waterside Retreat</td>\n",
       "      <td>My Harbourside apartment centrally located min...</td>\n",
       "      <td>This area is on the water and has splendid vie...</td>\n",
       "      <td>https://a0.muscache.com/pictures/f6d39021-af07...</td>\n",
       "      <td>591555</td>\n",
       "      <td>...</td>\n",
       "      <td>4.99</td>\n",
       "      <td>4.97</td>\n",
       "      <td>4.88</td>\n",
       "      <td>NaN</td>\n",
       "      <td>f</td>\n",
       "      <td>1</td>\n",
       "      <td>0</td>\n",
       "      <td>1</td>\n",
       "      <td>0</td>\n",
       "      <td>1.21</td>\n",
       "    </tr>\n",
       "    <tr>\n",
       "      <th>2</th>\n",
       "      <td>176306.0</td>\n",
       "      <td>https://www.airbnb.com/rooms/176306</td>\n",
       "      <td>2.023030e+13</td>\n",
       "      <td>28-03-2023</td>\n",
       "      <td>city scrape</td>\n",
       "      <td>The White Room -  Central Bristol Art House Ga...</td>\n",
       "      <td>A small double room in an artist's house, with...</td>\n",
       "      <td>Southville is pretty darn hip, frankly. North ...</td>\n",
       "      <td>https://a0.muscache.com/pictures/e1e7fdfc-9db5...</td>\n",
       "      <td>708175</td>\n",
       "      <td>...</td>\n",
       "      <td>4.93</td>\n",
       "      <td>4.74</td>\n",
       "      <td>4.70</td>\n",
       "      <td>NaN</td>\n",
       "      <td>f</td>\n",
       "      <td>1</td>\n",
       "      <td>0</td>\n",
       "      <td>1</td>\n",
       "      <td>0</td>\n",
       "      <td>0.37</td>\n",
       "    </tr>\n",
       "  </tbody>\n",
       "</table>\n",
       "<p>3 rows × 75 columns</p>\n",
       "</div>"
      ],
      "text/plain": [
       "         id                          listing_url     scrape_id last_scraped  \\\n",
       "0   70820.0   https://www.airbnb.com/rooms/70820  2.023030e+13   28-03-2023   \n",
       "1  117122.0  https://www.airbnb.com/rooms/117122  2.023030e+13   28-03-2023   \n",
       "2  176306.0  https://www.airbnb.com/rooms/176306  2.023030e+13   28-03-2023   \n",
       "\n",
       "            source                                               name  \\\n",
       "0  previous scrape                   City View - Sarah's double room.   \n",
       "1      city scrape                      City Centre-Waterside Retreat   \n",
       "2      city scrape  The White Room -  Central Bristol Art House Ga...   \n",
       "\n",
       "                                         description  \\\n",
       "0  A good sized room with a comfy double bed and ...   \n",
       "1  My Harbourside apartment centrally located min...   \n",
       "2  A small double room in an artist's house, with...   \n",
       "\n",
       "                               neighborhood_overview  \\\n",
       "0  The neighbourhood is friendly and welcoming; m...   \n",
       "1  This area is on the water and has splendid vie...   \n",
       "2  Southville is pretty darn hip, frankly. North ...   \n",
       "\n",
       "                                         picture_url  host_id  ...  \\\n",
       "0  https://a0.muscache.com/pictures/b33c30be-56a0...   360195  ...   \n",
       "1  https://a0.muscache.com/pictures/f6d39021-af07...   591555  ...   \n",
       "2  https://a0.muscache.com/pictures/e1e7fdfc-9db5...   708175  ...   \n",
       "\n",
       "  review_scores_communication review_scores_location review_scores_value  \\\n",
       "0                        4.94                   4.75                4.77   \n",
       "1                        4.99                   4.97                4.88   \n",
       "2                        4.93                   4.74                4.70   \n",
       "\n",
       "  license instant_bookable calculated_host_listings_count  \\\n",
       "0     NaN                f                              5   \n",
       "1     NaN                f                              1   \n",
       "2     NaN                f                              1   \n",
       "\n",
       "  calculated_host_listings_count_entire_homes  \\\n",
       "0                                           0   \n",
       "1                                           0   \n",
       "2                                           0   \n",
       "\n",
       "  calculated_host_listings_count_private_rooms  \\\n",
       "0                                            5   \n",
       "1                                            1   \n",
       "2                                            1   \n",
       "\n",
       "  calculated_host_listings_count_shared_rooms reviews_per_month  \n",
       "0                                           0              1.56  \n",
       "1                                           0              1.21  \n",
       "2                                           0              0.37  \n",
       "\n",
       "[3 rows x 75 columns]"
      ]
     },
     "execution_count": 8,
     "metadata": {},
     "output_type": "execute_result"
    }
   ],
   "source": [
    "data.head(3)"
   ]
  },
  {
   "cell_type": "code",
   "execution_count": 9,
   "id": "be07d822",
   "metadata": {},
   "outputs": [
    {
     "data": {
      "text/plain": [
       "Index(['id', 'listing_url', 'scrape_id', 'last_scraped', 'source', 'name',\n",
       "       'description', 'neighborhood_overview', 'picture_url', 'host_id',\n",
       "       'host_url', 'host_name', 'host_since', 'host_location', '0',\n",
       "       'host_response_time', 'host_response_rate', 'host_acceptance_rate',\n",
       "       'host_is_superhost', 'host_thumbnail_url', 'host_picture_url',\n",
       "       'host_neighbourhood', 'host_listings_count',\n",
       "       'host_total_listings_count', 'host_verifications',\n",
       "       'host_has_profile_pic', 'host_identity_verified', 'neighbourhood',\n",
       "       'neighbourhood_cleansed', 'neighbourhood_group_cleansed', 'latitude',\n",
       "       'longitude', 'property_type', 'room_type', 'accommodates', 'bathrooms',\n",
       "       'bathrooms_text', 'bedrooms', 'beds', 'amenities', 'price',\n",
       "       'minimum_nights', 'maximum_nights', 'minimum_minimum_nights',\n",
       "       'maximum_minimum_nights', 'minimum_maximum_nights',\n",
       "       'maximum_maximum_nights', 'minimum_nights_avg_ntm',\n",
       "       'maximum_nights_avg_ntm', 'calendar_updated', 'has_availability',\n",
       "       'availability_30', 'availability_60', 'availability_90',\n",
       "       'availability_365', 'calendar_last_scraped', 'number_of_reviews',\n",
       "       'number_of_reviews_ltm', 'number_of_reviews_l30d', 'first_review',\n",
       "       'last_review', 'review_scores_rating', 'review_scores_accuracy',\n",
       "       'review_scores_cleanliness', 'review_scores_checkin',\n",
       "       'review_scores_communication', 'review_scores_location',\n",
       "       'review_scores_value', 'license', 'instant_bookable',\n",
       "       'calculated_host_listings_count',\n",
       "       'calculated_host_listings_count_entire_homes',\n",
       "       'calculated_host_listings_count_private_rooms',\n",
       "       'calculated_host_listings_count_shared_rooms', 'reviews_per_month'],\n",
       "      dtype='object')"
      ]
     },
     "execution_count": 9,
     "metadata": {},
     "output_type": "execute_result"
    }
   ],
   "source": [
    "data.columns"
   ]
  },
  {
   "cell_type": "code",
   "execution_count": 10,
   "id": "4e9444de",
   "metadata": {},
   "outputs": [],
   "source": [
    "keep_columns = [\n",
    "       'host_response_time', 'host_response_rate', 'host_acceptance_rate','host_is_superhost', \n",
    "       #'host_listings_count', 'host_total_listings_count', \n",
    "       'host_verifications',\n",
    "       'host_has_profile_pic', 'host_identity_verified', 'neighbourhood',\n",
    "       # 'latitude', 'longitude', \n",
    "       'property_type', 'room_type', 'accommodates',\n",
    "       'bathrooms_text', 'bedrooms', 'beds', 'amenities',\n",
    "       #'minimum_nights', 'maximum_nights', 'minimum_minimum_nights',\n",
    "       #'maximum_minimum_nights', 'minimum_maximum_nights',\n",
    "       #'maximum_maximum_nights', 'minimum_nights_avg_ntm',\n",
    "       #'maximum_nights_avg_ntm', 'calendar_updated', \n",
    "       #'has_availability','availability_30', \n",
    "       #'availability_60', 'availability_90', 'availability_365', 'calendar_last_scraped', 'number_of_reviews',\n",
    "       'number_of_reviews_ltm', 'number_of_reviews_l30d', \n",
    "       #'first_review', 'last_review', \n",
    "       'review_scores_rating', 'review_scores_accuracy',\n",
    "       'review_scores_cleanliness', 'review_scores_checkin',\n",
    "       'review_scores_communication', 'review_scores_location',\n",
    "       'review_scores_value', \n",
    "       #'license', \n",
    "       'instant_bookable', 'calculated_host_listings_count',\n",
    "       'calculated_host_listings_count_entire_homes',\n",
    "       'calculated_host_listings_count_private_rooms',\n",
    "       'calculated_host_listings_count_shared_rooms', \n",
    "       #'reviews_per_month', \n",
    "       'price']"
   ]
  },
  {
   "cell_type": "code",
   "execution_count": 11,
   "id": "5785e00e",
   "metadata": {},
   "outputs": [],
   "source": [
    "data = data[keep_columns]"
   ]
  },
  {
   "cell_type": "code",
   "execution_count": 12,
   "id": "92234868",
   "metadata": {},
   "outputs": [],
   "source": [
    "data['neighbourhood'] = data['neighbourhood'].fillna('')"
   ]
  },
  {
   "cell_type": "code",
   "execution_count": 13,
   "id": "a7b78baf",
   "metadata": {},
   "outputs": [],
   "source": [
    "data = data[data['neighbourhood'].str.lower().str.contains('bristol')]"
   ]
  },
  {
   "cell_type": "code",
   "execution_count": 14,
   "id": "6dcd8eef",
   "metadata": {},
   "outputs": [
    {
     "data": {
      "text/plain": [
       "City of Bristol, England, United Kingdom           363\n",
       "Bristol City, England, United Kingdom              320\n",
       "Bristol, England, United Kingdom                   192\n",
       "Bristol, United Kingdom                             97\n",
       "Bristol, City of Bristol, United Kingdom            10\n",
       "Bristol, Avon, United Kingdom                        8\n",
       "Clifton, Bristol, United Kingdom                     6\n",
       "Bristol, UK, United Kingdom                          6\n",
       "City of Bristol, Bristol, United Kingdom             6\n",
       "Redland, Bristol, United Kingdom                     4\n",
       "Bristol City, Southville, United Kingdom             3\n",
       "Bristol, Somerset, United Kingdom                    3\n",
       "Bristol , England, United Kingdom                    2\n",
       "City of Bristol, Avon, United Kingdom                2\n",
       "Bristol, St Andrews, United Kingdom                  1\n",
       "Bristol, south glos, United Kingdom                  1\n",
       "Bristol, Westbury on Trym, United Kingdom            1\n",
       "Easton, Bristol, United Kingdom                      1\n",
       "Bristol, Dorset, United Kingdom                      1\n",
       "Center City of Bristol, England, United Kingdom      1\n",
       "Bristol, ., United Kingdom                           1\n",
       "Stockwood, Bristol, England, United Kingdom          1\n",
       "Bristol , Avon, United Kingdom                       1\n",
       "Bristol City, United Kingdom                         1\n",
       "Name: neighbourhood, dtype: int64"
      ]
     },
     "execution_count": 14,
     "metadata": {},
     "output_type": "execute_result"
    }
   ],
   "source": [
    "data['neighbourhood'].value_counts()"
   ]
  },
  {
   "cell_type": "code",
   "execution_count": null,
   "id": "8948f7b6",
   "metadata": {},
   "outputs": [],
   "source": []
  },
  {
   "cell_type": "markdown",
   "id": "5c0abefa",
   "metadata": {},
   "source": [
    "### 01. Understanding the data"
   ]
  },
  {
   "cell_type": "code",
   "execution_count": 15,
   "id": "7543e7e5",
   "metadata": {
    "scrolled": false
   },
   "outputs": [
    {
     "name": "stdout",
     "output_type": "stream",
     "text": [
      "<class 'pandas.core.frame.DataFrame'>\n",
      "Int64Index: 1032 entries, 0 to 2325\n",
      "Data columns (total 30 columns):\n",
      " #   Column                                        Non-Null Count  Dtype  \n",
      "---  ------                                        --------------  -----  \n",
      " 0   host_response_time                            885 non-null    object \n",
      " 1   host_response_rate                            885 non-null    object \n",
      " 2   host_acceptance_rate                          982 non-null    object \n",
      " 3   host_is_superhost                             1032 non-null   object \n",
      " 4   host_verifications                            1032 non-null   object \n",
      " 5   host_has_profile_pic                          1032 non-null   object \n",
      " 6   host_identity_verified                        1032 non-null   object \n",
      " 7   neighbourhood                                 1032 non-null   object \n",
      " 8   property_type                                 1032 non-null   object \n",
      " 9   room_type                                     1032 non-null   object \n",
      " 10  accommodates                                  1032 non-null   int64  \n",
      " 11  bathrooms_text                                1031 non-null   object \n",
      " 12  bedrooms                                      979 non-null    float64\n",
      " 13  beds                                          1005 non-null   float64\n",
      " 14  amenities                                     1032 non-null   object \n",
      " 15  number_of_reviews_ltm                         1032 non-null   int64  \n",
      " 16  number_of_reviews_l30d                        1032 non-null   int64  \n",
      " 17  review_scores_rating                          920 non-null    float64\n",
      " 18  review_scores_accuracy                        918 non-null    float64\n",
      " 19  review_scores_cleanliness                     918 non-null    float64\n",
      " 20  review_scores_checkin                         918 non-null    float64\n",
      " 21  review_scores_communication                   918 non-null    float64\n",
      " 22  review_scores_location                        918 non-null    float64\n",
      " 23  review_scores_value                           918 non-null    float64\n",
      " 24  instant_bookable                              1032 non-null   object \n",
      " 25  calculated_host_listings_count                1032 non-null   int64  \n",
      " 26  calculated_host_listings_count_entire_homes   1032 non-null   int64  \n",
      " 27  calculated_host_listings_count_private_rooms  1032 non-null   int64  \n",
      " 28  calculated_host_listings_count_shared_rooms   1032 non-null   int64  \n",
      " 29  price                                         1032 non-null   object \n",
      "dtypes: float64(9), int64(7), object(14)\n",
      "memory usage: 249.9+ KB\n"
     ]
    }
   ],
   "source": [
    "data.info()"
   ]
  },
  {
   "cell_type": "markdown",
   "id": "1d65cf92",
   "metadata": {},
   "source": [
    "#### 01.a Exploring columns with Object data type"
   ]
  },
  {
   "cell_type": "code",
   "execution_count": 16,
   "id": "3a3342e8",
   "metadata": {},
   "outputs": [],
   "source": [
    "obj_cols = data.select_dtypes(include=['object']).columns"
   ]
  },
  {
   "cell_type": "code",
   "execution_count": 17,
   "id": "0df1cee4",
   "metadata": {},
   "outputs": [],
   "source": [
    "obj_data = data[obj_cols]"
   ]
  },
  {
   "cell_type": "code",
   "execution_count": 18,
   "id": "d177f82a",
   "metadata": {},
   "outputs": [
    {
     "data": {
      "text/plain": [
       "Index(['host_response_time', 'host_response_rate', 'host_acceptance_rate',\n",
       "       'host_is_superhost', 'host_verifications', 'host_has_profile_pic',\n",
       "       'host_identity_verified', 'neighbourhood', 'property_type', 'room_type',\n",
       "       'bathrooms_text', 'amenities', 'instant_bookable', 'price'],\n",
       "      dtype='object')"
      ]
     },
     "execution_count": 18,
     "metadata": {},
     "output_type": "execute_result"
    }
   ],
   "source": [
    "obj_cols"
   ]
  },
  {
   "cell_type": "code",
   "execution_count": 19,
   "id": "720d7bbd",
   "metadata": {},
   "outputs": [
    {
     "data": {
      "text/plain": [
       "(147,\n",
       " within an hour        689\n",
       " within a few hours    135\n",
       " within a day           57\n",
       " a few days or more      4\n",
       " Name: host_response_time, dtype: int64)"
      ]
     },
     "execution_count": 19,
     "metadata": {},
     "output_type": "execute_result"
    }
   ],
   "source": [
    "obj_data['host_response_time'].isna().sum(), obj_data['host_response_time'].value_counts()"
   ]
  },
  {
   "cell_type": "code",
   "execution_count": 20,
   "id": "16757ca2",
   "metadata": {
    "scrolled": true
   },
   "outputs": [
    {
     "data": {
      "text/plain": [
       "(147,\n",
       " 100%    675\n",
       " 98%      65\n",
       " 99%      61\n",
       " 90%      11\n",
       " 50%       9\n",
       " 97%       8\n",
       " 88%       6\n",
       " 94%       6\n",
       " 91%       6\n",
       " 0%        4\n",
       " 89%       4\n",
       " 86%       4\n",
       " 93%       4\n",
       " 80%       3\n",
       " 83%       3\n",
       " 92%       3\n",
       " 96%       3\n",
       " 67%       2\n",
       " 63%       2\n",
       " 75%       2\n",
       " 70%       1\n",
       " 95%       1\n",
       " 87%       1\n",
       " 60%       1\n",
       " Name: host_response_rate, dtype: int64)"
      ]
     },
     "execution_count": 20,
     "metadata": {},
     "output_type": "execute_result"
    }
   ],
   "source": [
    "obj_data['host_response_rate'].isna().sum(), obj_data['host_response_rate'].value_counts()"
   ]
  },
  {
   "cell_type": "code",
   "execution_count": 21,
   "id": "07f52f19",
   "metadata": {
    "scrolled": false
   },
   "outputs": [
    {
     "data": {
      "text/plain": [
       "(50,\n",
       " 100%    275\n",
       " 98%     130\n",
       " 99%      68\n",
       " 97%      62\n",
       " 72%      61\n",
       "        ... \n",
       " 69%       1\n",
       " 59%       1\n",
       " 44%       1\n",
       " 47%       1\n",
       " 64%       1\n",
       " Name: host_acceptance_rate, Length: 62, dtype: int64)"
      ]
     },
     "execution_count": 21,
     "metadata": {},
     "output_type": "execute_result"
    }
   ],
   "source": [
    "obj_data['host_acceptance_rate'].isna().sum(), obj_data['host_acceptance_rate'].value_counts()"
   ]
  },
  {
   "cell_type": "code",
   "execution_count": 22,
   "id": "6dc5c7bc",
   "metadata": {},
   "outputs": [
    {
     "data": {
      "text/plain": [
       "(0,\n",
       " f    650\n",
       " t    382\n",
       " Name: host_is_superhost, dtype: int64)"
      ]
     },
     "execution_count": 22,
     "metadata": {},
     "output_type": "execute_result"
    }
   ],
   "source": [
    "obj_data['host_is_superhost'].isna().sum(), obj_data['host_is_superhost'].value_counts()"
   ]
  },
  {
   "cell_type": "code",
   "execution_count": 23,
   "id": "a65c529c",
   "metadata": {},
   "outputs": [
    {
     "data": {
      "text/plain": [
       "(0,\n",
       " ['email', 'phone']                  810\n",
       " ['email', 'phone', 'work_email']    165\n",
       " ['phone']                            42\n",
       " ['phone', 'work_email']              12\n",
       " []                                    2\n",
       " ['email']                             1\n",
       " Name: host_verifications, dtype: int64)"
      ]
     },
     "execution_count": 23,
     "metadata": {},
     "output_type": "execute_result"
    }
   ],
   "source": [
    "obj_data['host_verifications'].isna().sum(), obj_data['host_verifications'].value_counts()"
   ]
  },
  {
   "cell_type": "code",
   "execution_count": 24,
   "id": "1da6ea97",
   "metadata": {},
   "outputs": [
    {
     "data": {
      "text/plain": [
       "(0,\n",
       " t    1029\n",
       " f       3\n",
       " Name: host_has_profile_pic, dtype: int64)"
      ]
     },
     "execution_count": 24,
     "metadata": {},
     "output_type": "execute_result"
    }
   ],
   "source": [
    "obj_data['host_has_profile_pic'].isna().sum(), obj_data['host_has_profile_pic'].value_counts()"
   ]
  },
  {
   "cell_type": "code",
   "execution_count": 25,
   "id": "c4d2d9e9",
   "metadata": {},
   "outputs": [
    {
     "data": {
      "text/plain": [
       "(0,\n",
       " t    988\n",
       " f     44\n",
       " Name: host_identity_verified, dtype: int64)"
      ]
     },
     "execution_count": 25,
     "metadata": {},
     "output_type": "execute_result"
    }
   ],
   "source": [
    "obj_data['host_identity_verified'].isna().sum(), obj_data['host_identity_verified'].value_counts()"
   ]
  },
  {
   "cell_type": "code",
   "execution_count": 26,
   "id": "35d382e6",
   "metadata": {},
   "outputs": [
    {
     "data": {
      "text/plain": [
       "(0,\n",
       " City of Bristol, England, United Kingdom           363\n",
       " Bristol City, England, United Kingdom              320\n",
       " Bristol, England, United Kingdom                   192\n",
       " Bristol, United Kingdom                             97\n",
       " Bristol, City of Bristol, United Kingdom            10\n",
       " Bristol, Avon, United Kingdom                        8\n",
       " Clifton, Bristol, United Kingdom                     6\n",
       " Bristol, UK, United Kingdom                          6\n",
       " City of Bristol, Bristol, United Kingdom             6\n",
       " Redland, Bristol, United Kingdom                     4\n",
       " Bristol City, Southville, United Kingdom             3\n",
       " Bristol, Somerset, United Kingdom                    3\n",
       " Bristol , England, United Kingdom                    2\n",
       " City of Bristol, Avon, United Kingdom                2\n",
       " Bristol, St Andrews, United Kingdom                  1\n",
       " Bristol, south glos, United Kingdom                  1\n",
       " Bristol, Westbury on Trym, United Kingdom            1\n",
       " Easton, Bristol, United Kingdom                      1\n",
       " Bristol, Dorset, United Kingdom                      1\n",
       " Center City of Bristol, England, United Kingdom      1\n",
       " Bristol, ., United Kingdom                           1\n",
       " Stockwood, Bristol, England, United Kingdom          1\n",
       " Bristol , Avon, United Kingdom                       1\n",
       " Bristol City, United Kingdom                         1\n",
       " Name: neighbourhood, dtype: int64)"
      ]
     },
     "execution_count": 26,
     "metadata": {},
     "output_type": "execute_result"
    }
   ],
   "source": [
    "obj_data['neighbourhood'].isna().sum(), obj_data['neighbourhood'].value_counts()"
   ]
  },
  {
   "cell_type": "code",
   "execution_count": 27,
   "id": "095024f0",
   "metadata": {
    "scrolled": true
   },
   "outputs": [
    {
     "data": {
      "text/plain": [
       "(0,\n",
       " Entire rental unit                    234\n",
       " Private room in home                  177\n",
       " Entire home                           170\n",
       " Private room in rental unit            99\n",
       " Entire serviced apartment              65\n",
       " Private room in townhouse              63\n",
       " Entire condo                           62\n",
       " Entire townhouse                       36\n",
       " Private room in condo                  24\n",
       " Private room in bed and breakfast      15\n",
       " Entire guest suite                     14\n",
       " Entire loft                            10\n",
       " Tiny home                               9\n",
       " Room in serviced apartment              9\n",
       " Entire guesthouse                       8\n",
       " Entire cottage                          6\n",
       " Private room in guest suite             5\n",
       " Private room in bungalow                3\n",
       " Private room                            3\n",
       " Room in aparthotel                      3\n",
       " Private room in serviced apartment      2\n",
       " Private room in tiny home               2\n",
       " Private room in loft                    2\n",
       " Room in hotel                           2\n",
       " Houseboat                               1\n",
       " Private room in cabin                   1\n",
       " Shared room in home                     1\n",
       " Entire bungalow                         1\n",
       " Private room in yurt                    1\n",
       " Barn                                    1\n",
       " Private room in castle                  1\n",
       " Camper/RV                               1\n",
       " Entire place                            1\n",
       " Name: property_type, dtype: int64)"
      ]
     },
     "execution_count": 27,
     "metadata": {},
     "output_type": "execute_result"
    }
   ],
   "source": [
    "obj_data['property_type'].isna().sum(), obj_data['property_type'].value_counts()"
   ]
  },
  {
   "cell_type": "code",
   "execution_count": 28,
   "id": "22c57679",
   "metadata": {},
   "outputs": [
    {
     "data": {
      "text/plain": [
       "(0,\n",
       " Entire home/apt    619\n",
       " Private room       401\n",
       " Hotel room          11\n",
       " Shared room          1\n",
       " Name: room_type, dtype: int64)"
      ]
     },
     "execution_count": 28,
     "metadata": {},
     "output_type": "execute_result"
    }
   ],
   "source": [
    "obj_data['room_type'].isna().sum(), obj_data['room_type'].value_counts()"
   ]
  },
  {
   "cell_type": "code",
   "execution_count": 29,
   "id": "73acbb5e",
   "metadata": {
    "scrolled": true
   },
   "outputs": [
    {
     "data": {
      "text/plain": [
       "(1,\n",
       " 1 bath              432\n",
       " 1 shared bath       164\n",
       " 1 private bath      136\n",
       " 2 baths              90\n",
       " 1.5 baths            78\n",
       " 1.5 shared baths     43\n",
       " 2.5 baths            32\n",
       " 3 baths              22\n",
       " 2 shared baths        9\n",
       " 3.5 baths             6\n",
       " 4.5 baths             4\n",
       " Shared half-bath      4\n",
       " 2.5 shared baths      3\n",
       " 5 baths               3\n",
       " 3 shared baths        2\n",
       " 7 baths               1\n",
       " 6 baths               1\n",
       " Half-bath             1\n",
       " Name: bathrooms_text, dtype: int64)"
      ]
     },
     "execution_count": 29,
     "metadata": {},
     "output_type": "execute_result"
    }
   ],
   "source": [
    "obj_data['bathrooms_text'].isna().sum(), obj_data['bathrooms_text'].value_counts()"
   ]
  },
  {
   "cell_type": "code",
   "execution_count": 30,
   "id": "e5d6c3b6",
   "metadata": {
    "scrolled": true
   },
   "outputs": [
    {
     "data": {
      "text/plain": [
       "(0,\n",
       " [\"Hot water\", \"Lock on bedroom door\", \"Wifi\", \"Dedicated workspace\", \"Essentials\", \"First aid kit\", \"Heating\", \"Elevator\", \"Bed linens\", \"Long term stays allowed\", \"Smoke alarm\"]                                                                                                                                                                                                                                                                                                                                                                                                                                                                                                                                                                                                                 30\n",
       " [\"Hot water\", \"Lock on bedroom door\", \"Wifi\", \"Dedicated workspace\", \"Essentials\", \"First aid kit\", \"Hot water kettle\", \"Heating\", \"Elevator\", \"Bed linens\", \"Long term stays allowed\", \"Smoke alarm\"]                                                                                                                                                                                                                                                                                                                                                                                                                                                                                                                                                                                             29\n",
       " [\"Wifi\", \"Oven\", \"Dishes and silverware\", \"Stove\", \"Luggage dropoff allowed\", \"Washer\", \"Long term stays allowed\", \"Hot water\", \"Kitchen\", \"Refrigerator\", \"TV\", \"Heating\", \"Paid parking off premises\", \"Fire extinguisher\", \"Hangers\", \"Dishwasher\", \"Hair dryer\", \"Essentials\", \"Microwave\", \"Dryer\", \"Bed linens\"]                                                                                                                                                                                                                                                                                                                                                                                                                                                                              9\n",
       " [\"Shampoo\", \"Hot water\", \"Hangers\", \"Wifi\", \"Dishes and silverware\", \"Kitchen\", \"Essentials\", \"Refrigerator\", \"Microwave\", \"Dryer\", \"Stove\", \"Heating\", \"Bed linens\", \"Oven\", \"Iron\", \"TV\", \"Washer\", \"Paid parking off premises\", \"Fire extinguisher\", \"Long term stays allowed\"]                                                                                                                                                                                                                                                                                                                                                                                                                                                                                                                  4\n",
       " [\"Wifi\", \"Private entrance\", \"Dining table\", \"Oven\", \"Dishes and silverware\", \"Freezer\", \"Stove\", \"Lockbox\", \"Carbon monoxide alarm\", \"Clothing storage\", \"Washer\", \"Long term stays allowed\", \"Smoke alarm\", \"Cooking basics\", \"Hot water\", \"Coffee maker\", \"Kitchen\", \"Refrigerator\", \"Toaster\", \"TV\", \"Heating\", \"Hot water kettle\", \"Pets allowed\", \"Shampoo\", \"Body soap\", \"Hangers\", \"Dedicated workspace\", \"Dishwasher\", \"Hair dryer\", \"Essentials\", \"Microwave\", \"Dryer\", \"First aid kit\", \"Self check-in\", \"Iron\", \"Bed linens\", \"Shower gel\"]                                                                                                                                                                                                                                             3\n",
       "                                                                                                                                                                                                                                                                                                                                                                                                                                                                                                                                                                                                                                                                                                                                                                                                    ..\n",
       " [\"Wifi\", \"Private entrance\", \"Free parking on premises\", \"Oven\", \"Dishes and silverware\", \"Indoor fireplace\", \"Stove\", \"Lockbox\", \"Carbon monoxide alarm\", \"Extra pillows and blankets\", \"Washer\", \"Ethernet connection\", \"Long term stays allowed\", \"Cooking basics\", \"Smoke alarm\", \"Hot water\", \"Kitchen\", \"Refrigerator\", \"TV\", \"Heating\", \"Shampoo\", \"Hangers\", \"Essentials\", \"Microwave\", \"Self check-in\", \"Iron\", \"Bed linens\"]                                                                                                                                                                                                                                                                                                                                                              1\n",
       " [\"Wifi\", \"Free parking on premises\", \"Dining table\", \"Oven\", \"Dishes and silverware\", \"Freezer\", \"Drying rack for clothing\", \"Private backyard \\u2013 Fully fenced\", \"Free street parking\", \"Carbon monoxide alarm\", \"Lockbox\", \"Outdoor dining area\", \"Clothing storage\", \"Extra pillows and blankets\", \"Washer\", \"Cleaning products\", \"Bathtub\", \"Long term stays allowed\", \"Smoke alarm\", \"Cooking basics\", \"Hot water\", \"Cleaning available during stay\", \"Kitchen\", \"Refrigerator\", \"Toaster\", \"TV\", \"Hot water kettle\", \"Pets allowed\", \"Shampoo\", \"Hangers\", \"Dedicated workspace\", \"Crib\", \"Hair dryer\", \"Central heating\", \"Dishwasher\", \"Essentials\", \"Microwave\", \"Free dryer \\u2013 In unit\", \"First aid kit\", \"Self check-in\", \"Wine glasses\", \"Iron\", \"Bed linens\", \"Shower gel\"]     1\n",
       " [\"Wifi\", \"Oven\", \"Dishes and silverware\", \"Stove\", \"Luggage dropoff allowed\", \"Lockbox\", \"Washer\", \"Long term stays allowed\", \"Smoke alarm\", \"Hot water\", \"Kitchen\", \"Refrigerator\", \"Elevator\", \"TV\", \"Heating\", \"Paid parking off premises\", \"Fire extinguisher\", \"Hangers\", \"Dishwasher\", \"Hair dryer\", \"Essentials\", \"Microwave\", \"Dryer\", \"Self check-in\", \"Bed linens\"]                                                                                                                                                                                                                                                                                                                                                                                                                       1\n",
       " [\"Wifi\", \"Free parking on premises\", \"Pocket wifi\", \"Dishes and silverware\", \"Lockbox\", \"Carbon monoxide alarm\", \"Extra pillows and blankets\", \"Washer\", \"Smoke alarm\", \"Hot water\", \"Coffee maker\", \"Private patio or balcony\", \"Refrigerator\", \"Fire extinguisher\", \"Heating\", \"TV\", \"Shampoo\", \"Hangers\", \"Dedicated workspace\", \"Hair dryer\", \"Essentials\", \"Microwave\", \"Dryer\", \"First aid kit\", \"Self check-in\", \"Iron\", \"Bed linens\", \"Shower gel\"]                                                                                                                                                                                                                                                                                                                                         1\n",
       " [\"Wifi\", \"Free parking on premises\", \"Kitchen\", \"Carbon monoxide alarm\", \"TV\", \"Washer\", \"Smoke alarm\"]                                                                                                                                                                                                                                                                                                                                                                                                                                                                                                                                                                                                                                                                                             1\n",
       " Name: amenities, Length: 953, dtype: int64)"
      ]
     },
     "execution_count": 30,
     "metadata": {},
     "output_type": "execute_result"
    }
   ],
   "source": [
    "obj_data['amenities'].isna().sum(), obj_data['amenities'].value_counts()"
   ]
  },
  {
   "cell_type": "code",
   "execution_count": 31,
   "id": "7d586708",
   "metadata": {},
   "outputs": [],
   "source": [
    "# obj_data['has_availability'].isna().sum(), obj_data['has_availability'].value_counts()"
   ]
  },
  {
   "cell_type": "code",
   "execution_count": 32,
   "id": "ea2754c5",
   "metadata": {},
   "outputs": [
    {
     "data": {
      "text/plain": [
       "(0,\n",
       " f    792\n",
       " t    240\n",
       " Name: instant_bookable, dtype: int64)"
      ]
     },
     "execution_count": 32,
     "metadata": {},
     "output_type": "execute_result"
    }
   ],
   "source": [
    "obj_data['instant_bookable'].isna().sum(), obj_data['instant_bookable'].value_counts()"
   ]
  },
  {
   "cell_type": "code",
   "execution_count": null,
   "id": "be7a8d3f",
   "metadata": {},
   "outputs": [],
   "source": []
  },
  {
   "cell_type": "markdown",
   "id": "1e7008c3",
   "metadata": {},
   "source": [
    "#### 01.b Exploring columns with Numerical data type"
   ]
  },
  {
   "cell_type": "code",
   "execution_count": 33,
   "id": "5b455a86",
   "metadata": {},
   "outputs": [],
   "source": [
    "numerical_cols = data.select_dtypes(include=['int64', 'float64']).columns"
   ]
  },
  {
   "cell_type": "code",
   "execution_count": 34,
   "id": "b4439eb8",
   "metadata": {},
   "outputs": [
    {
     "data": {
      "text/plain": [
       "Index(['accommodates', 'bedrooms', 'beds', 'number_of_reviews_ltm',\n",
       "       'number_of_reviews_l30d', 'review_scores_rating',\n",
       "       'review_scores_accuracy', 'review_scores_cleanliness',\n",
       "       'review_scores_checkin', 'review_scores_communication',\n",
       "       'review_scores_location', 'review_scores_value',\n",
       "       'calculated_host_listings_count',\n",
       "       'calculated_host_listings_count_entire_homes',\n",
       "       'calculated_host_listings_count_private_rooms',\n",
       "       'calculated_host_listings_count_shared_rooms'],\n",
       "      dtype='object')"
      ]
     },
     "execution_count": 34,
     "metadata": {},
     "output_type": "execute_result"
    }
   ],
   "source": [
    "numerical_cols"
   ]
  },
  {
   "cell_type": "code",
   "execution_count": 35,
   "id": "626c7d58",
   "metadata": {},
   "outputs": [],
   "source": [
    "numerical_data = data[numerical_cols]"
   ]
  },
  {
   "cell_type": "code",
   "execution_count": 36,
   "id": "73e89d72",
   "metadata": {},
   "outputs": [
    {
     "data": {
      "text/html": [
       "<div>\n",
       "<style scoped>\n",
       "    .dataframe tbody tr th:only-of-type {\n",
       "        vertical-align: middle;\n",
       "    }\n",
       "\n",
       "    .dataframe tbody tr th {\n",
       "        vertical-align: top;\n",
       "    }\n",
       "\n",
       "    .dataframe thead th {\n",
       "        text-align: right;\n",
       "    }\n",
       "</style>\n",
       "<table border=\"1\" class=\"dataframe\">\n",
       "  <thead>\n",
       "    <tr style=\"text-align: right;\">\n",
       "      <th></th>\n",
       "      <th>accommodates</th>\n",
       "      <th>bedrooms</th>\n",
       "      <th>beds</th>\n",
       "      <th>number_of_reviews_ltm</th>\n",
       "      <th>number_of_reviews_l30d</th>\n",
       "      <th>review_scores_rating</th>\n",
       "      <th>review_scores_accuracy</th>\n",
       "      <th>review_scores_cleanliness</th>\n",
       "      <th>review_scores_checkin</th>\n",
       "      <th>review_scores_communication</th>\n",
       "      <th>review_scores_location</th>\n",
       "      <th>review_scores_value</th>\n",
       "      <th>calculated_host_listings_count</th>\n",
       "      <th>calculated_host_listings_count_entire_homes</th>\n",
       "      <th>calculated_host_listings_count_private_rooms</th>\n",
       "      <th>calculated_host_listings_count_shared_rooms</th>\n",
       "    </tr>\n",
       "  </thead>\n",
       "  <tbody>\n",
       "    <tr>\n",
       "      <th>count</th>\n",
       "      <td>1032.000000</td>\n",
       "      <td>979.000000</td>\n",
       "      <td>1005.000000</td>\n",
       "      <td>1032.000000</td>\n",
       "      <td>1032.000000</td>\n",
       "      <td>920.000000</td>\n",
       "      <td>918.000000</td>\n",
       "      <td>918.000000</td>\n",
       "      <td>918.000000</td>\n",
       "      <td>918.000000</td>\n",
       "      <td>918.000000</td>\n",
       "      <td>918.000000</td>\n",
       "      <td>1032.000000</td>\n",
       "      <td>1032.000000</td>\n",
       "      <td>1032.000000</td>\n",
       "      <td>1032.000000</td>\n",
       "    </tr>\n",
       "    <tr>\n",
       "      <th>mean</th>\n",
       "      <td>3.302326</td>\n",
       "      <td>1.642492</td>\n",
       "      <td>2.039801</td>\n",
       "      <td>16.679264</td>\n",
       "      <td>1.246124</td>\n",
       "      <td>4.734359</td>\n",
       "      <td>4.812015</td>\n",
       "      <td>4.761351</td>\n",
       "      <td>4.864357</td>\n",
       "      <td>4.834455</td>\n",
       "      <td>4.782614</td>\n",
       "      <td>4.672985</td>\n",
       "      <td>17.626938</td>\n",
       "      <td>12.415698</td>\n",
       "      <td>4.531008</td>\n",
       "      <td>0.001938</td>\n",
       "    </tr>\n",
       "    <tr>\n",
       "      <th>std</th>\n",
       "      <td>2.347931</td>\n",
       "      <td>1.082899</td>\n",
       "      <td>1.793194</td>\n",
       "      <td>22.841987</td>\n",
       "      <td>2.141793</td>\n",
       "      <td>0.417342</td>\n",
       "      <td>0.311637</td>\n",
       "      <td>0.317527</td>\n",
       "      <td>0.311846</td>\n",
       "      <td>0.359569</td>\n",
       "      <td>0.276998</td>\n",
       "      <td>0.363929</td>\n",
       "      <td>38.103073</td>\n",
       "      <td>33.725897</td>\n",
       "      <td>13.903611</td>\n",
       "      <td>0.044001</td>\n",
       "    </tr>\n",
       "    <tr>\n",
       "      <th>min</th>\n",
       "      <td>1.000000</td>\n",
       "      <td>1.000000</td>\n",
       "      <td>1.000000</td>\n",
       "      <td>0.000000</td>\n",
       "      <td>0.000000</td>\n",
       "      <td>0.000000</td>\n",
       "      <td>1.000000</td>\n",
       "      <td>1.000000</td>\n",
       "      <td>1.000000</td>\n",
       "      <td>1.000000</td>\n",
       "      <td>1.000000</td>\n",
       "      <td>1.000000</td>\n",
       "      <td>1.000000</td>\n",
       "      <td>0.000000</td>\n",
       "      <td>0.000000</td>\n",
       "      <td>0.000000</td>\n",
       "    </tr>\n",
       "    <tr>\n",
       "      <th>25%</th>\n",
       "      <td>2.000000</td>\n",
       "      <td>1.000000</td>\n",
       "      <td>1.000000</td>\n",
       "      <td>1.000000</td>\n",
       "      <td>0.000000</td>\n",
       "      <td>4.670000</td>\n",
       "      <td>4.770000</td>\n",
       "      <td>4.670000</td>\n",
       "      <td>4.850000</td>\n",
       "      <td>4.830000</td>\n",
       "      <td>4.720000</td>\n",
       "      <td>4.600000</td>\n",
       "      <td>1.000000</td>\n",
       "      <td>0.000000</td>\n",
       "      <td>0.000000</td>\n",
       "      <td>0.000000</td>\n",
       "    </tr>\n",
       "    <tr>\n",
       "      <th>50%</th>\n",
       "      <td>2.000000</td>\n",
       "      <td>1.000000</td>\n",
       "      <td>1.000000</td>\n",
       "      <td>8.000000</td>\n",
       "      <td>0.000000</td>\n",
       "      <td>4.850000</td>\n",
       "      <td>4.900000</td>\n",
       "      <td>4.850000</td>\n",
       "      <td>4.940000</td>\n",
       "      <td>4.940000</td>\n",
       "      <td>4.840000</td>\n",
       "      <td>4.770000</td>\n",
       "      <td>2.000000</td>\n",
       "      <td>1.000000</td>\n",
       "      <td>0.000000</td>\n",
       "      <td>0.000000</td>\n",
       "    </tr>\n",
       "    <tr>\n",
       "      <th>75%</th>\n",
       "      <td>4.000000</td>\n",
       "      <td>2.000000</td>\n",
       "      <td>2.000000</td>\n",
       "      <td>23.000000</td>\n",
       "      <td>2.000000</td>\n",
       "      <td>4.940000</td>\n",
       "      <td>4.967500</td>\n",
       "      <td>4.960000</td>\n",
       "      <td>5.000000</td>\n",
       "      <td>5.000000</td>\n",
       "      <td>4.940000</td>\n",
       "      <td>4.880000</td>\n",
       "      <td>6.000000</td>\n",
       "      <td>2.000000</td>\n",
       "      <td>2.000000</td>\n",
       "      <td>0.000000</td>\n",
       "    </tr>\n",
       "    <tr>\n",
       "      <th>max</th>\n",
       "      <td>16.000000</td>\n",
       "      <td>9.000000</td>\n",
       "      <td>21.000000</td>\n",
       "      <td>170.000000</td>\n",
       "      <td>15.000000</td>\n",
       "      <td>5.000000</td>\n",
       "      <td>5.000000</td>\n",
       "      <td>5.000000</td>\n",
       "      <td>5.000000</td>\n",
       "      <td>5.000000</td>\n",
       "      <td>5.000000</td>\n",
       "      <td>5.000000</td>\n",
       "      <td>148.000000</td>\n",
       "      <td>134.000000</td>\n",
       "      <td>60.000000</td>\n",
       "      <td>1.000000</td>\n",
       "    </tr>\n",
       "  </tbody>\n",
       "</table>\n",
       "</div>"
      ],
      "text/plain": [
       "       accommodates    bedrooms         beds  number_of_reviews_ltm  \\\n",
       "count   1032.000000  979.000000  1005.000000            1032.000000   \n",
       "mean       3.302326    1.642492     2.039801              16.679264   \n",
       "std        2.347931    1.082899     1.793194              22.841987   \n",
       "min        1.000000    1.000000     1.000000               0.000000   \n",
       "25%        2.000000    1.000000     1.000000               1.000000   \n",
       "50%        2.000000    1.000000     1.000000               8.000000   \n",
       "75%        4.000000    2.000000     2.000000              23.000000   \n",
       "max       16.000000    9.000000    21.000000             170.000000   \n",
       "\n",
       "       number_of_reviews_l30d  review_scores_rating  review_scores_accuracy  \\\n",
       "count             1032.000000            920.000000              918.000000   \n",
       "mean                 1.246124              4.734359                4.812015   \n",
       "std                  2.141793              0.417342                0.311637   \n",
       "min                  0.000000              0.000000                1.000000   \n",
       "25%                  0.000000              4.670000                4.770000   \n",
       "50%                  0.000000              4.850000                4.900000   \n",
       "75%                  2.000000              4.940000                4.967500   \n",
       "max                 15.000000              5.000000                5.000000   \n",
       "\n",
       "       review_scores_cleanliness  review_scores_checkin  \\\n",
       "count                 918.000000             918.000000   \n",
       "mean                    4.761351               4.864357   \n",
       "std                     0.317527               0.311846   \n",
       "min                     1.000000               1.000000   \n",
       "25%                     4.670000               4.850000   \n",
       "50%                     4.850000               4.940000   \n",
       "75%                     4.960000               5.000000   \n",
       "max                     5.000000               5.000000   \n",
       "\n",
       "       review_scores_communication  review_scores_location  \\\n",
       "count                   918.000000              918.000000   \n",
       "mean                      4.834455                4.782614   \n",
       "std                       0.359569                0.276998   \n",
       "min                       1.000000                1.000000   \n",
       "25%                       4.830000                4.720000   \n",
       "50%                       4.940000                4.840000   \n",
       "75%                       5.000000                4.940000   \n",
       "max                       5.000000                5.000000   \n",
       "\n",
       "       review_scores_value  calculated_host_listings_count  \\\n",
       "count           918.000000                     1032.000000   \n",
       "mean              4.672985                       17.626938   \n",
       "std               0.363929                       38.103073   \n",
       "min               1.000000                        1.000000   \n",
       "25%               4.600000                        1.000000   \n",
       "50%               4.770000                        2.000000   \n",
       "75%               4.880000                        6.000000   \n",
       "max               5.000000                      148.000000   \n",
       "\n",
       "       calculated_host_listings_count_entire_homes  \\\n",
       "count                                  1032.000000   \n",
       "mean                                     12.415698   \n",
       "std                                      33.725897   \n",
       "min                                       0.000000   \n",
       "25%                                       0.000000   \n",
       "50%                                       1.000000   \n",
       "75%                                       2.000000   \n",
       "max                                     134.000000   \n",
       "\n",
       "       calculated_host_listings_count_private_rooms  \\\n",
       "count                                   1032.000000   \n",
       "mean                                       4.531008   \n",
       "std                                       13.903611   \n",
       "min                                        0.000000   \n",
       "25%                                        0.000000   \n",
       "50%                                        0.000000   \n",
       "75%                                        2.000000   \n",
       "max                                       60.000000   \n",
       "\n",
       "       calculated_host_listings_count_shared_rooms  \n",
       "count                                  1032.000000  \n",
       "mean                                      0.001938  \n",
       "std                                       0.044001  \n",
       "min                                       0.000000  \n",
       "25%                                       0.000000  \n",
       "50%                                       0.000000  \n",
       "75%                                       0.000000  \n",
       "max                                       1.000000  "
      ]
     },
     "execution_count": 36,
     "metadata": {},
     "output_type": "execute_result"
    }
   ],
   "source": [
    "numerical_data.describe()"
   ]
  },
  {
   "cell_type": "code",
   "execution_count": 37,
   "id": "bf116979",
   "metadata": {},
   "outputs": [
    {
     "data": {
      "text/plain": [
       "(1032, 16)"
      ]
     },
     "execution_count": 37,
     "metadata": {},
     "output_type": "execute_result"
    }
   ],
   "source": [
    "numerical_data.shape"
   ]
  },
  {
   "cell_type": "code",
   "execution_count": null,
   "id": "9e91f509",
   "metadata": {},
   "outputs": [],
   "source": []
  },
  {
   "cell_type": "markdown",
   "id": "153c88cd",
   "metadata": {},
   "source": [
    "### 2. Cleaning the Data"
   ]
  },
  {
   "cell_type": "markdown",
   "id": "da2a7b27",
   "metadata": {},
   "source": [
    "#### 2.a Cleaning numerical data"
   ]
  },
  {
   "cell_type": "code",
   "execution_count": 38,
   "id": "473ecb33",
   "metadata": {},
   "outputs": [
    {
     "name": "stderr",
     "output_type": "stream",
     "text": [
      "C:\\Users\\dev3w\\AppData\\Local\\Temp\\ipykernel_24280\\1966363746.py:6: SettingWithCopyWarning: \n",
      "A value is trying to be set on a copy of a slice from a DataFrame.\n",
      "Try using .loc[row_indexer,col_indexer] = value instead\n",
      "\n",
      "See the caveats in the documentation: https://pandas.pydata.org/pandas-docs/stable/user_guide/indexing.html#returning-a-view-versus-a-copy\n",
      "  numerical_data[col] = numerical_data[col].fillna(numerical_data[col].mean())\n"
     ]
    }
   ],
   "source": [
    "for col in numerical_cols:\n",
    "    if numerical_data[col].isna().sum():\n",
    "        if numerical_data[col].dtype == 'int64':\n",
    "            numerical_data[col] = numerical_data[col].fillna(numerical_data[col].median())\n",
    "        elif numerical_data[col].dtype == 'float64':\n",
    "            numerical_data[col] = numerical_data[col].fillna(numerical_data[col].mean())"
   ]
  },
  {
   "cell_type": "code",
   "execution_count": 39,
   "id": "3147ea74",
   "metadata": {},
   "outputs": [
    {
     "name": "stderr",
     "output_type": "stream",
     "text": [
      "C:\\Users\\dev3w\\AppData\\Local\\Temp\\ipykernel_24280\\2075073306.py:1: SettingWithCopyWarning: \n",
      "A value is trying to be set on a copy of a slice from a DataFrame.\n",
      "Try using .loc[row_indexer,col_indexer] = value instead\n",
      "\n",
      "See the caveats in the documentation: https://pandas.pydata.org/pandas-docs/stable/user_guide/indexing.html#returning-a-view-versus-a-copy\n",
      "  numerical_data['beds'] = numerical_data['beds'].astype('int64')\n",
      "C:\\Users\\dev3w\\AppData\\Local\\Temp\\ipykernel_24280\\2075073306.py:2: SettingWithCopyWarning: \n",
      "A value is trying to be set on a copy of a slice from a DataFrame.\n",
      "Try using .loc[row_indexer,col_indexer] = value instead\n",
      "\n",
      "See the caveats in the documentation: https://pandas.pydata.org/pandas-docs/stable/user_guide/indexing.html#returning-a-view-versus-a-copy\n",
      "  numerical_data['bedrooms'] = numerical_data['bedrooms'].astype('int64')\n"
     ]
    }
   ],
   "source": [
    "numerical_data['beds'] = numerical_data['beds'].astype('int64')\n",
    "numerical_data['bedrooms'] = numerical_data['bedrooms'].astype('int64')"
   ]
  },
  {
   "cell_type": "code",
   "execution_count": 40,
   "id": "eec653cb",
   "metadata": {},
   "outputs": [],
   "source": [
    "numerical_data = numerical_data.reset_index(drop=True)"
   ]
  },
  {
   "cell_type": "code",
   "execution_count": 41,
   "id": "02b2f216",
   "metadata": {
    "scrolled": false
   },
   "outputs": [
    {
     "name": "stdout",
     "output_type": "stream",
     "text": [
      "<class 'pandas.core.frame.DataFrame'>\n",
      "RangeIndex: 1032 entries, 0 to 1031\n",
      "Data columns (total 16 columns):\n",
      " #   Column                                        Non-Null Count  Dtype  \n",
      "---  ------                                        --------------  -----  \n",
      " 0   accommodates                                  1032 non-null   int64  \n",
      " 1   bedrooms                                      1032 non-null   int64  \n",
      " 2   beds                                          1032 non-null   int64  \n",
      " 3   number_of_reviews_ltm                         1032 non-null   int64  \n",
      " 4   number_of_reviews_l30d                        1032 non-null   int64  \n",
      " 5   review_scores_rating                          1032 non-null   float64\n",
      " 6   review_scores_accuracy                        1032 non-null   float64\n",
      " 7   review_scores_cleanliness                     1032 non-null   float64\n",
      " 8   review_scores_checkin                         1032 non-null   float64\n",
      " 9   review_scores_communication                   1032 non-null   float64\n",
      " 10  review_scores_location                        1032 non-null   float64\n",
      " 11  review_scores_value                           1032 non-null   float64\n",
      " 12  calculated_host_listings_count                1032 non-null   int64  \n",
      " 13  calculated_host_listings_count_entire_homes   1032 non-null   int64  \n",
      " 14  calculated_host_listings_count_private_rooms  1032 non-null   int64  \n",
      " 15  calculated_host_listings_count_shared_rooms   1032 non-null   int64  \n",
      "dtypes: float64(7), int64(9)\n",
      "memory usage: 129.1 KB\n"
     ]
    }
   ],
   "source": [
    "numerical_data.info()"
   ]
  },
  {
   "cell_type": "code",
   "execution_count": null,
   "id": "66780727",
   "metadata": {},
   "outputs": [],
   "source": []
  },
  {
   "cell_type": "markdown",
   "id": "c1dd1da1",
   "metadata": {},
   "source": [
    "#### 2.b Cleaning object type data"
   ]
  },
  {
   "cell_type": "code",
   "execution_count": 42,
   "id": "fff6ccb6",
   "metadata": {},
   "outputs": [],
   "source": [
    "impute = SimpleImputer(strategy='most_frequent')"
   ]
  },
  {
   "cell_type": "code",
   "execution_count": 43,
   "id": "7cd37f3d",
   "metadata": {},
   "outputs": [
    {
     "name": "stdout",
     "output_type": "stream",
     "text": [
      "host_response_time\n",
      "host_response_rate\n",
      "host_acceptance_rate\n",
      "bathrooms_text\n"
     ]
    },
    {
     "name": "stderr",
     "output_type": "stream",
     "text": [
      "C:\\Users\\dev3w\\AppData\\Local\\Temp\\ipykernel_24280\\3586505857.py:4: SettingWithCopyWarning: \n",
      "A value is trying to be set on a copy of a slice from a DataFrame.\n",
      "Try using .loc[row_indexer,col_indexer] = value instead\n",
      "\n",
      "See the caveats in the documentation: https://pandas.pydata.org/pandas-docs/stable/user_guide/indexing.html#returning-a-view-versus-a-copy\n",
      "  obj_data[col] = impute.fit_transform(obj_data[[col]])\n",
      "C:\\Users\\dev3w\\AppData\\Local\\Temp\\ipykernel_24280\\3586505857.py:4: SettingWithCopyWarning: \n",
      "A value is trying to be set on a copy of a slice from a DataFrame.\n",
      "Try using .loc[row_indexer,col_indexer] = value instead\n",
      "\n",
      "See the caveats in the documentation: https://pandas.pydata.org/pandas-docs/stable/user_guide/indexing.html#returning-a-view-versus-a-copy\n",
      "  obj_data[col] = impute.fit_transform(obj_data[[col]])\n",
      "C:\\Users\\dev3w\\AppData\\Local\\Temp\\ipykernel_24280\\3586505857.py:4: SettingWithCopyWarning: \n",
      "A value is trying to be set on a copy of a slice from a DataFrame.\n",
      "Try using .loc[row_indexer,col_indexer] = value instead\n",
      "\n",
      "See the caveats in the documentation: https://pandas.pydata.org/pandas-docs/stable/user_guide/indexing.html#returning-a-view-versus-a-copy\n",
      "  obj_data[col] = impute.fit_transform(obj_data[[col]])\n",
      "C:\\Users\\dev3w\\AppData\\Local\\Temp\\ipykernel_24280\\3586505857.py:4: SettingWithCopyWarning: \n",
      "A value is trying to be set on a copy of a slice from a DataFrame.\n",
      "Try using .loc[row_indexer,col_indexer] = value instead\n",
      "\n",
      "See the caveats in the documentation: https://pandas.pydata.org/pandas-docs/stable/user_guide/indexing.html#returning-a-view-versus-a-copy\n",
      "  obj_data[col] = impute.fit_transform(obj_data[[col]])\n"
     ]
    }
   ],
   "source": [
    "for col in obj_cols:\n",
    "    if obj_data[col].isna().sum():\n",
    "        print(col)\n",
    "        obj_data[col] = impute.fit_transform(obj_data[[col]])"
   ]
  },
  {
   "cell_type": "code",
   "execution_count": 44,
   "id": "b0d99823",
   "metadata": {
    "scrolled": false
   },
   "outputs": [
    {
     "name": "stdout",
     "output_type": "stream",
     "text": [
      "<class 'pandas.core.frame.DataFrame'>\n",
      "Int64Index: 1032 entries, 0 to 2325\n",
      "Data columns (total 14 columns):\n",
      " #   Column                  Non-Null Count  Dtype \n",
      "---  ------                  --------------  ----- \n",
      " 0   host_response_time      1032 non-null   object\n",
      " 1   host_response_rate      1032 non-null   object\n",
      " 2   host_acceptance_rate    1032 non-null   object\n",
      " 3   host_is_superhost       1032 non-null   object\n",
      " 4   host_verifications      1032 non-null   object\n",
      " 5   host_has_profile_pic    1032 non-null   object\n",
      " 6   host_identity_verified  1032 non-null   object\n",
      " 7   neighbourhood           1032 non-null   object\n",
      " 8   property_type           1032 non-null   object\n",
      " 9   room_type               1032 non-null   object\n",
      " 10  bathrooms_text          1032 non-null   object\n",
      " 11  amenities               1032 non-null   object\n",
      " 12  instant_bookable        1032 non-null   object\n",
      " 13  price                   1032 non-null   object\n",
      "dtypes: object(14)\n",
      "memory usage: 120.9+ KB\n"
     ]
    }
   ],
   "source": [
    "obj_data.info()"
   ]
  },
  {
   "cell_type": "code",
   "execution_count": null,
   "id": "5d3577c0",
   "metadata": {},
   "outputs": [],
   "source": []
  },
  {
   "cell_type": "markdown",
   "id": "9eb2e02a",
   "metadata": {},
   "source": [
    "### 3. Creating Analytical Data Set (ADS)"
   ]
  },
  {
   "cell_type": "code",
   "execution_count": 45,
   "id": "9665dfbd",
   "metadata": {},
   "outputs": [],
   "source": [
    "ads = pd.DataFrame()"
   ]
  },
  {
   "cell_type": "code",
   "execution_count": 46,
   "id": "a0fd953a",
   "metadata": {},
   "outputs": [],
   "source": [
    "ohe = OneHotEncoder()"
   ]
  },
  {
   "cell_type": "code",
   "execution_count": 47,
   "id": "8223cfbb",
   "metadata": {},
   "outputs": [],
   "source": [
    "# host_response_time\n",
    "host_response_time = pd.DataFrame(ohe.fit_transform(obj_data[['host_response_time']]).toarray(),columns=ohe.get_feature_names_out())\n",
    "ads = pd.concat([ads, host_response_time], axis = 1)"
   ]
  },
  {
   "cell_type": "code",
   "execution_count": 48,
   "id": "19c4d510",
   "metadata": {},
   "outputs": [],
   "source": [
    "# host_response_rate\n",
    "def response_cat(response_rate):\n",
    "    if response_rate == 100:\n",
    "        return '100'\n",
    "    elif response_rate >= 95 and response_rate <100:\n",
    "        return 'over_95'\n",
    "    elif response_rate >= 90 and response_rate <95:\n",
    "        return 'over_90'\n",
    "    elif response_rate >= 70 and response_rate <90:\n",
    "        return 'over_70'\n",
    "    else:\n",
    "        return 'below_70'"
   ]
  },
  {
   "cell_type": "code",
   "execution_count": 49,
   "id": "6a5a8a3e",
   "metadata": {},
   "outputs": [
    {
     "name": "stderr",
     "output_type": "stream",
     "text": [
      "C:\\Users\\dev3w\\AppData\\Local\\Temp\\ipykernel_24280\\121515869.py:1: SettingWithCopyWarning: \n",
      "A value is trying to be set on a copy of a slice from a DataFrame.\n",
      "Try using .loc[row_indexer,col_indexer] = value instead\n",
      "\n",
      "See the caveats in the documentation: https://pandas.pydata.org/pandas-docs/stable/user_guide/indexing.html#returning-a-view-versus-a-copy\n",
      "  obj_data['host_response_rate'] = obj_data['host_response_rate'].str.replace('%','').astype('int')\n",
      "C:\\Users\\dev3w\\AppData\\Local\\Temp\\ipykernel_24280\\121515869.py:2: SettingWithCopyWarning: \n",
      "A value is trying to be set on a copy of a slice from a DataFrame.\n",
      "Try using .loc[row_indexer,col_indexer] = value instead\n",
      "\n",
      "See the caveats in the documentation: https://pandas.pydata.org/pandas-docs/stable/user_guide/indexing.html#returning-a-view-versus-a-copy\n",
      "  obj_data['host_response_rate_cat'] = obj_data['host_response_rate'].apply(response_cat)\n"
     ]
    }
   ],
   "source": [
    "obj_data['host_response_rate'] = obj_data['host_response_rate'].str.replace('%','').astype('int')\n",
    "obj_data['host_response_rate_cat'] = obj_data['host_response_rate'].apply(response_cat)\n",
    "obj_data['host_response_rate_cat'].value_counts()\n",
    "\n",
    "host_response_rate_cat = pd.DataFrame(ohe.fit_transform(obj_data[['host_response_rate_cat']]).toarray(),columns=ohe.get_feature_names_out())\n",
    "ads = pd.concat([ads, host_response_rate_cat], axis = 1)"
   ]
  },
  {
   "cell_type": "code",
   "execution_count": 50,
   "id": "990be311",
   "metadata": {},
   "outputs": [
    {
     "name": "stderr",
     "output_type": "stream",
     "text": [
      "C:\\Users\\dev3w\\AppData\\Local\\Temp\\ipykernel_24280\\884073820.py:14: SettingWithCopyWarning: \n",
      "A value is trying to be set on a copy of a slice from a DataFrame.\n",
      "Try using .loc[row_indexer,col_indexer] = value instead\n",
      "\n",
      "See the caveats in the documentation: https://pandas.pydata.org/pandas-docs/stable/user_guide/indexing.html#returning-a-view-versus-a-copy\n",
      "  obj_data['host_acceptance_rate'] = obj_data['host_acceptance_rate'].str.replace('%','').astype('int')\n",
      "C:\\Users\\dev3w\\AppData\\Local\\Temp\\ipykernel_24280\\884073820.py:15: SettingWithCopyWarning: \n",
      "A value is trying to be set on a copy of a slice from a DataFrame.\n",
      "Try using .loc[row_indexer,col_indexer] = value instead\n",
      "\n",
      "See the caveats in the documentation: https://pandas.pydata.org/pandas-docs/stable/user_guide/indexing.html#returning-a-view-versus-a-copy\n",
      "  obj_data['host_acceptance_rate_cat'] = obj_data['host_acceptance_rate'].apply(acceptance_cat)\n"
     ]
    }
   ],
   "source": [
    "# host_acceptance_rate\n",
    "def acceptance_cat(acceptance_rate):\n",
    "    if acceptance_rate == 100:\n",
    "        return '100'\n",
    "    elif acceptance_rate >= 95 and acceptance_rate <100:\n",
    "        return 'over_95'\n",
    "    elif acceptance_rate >= 90 and acceptance_rate <95:\n",
    "        return 'over_90'\n",
    "    elif acceptance_rate >= 70 and acceptance_rate <90:\n",
    "        return 'over_70'\n",
    "    else:\n",
    "        return 'below_70'\n",
    "\n",
    "obj_data['host_acceptance_rate'] = obj_data['host_acceptance_rate'].str.replace('%','').astype('int')\n",
    "obj_data['host_acceptance_rate_cat'] = obj_data['host_acceptance_rate'].apply(acceptance_cat)\n",
    "obj_data['host_acceptance_rate_cat'].value_counts()\n",
    "\n",
    "host_acceptance_rate_cat = pd.DataFrame(ohe.fit_transform(obj_data[['host_acceptance_rate_cat']]).toarray(),columns=ohe.get_feature_names_out())\n",
    "ads = pd.concat([ads, host_acceptance_rate_cat], axis = 1)"
   ]
  },
  {
   "cell_type": "code",
   "execution_count": 51,
   "id": "80b61019",
   "metadata": {},
   "outputs": [],
   "source": [
    "# host_is_superhost\n",
    "\n",
    "host_is_superhost = pd.DataFrame(ohe.fit_transform(obj_data[['host_is_superhost']]).toarray(),columns=ohe.get_feature_names_out())\n",
    "ads = pd.concat([ads, host_is_superhost], axis = 1)"
   ]
  },
  {
   "cell_type": "code",
   "execution_count": 52,
   "id": "1c65ed8c",
   "metadata": {},
   "outputs": [
    {
     "data": {
      "text/html": [
       "<div>\n",
       "<style scoped>\n",
       "    .dataframe tbody tr th:only-of-type {\n",
       "        vertical-align: middle;\n",
       "    }\n",
       "\n",
       "    .dataframe tbody tr th {\n",
       "        vertical-align: top;\n",
       "    }\n",
       "\n",
       "    .dataframe thead th {\n",
       "        text-align: right;\n",
       "    }\n",
       "</style>\n",
       "<table border=\"1\" class=\"dataframe\">\n",
       "  <thead>\n",
       "    <tr style=\"text-align: right;\">\n",
       "      <th></th>\n",
       "      <th>host_response_time_a few days or more</th>\n",
       "      <th>host_response_time_within a day</th>\n",
       "      <th>host_response_time_within a few hours</th>\n",
       "      <th>host_response_time_within an hour</th>\n",
       "      <th>host_response_rate_cat_100</th>\n",
       "      <th>host_response_rate_cat_below_70</th>\n",
       "      <th>host_response_rate_cat_over_70</th>\n",
       "      <th>host_response_rate_cat_over_90</th>\n",
       "      <th>host_response_rate_cat_over_95</th>\n",
       "      <th>host_acceptance_rate_cat_100</th>\n",
       "      <th>host_acceptance_rate_cat_below_70</th>\n",
       "      <th>host_acceptance_rate_cat_over_70</th>\n",
       "      <th>host_acceptance_rate_cat_over_90</th>\n",
       "      <th>host_acceptance_rate_cat_over_95</th>\n",
       "      <th>host_is_superhost_f</th>\n",
       "      <th>host_is_superhost_t</th>\n",
       "    </tr>\n",
       "  </thead>\n",
       "  <tbody>\n",
       "    <tr>\n",
       "      <th>0</th>\n",
       "      <td>0.0</td>\n",
       "      <td>0.0</td>\n",
       "      <td>0.0</td>\n",
       "      <td>1.0</td>\n",
       "      <td>1.0</td>\n",
       "      <td>0.0</td>\n",
       "      <td>0.0</td>\n",
       "      <td>0.0</td>\n",
       "      <td>0.0</td>\n",
       "      <td>0.0</td>\n",
       "      <td>0.0</td>\n",
       "      <td>0.0</td>\n",
       "      <td>1.0</td>\n",
       "      <td>0.0</td>\n",
       "      <td>0.0</td>\n",
       "      <td>1.0</td>\n",
       "    </tr>\n",
       "    <tr>\n",
       "      <th>1</th>\n",
       "      <td>0.0</td>\n",
       "      <td>0.0</td>\n",
       "      <td>0.0</td>\n",
       "      <td>1.0</td>\n",
       "      <td>1.0</td>\n",
       "      <td>0.0</td>\n",
       "      <td>0.0</td>\n",
       "      <td>0.0</td>\n",
       "      <td>0.0</td>\n",
       "      <td>1.0</td>\n",
       "      <td>0.0</td>\n",
       "      <td>0.0</td>\n",
       "      <td>0.0</td>\n",
       "      <td>0.0</td>\n",
       "      <td>0.0</td>\n",
       "      <td>1.0</td>\n",
       "    </tr>\n",
       "    <tr>\n",
       "      <th>2</th>\n",
       "      <td>0.0</td>\n",
       "      <td>0.0</td>\n",
       "      <td>1.0</td>\n",
       "      <td>0.0</td>\n",
       "      <td>1.0</td>\n",
       "      <td>0.0</td>\n",
       "      <td>0.0</td>\n",
       "      <td>0.0</td>\n",
       "      <td>0.0</td>\n",
       "      <td>0.0</td>\n",
       "      <td>1.0</td>\n",
       "      <td>0.0</td>\n",
       "      <td>0.0</td>\n",
       "      <td>0.0</td>\n",
       "      <td>1.0</td>\n",
       "      <td>0.0</td>\n",
       "    </tr>\n",
       "    <tr>\n",
       "      <th>3</th>\n",
       "      <td>0.0</td>\n",
       "      <td>0.0</td>\n",
       "      <td>1.0</td>\n",
       "      <td>0.0</td>\n",
       "      <td>1.0</td>\n",
       "      <td>0.0</td>\n",
       "      <td>0.0</td>\n",
       "      <td>0.0</td>\n",
       "      <td>0.0</td>\n",
       "      <td>0.0</td>\n",
       "      <td>0.0</td>\n",
       "      <td>0.0</td>\n",
       "      <td>1.0</td>\n",
       "      <td>0.0</td>\n",
       "      <td>0.0</td>\n",
       "      <td>1.0</td>\n",
       "    </tr>\n",
       "    <tr>\n",
       "      <th>4</th>\n",
       "      <td>0.0</td>\n",
       "      <td>0.0</td>\n",
       "      <td>0.0</td>\n",
       "      <td>1.0</td>\n",
       "      <td>1.0</td>\n",
       "      <td>0.0</td>\n",
       "      <td>0.0</td>\n",
       "      <td>0.0</td>\n",
       "      <td>0.0</td>\n",
       "      <td>1.0</td>\n",
       "      <td>0.0</td>\n",
       "      <td>0.0</td>\n",
       "      <td>0.0</td>\n",
       "      <td>0.0</td>\n",
       "      <td>0.0</td>\n",
       "      <td>1.0</td>\n",
       "    </tr>\n",
       "    <tr>\n",
       "      <th>...</th>\n",
       "      <td>...</td>\n",
       "      <td>...</td>\n",
       "      <td>...</td>\n",
       "      <td>...</td>\n",
       "      <td>...</td>\n",
       "      <td>...</td>\n",
       "      <td>...</td>\n",
       "      <td>...</td>\n",
       "      <td>...</td>\n",
       "      <td>...</td>\n",
       "      <td>...</td>\n",
       "      <td>...</td>\n",
       "      <td>...</td>\n",
       "      <td>...</td>\n",
       "      <td>...</td>\n",
       "      <td>...</td>\n",
       "    </tr>\n",
       "    <tr>\n",
       "      <th>1027</th>\n",
       "      <td>0.0</td>\n",
       "      <td>0.0</td>\n",
       "      <td>0.0</td>\n",
       "      <td>1.0</td>\n",
       "      <td>1.0</td>\n",
       "      <td>0.0</td>\n",
       "      <td>0.0</td>\n",
       "      <td>0.0</td>\n",
       "      <td>0.0</td>\n",
       "      <td>1.0</td>\n",
       "      <td>0.0</td>\n",
       "      <td>0.0</td>\n",
       "      <td>0.0</td>\n",
       "      <td>0.0</td>\n",
       "      <td>1.0</td>\n",
       "      <td>0.0</td>\n",
       "    </tr>\n",
       "    <tr>\n",
       "      <th>1028</th>\n",
       "      <td>0.0</td>\n",
       "      <td>0.0</td>\n",
       "      <td>0.0</td>\n",
       "      <td>1.0</td>\n",
       "      <td>1.0</td>\n",
       "      <td>0.0</td>\n",
       "      <td>0.0</td>\n",
       "      <td>0.0</td>\n",
       "      <td>0.0</td>\n",
       "      <td>1.0</td>\n",
       "      <td>0.0</td>\n",
       "      <td>0.0</td>\n",
       "      <td>0.0</td>\n",
       "      <td>0.0</td>\n",
       "      <td>1.0</td>\n",
       "      <td>0.0</td>\n",
       "    </tr>\n",
       "    <tr>\n",
       "      <th>1029</th>\n",
       "      <td>0.0</td>\n",
       "      <td>0.0</td>\n",
       "      <td>0.0</td>\n",
       "      <td>1.0</td>\n",
       "      <td>1.0</td>\n",
       "      <td>0.0</td>\n",
       "      <td>0.0</td>\n",
       "      <td>0.0</td>\n",
       "      <td>0.0</td>\n",
       "      <td>0.0</td>\n",
       "      <td>0.0</td>\n",
       "      <td>0.0</td>\n",
       "      <td>1.0</td>\n",
       "      <td>0.0</td>\n",
       "      <td>1.0</td>\n",
       "      <td>0.0</td>\n",
       "    </tr>\n",
       "    <tr>\n",
       "      <th>1030</th>\n",
       "      <td>0.0</td>\n",
       "      <td>0.0</td>\n",
       "      <td>0.0</td>\n",
       "      <td>1.0</td>\n",
       "      <td>1.0</td>\n",
       "      <td>0.0</td>\n",
       "      <td>0.0</td>\n",
       "      <td>0.0</td>\n",
       "      <td>0.0</td>\n",
       "      <td>1.0</td>\n",
       "      <td>0.0</td>\n",
       "      <td>0.0</td>\n",
       "      <td>0.0</td>\n",
       "      <td>0.0</td>\n",
       "      <td>1.0</td>\n",
       "      <td>0.0</td>\n",
       "    </tr>\n",
       "    <tr>\n",
       "      <th>1031</th>\n",
       "      <td>0.0</td>\n",
       "      <td>0.0</td>\n",
       "      <td>0.0</td>\n",
       "      <td>1.0</td>\n",
       "      <td>0.0</td>\n",
       "      <td>0.0</td>\n",
       "      <td>0.0</td>\n",
       "      <td>1.0</td>\n",
       "      <td>0.0</td>\n",
       "      <td>0.0</td>\n",
       "      <td>0.0</td>\n",
       "      <td>0.0</td>\n",
       "      <td>1.0</td>\n",
       "      <td>0.0</td>\n",
       "      <td>1.0</td>\n",
       "      <td>0.0</td>\n",
       "    </tr>\n",
       "  </tbody>\n",
       "</table>\n",
       "<p>1032 rows × 16 columns</p>\n",
       "</div>"
      ],
      "text/plain": [
       "      host_response_time_a few days or more  host_response_time_within a day  \\\n",
       "0                                       0.0                              0.0   \n",
       "1                                       0.0                              0.0   \n",
       "2                                       0.0                              0.0   \n",
       "3                                       0.0                              0.0   \n",
       "4                                       0.0                              0.0   \n",
       "...                                     ...                              ...   \n",
       "1027                                    0.0                              0.0   \n",
       "1028                                    0.0                              0.0   \n",
       "1029                                    0.0                              0.0   \n",
       "1030                                    0.0                              0.0   \n",
       "1031                                    0.0                              0.0   \n",
       "\n",
       "      host_response_time_within a few hours  \\\n",
       "0                                       0.0   \n",
       "1                                       0.0   \n",
       "2                                       1.0   \n",
       "3                                       1.0   \n",
       "4                                       0.0   \n",
       "...                                     ...   \n",
       "1027                                    0.0   \n",
       "1028                                    0.0   \n",
       "1029                                    0.0   \n",
       "1030                                    0.0   \n",
       "1031                                    0.0   \n",
       "\n",
       "      host_response_time_within an hour  host_response_rate_cat_100  \\\n",
       "0                                   1.0                         1.0   \n",
       "1                                   1.0                         1.0   \n",
       "2                                   0.0                         1.0   \n",
       "3                                   0.0                         1.0   \n",
       "4                                   1.0                         1.0   \n",
       "...                                 ...                         ...   \n",
       "1027                                1.0                         1.0   \n",
       "1028                                1.0                         1.0   \n",
       "1029                                1.0                         1.0   \n",
       "1030                                1.0                         1.0   \n",
       "1031                                1.0                         0.0   \n",
       "\n",
       "      host_response_rate_cat_below_70  host_response_rate_cat_over_70  \\\n",
       "0                                 0.0                             0.0   \n",
       "1                                 0.0                             0.0   \n",
       "2                                 0.0                             0.0   \n",
       "3                                 0.0                             0.0   \n",
       "4                                 0.0                             0.0   \n",
       "...                               ...                             ...   \n",
       "1027                              0.0                             0.0   \n",
       "1028                              0.0                             0.0   \n",
       "1029                              0.0                             0.0   \n",
       "1030                              0.0                             0.0   \n",
       "1031                              0.0                             0.0   \n",
       "\n",
       "      host_response_rate_cat_over_90  host_response_rate_cat_over_95  \\\n",
       "0                                0.0                             0.0   \n",
       "1                                0.0                             0.0   \n",
       "2                                0.0                             0.0   \n",
       "3                                0.0                             0.0   \n",
       "4                                0.0                             0.0   \n",
       "...                              ...                             ...   \n",
       "1027                             0.0                             0.0   \n",
       "1028                             0.0                             0.0   \n",
       "1029                             0.0                             0.0   \n",
       "1030                             0.0                             0.0   \n",
       "1031                             1.0                             0.0   \n",
       "\n",
       "      host_acceptance_rate_cat_100  host_acceptance_rate_cat_below_70  \\\n",
       "0                              0.0                                0.0   \n",
       "1                              1.0                                0.0   \n",
       "2                              0.0                                1.0   \n",
       "3                              0.0                                0.0   \n",
       "4                              1.0                                0.0   \n",
       "...                            ...                                ...   \n",
       "1027                           1.0                                0.0   \n",
       "1028                           1.0                                0.0   \n",
       "1029                           0.0                                0.0   \n",
       "1030                           1.0                                0.0   \n",
       "1031                           0.0                                0.0   \n",
       "\n",
       "      host_acceptance_rate_cat_over_70  host_acceptance_rate_cat_over_90  \\\n",
       "0                                  0.0                               1.0   \n",
       "1                                  0.0                               0.0   \n",
       "2                                  0.0                               0.0   \n",
       "3                                  0.0                               1.0   \n",
       "4                                  0.0                               0.0   \n",
       "...                                ...                               ...   \n",
       "1027                               0.0                               0.0   \n",
       "1028                               0.0                               0.0   \n",
       "1029                               0.0                               1.0   \n",
       "1030                               0.0                               0.0   \n",
       "1031                               0.0                               1.0   \n",
       "\n",
       "      host_acceptance_rate_cat_over_95  host_is_superhost_f  \\\n",
       "0                                  0.0                  0.0   \n",
       "1                                  0.0                  0.0   \n",
       "2                                  0.0                  1.0   \n",
       "3                                  0.0                  0.0   \n",
       "4                                  0.0                  0.0   \n",
       "...                                ...                  ...   \n",
       "1027                               0.0                  1.0   \n",
       "1028                               0.0                  1.0   \n",
       "1029                               0.0                  1.0   \n",
       "1030                               0.0                  1.0   \n",
       "1031                               0.0                  1.0   \n",
       "\n",
       "      host_is_superhost_t  \n",
       "0                     1.0  \n",
       "1                     1.0  \n",
       "2                     0.0  \n",
       "3                     1.0  \n",
       "4                     1.0  \n",
       "...                   ...  \n",
       "1027                  0.0  \n",
       "1028                  0.0  \n",
       "1029                  0.0  \n",
       "1030                  0.0  \n",
       "1031                  0.0  \n",
       "\n",
       "[1032 rows x 16 columns]"
      ]
     },
     "execution_count": 52,
     "metadata": {},
     "output_type": "execute_result"
    }
   ],
   "source": [
    "ads"
   ]
  },
  {
   "cell_type": "code",
   "execution_count": 53,
   "id": "ee6e23e8",
   "metadata": {},
   "outputs": [],
   "source": [
    "# host_verifications\n",
    "\n",
    "host_verifications = obj_data['host_verifications'].apply(lambda x: len(x.replace('[','').replace(']','').split(',')))\n",
    "host_verifications = host_verifications.reset_index(drop = True)\n",
    "ads = pd.concat([ads, host_verifications], axis = 1)"
   ]
  },
  {
   "cell_type": "code",
   "execution_count": 54,
   "id": "3bc55a77",
   "metadata": {},
   "outputs": [],
   "source": [
    "# host_has_profile_pic\n",
    "\n",
    "host_has_profile_pic = pd.DataFrame(ohe.fit_transform(obj_data[['host_has_profile_pic']]).toarray(),columns=ohe.get_feature_names_out())\n",
    "ads = pd.concat([ads, host_has_profile_pic], axis = 1)"
   ]
  },
  {
   "cell_type": "code",
   "execution_count": 55,
   "id": "4a32e243",
   "metadata": {},
   "outputs": [],
   "source": [
    "# host_identity_verified\n",
    "\n",
    "host_identity_verified = pd.DataFrame(ohe.fit_transform(obj_data[['host_identity_verified']]).toarray(),columns=ohe.get_feature_names_out())\n",
    "ads = pd.concat([ads, host_identity_verified], axis = 1)"
   ]
  },
  {
   "cell_type": "code",
   "execution_count": 56,
   "id": "ac902709",
   "metadata": {},
   "outputs": [],
   "source": [
    "# property_type\n",
    "\n",
    "property_type = pd.DataFrame(ohe.fit_transform(obj_data[['property_type']]).toarray(),columns=ohe.get_feature_names_out())\n",
    "ads = pd.concat([ads, property_type], axis = 1)"
   ]
  },
  {
   "cell_type": "code",
   "execution_count": 57,
   "id": "ff6b8192",
   "metadata": {},
   "outputs": [],
   "source": [
    "# room_type\n",
    "\n",
    "room_type = pd.DataFrame(ohe.fit_transform(obj_data[['room_type']]).toarray(),columns=ohe.get_feature_names_out())\n",
    "ads = pd.concat([ads, room_type], axis = 1)"
   ]
  },
  {
   "cell_type": "code",
   "execution_count": 58,
   "id": "49b10a26",
   "metadata": {
    "scrolled": true
   },
   "outputs": [],
   "source": [
    "bathroom_count = obj_data['bathrooms_text'].apply(lambda x: x.replace('Shared half-bath', '0.5 shared').replace('Half-bath', '0.5 bath').split(' ')[0]).astype('float')\n",
    "bathroom_count = bathroom_count.reset_index(drop = True)\n",
    "bathroom_count = bathroom_count.rename('bathroom_count')"
   ]
  },
  {
   "cell_type": "code",
   "execution_count": 59,
   "id": "2c9405ec",
   "metadata": {},
   "outputs": [],
   "source": [
    "ads = pd.concat([ads, bathroom_count], axis = 1)"
   ]
  },
  {
   "cell_type": "code",
   "execution_count": 60,
   "id": "3f3a2b97",
   "metadata": {},
   "outputs": [
    {
     "name": "stderr",
     "output_type": "stream",
     "text": [
      "C:\\Users\\dev3w\\AppData\\Local\\Temp\\ipykernel_24280\\1265981019.py:1: SettingWithCopyWarning: \n",
      "A value is trying to be set on a copy of a slice from a DataFrame.\n",
      "Try using .loc[row_indexer,col_indexer] = value instead\n",
      "\n",
      "See the caveats in the documentation: https://pandas.pydata.org/pandas-docs/stable/user_guide/indexing.html#returning-a-view-versus-a-copy\n",
      "  obj_data['bathroom_shared_flag'] = obj_data['bathrooms_text'].apply(lambda x: 't' if 'shared' in x else 'f')\n"
     ]
    }
   ],
   "source": [
    "obj_data['bathroom_shared_flag'] = obj_data['bathrooms_text'].apply(lambda x: 't' if 'shared' in x else 'f')"
   ]
  },
  {
   "cell_type": "code",
   "execution_count": 61,
   "id": "5e0fda88",
   "metadata": {},
   "outputs": [],
   "source": [
    "bathroom_shared = pd.DataFrame(ohe.fit_transform(obj_data[['bathroom_shared_flag']]).toarray(),columns=ohe.get_feature_names_out())\n",
    "ads = pd.concat([ads, bathroom_shared], axis=1)"
   ]
  },
  {
   "cell_type": "code",
   "execution_count": 62,
   "id": "d23f027a",
   "metadata": {},
   "outputs": [],
   "source": [
    "# amenities\n",
    "\n",
    "amenities = obj_data['amenities'].apply(lambda x: len(x.replace('[','').replace(']','').split(',')))\n",
    "amenities = amenities.reset_index(drop = True)\n",
    "ads = pd.concat([ads,amenities], axis = 1)"
   ]
  },
  {
   "cell_type": "code",
   "execution_count": 63,
   "id": "b46594ee",
   "metadata": {},
   "outputs": [],
   "source": [
    "# instant_bookable\n",
    "\n",
    "instant_bookable = pd.DataFrame(ohe.fit_transform(obj_data[['instant_bookable']]).toarray(), columns=ohe.get_feature_names_out())\n",
    "ads = pd.concat([ads,instant_bookable], axis = 1)"
   ]
  },
  {
   "cell_type": "code",
   "execution_count": null,
   "id": "1fa04927",
   "metadata": {},
   "outputs": [],
   "source": []
  },
  {
   "cell_type": "code",
   "execution_count": 64,
   "id": "32a6acc1",
   "metadata": {},
   "outputs": [],
   "source": [
    "ads = pd.concat([ads, numerical_data], axis=1)"
   ]
  },
  {
   "cell_type": "code",
   "execution_count": 65,
   "id": "34c4e415",
   "metadata": {
    "scrolled": true
   },
   "outputs": [
    {
     "name": "stderr",
     "output_type": "stream",
     "text": [
      "C:\\Users\\dev3w\\AppData\\Local\\Temp\\ipykernel_24280\\2371102118.py:1: FutureWarning: The default value of regex will change from True to False in a future version. In addition, single character regular expressions will *not* be treated as literal strings when regex=True.\n",
      "  price = obj_data['price'].str.replace('$','').str.replace(',','').astype('float').astype('int').reset_index(drop=True)\n"
     ]
    }
   ],
   "source": [
    "price = obj_data['price'].str.replace('$','').str.replace(',','').astype('float').astype('int').reset_index(drop=True)\n",
    "ads = pd.concat([ads, price], axis = 1)"
   ]
  },
  {
   "cell_type": "code",
   "execution_count": 67,
   "id": "6e85deaf",
   "metadata": {},
   "outputs": [
    {
     "data": {
      "text/html": [
       "<div>\n",
       "<style scoped>\n",
       "    .dataframe tbody tr th:only-of-type {\n",
       "        vertical-align: middle;\n",
       "    }\n",
       "\n",
       "    .dataframe tbody tr th {\n",
       "        vertical-align: top;\n",
       "    }\n",
       "\n",
       "    .dataframe thead th {\n",
       "        text-align: right;\n",
       "    }\n",
       "</style>\n",
       "<table border=\"1\" class=\"dataframe\">\n",
       "  <thead>\n",
       "    <tr style=\"text-align: right;\">\n",
       "      <th></th>\n",
       "      <th>host_response_time_a few days or more</th>\n",
       "      <th>host_response_time_within a day</th>\n",
       "      <th>host_response_time_within a few hours</th>\n",
       "      <th>host_response_time_within an hour</th>\n",
       "      <th>host_response_rate_cat_100</th>\n",
       "      <th>host_response_rate_cat_below_70</th>\n",
       "      <th>host_response_rate_cat_over_70</th>\n",
       "      <th>host_response_rate_cat_over_90</th>\n",
       "      <th>host_response_rate_cat_over_95</th>\n",
       "      <th>host_acceptance_rate_cat_100</th>\n",
       "      <th>...</th>\n",
       "      <th>review_scores_cleanliness</th>\n",
       "      <th>review_scores_checkin</th>\n",
       "      <th>review_scores_communication</th>\n",
       "      <th>review_scores_location</th>\n",
       "      <th>review_scores_value</th>\n",
       "      <th>calculated_host_listings_count</th>\n",
       "      <th>calculated_host_listings_count_entire_homes</th>\n",
       "      <th>calculated_host_listings_count_private_rooms</th>\n",
       "      <th>calculated_host_listings_count_shared_rooms</th>\n",
       "      <th>price</th>\n",
       "    </tr>\n",
       "  </thead>\n",
       "  <tbody>\n",
       "    <tr>\n",
       "      <th>0</th>\n",
       "      <td>0.0</td>\n",
       "      <td>0.0</td>\n",
       "      <td>0.0</td>\n",
       "      <td>1.0</td>\n",
       "      <td>1.0</td>\n",
       "      <td>0.0</td>\n",
       "      <td>0.0</td>\n",
       "      <td>0.0</td>\n",
       "      <td>0.0</td>\n",
       "      <td>0.0</td>\n",
       "      <td>...</td>\n",
       "      <td>4.68</td>\n",
       "      <td>4.95</td>\n",
       "      <td>4.94</td>\n",
       "      <td>4.75</td>\n",
       "      <td>4.77</td>\n",
       "      <td>5</td>\n",
       "      <td>0</td>\n",
       "      <td>5</td>\n",
       "      <td>0</td>\n",
       "      <td>41</td>\n",
       "    </tr>\n",
       "    <tr>\n",
       "      <th>1</th>\n",
       "      <td>0.0</td>\n",
       "      <td>0.0</td>\n",
       "      <td>0.0</td>\n",
       "      <td>1.0</td>\n",
       "      <td>1.0</td>\n",
       "      <td>0.0</td>\n",
       "      <td>0.0</td>\n",
       "      <td>0.0</td>\n",
       "      <td>0.0</td>\n",
       "      <td>1.0</td>\n",
       "      <td>...</td>\n",
       "      <td>4.98</td>\n",
       "      <td>5.00</td>\n",
       "      <td>4.99</td>\n",
       "      <td>4.97</td>\n",
       "      <td>4.88</td>\n",
       "      <td>1</td>\n",
       "      <td>0</td>\n",
       "      <td>1</td>\n",
       "      <td>0</td>\n",
       "      <td>96</td>\n",
       "    </tr>\n",
       "    <tr>\n",
       "      <th>2</th>\n",
       "      <td>0.0</td>\n",
       "      <td>0.0</td>\n",
       "      <td>1.0</td>\n",
       "      <td>0.0</td>\n",
       "      <td>1.0</td>\n",
       "      <td>0.0</td>\n",
       "      <td>0.0</td>\n",
       "      <td>0.0</td>\n",
       "      <td>0.0</td>\n",
       "      <td>0.0</td>\n",
       "      <td>...</td>\n",
       "      <td>4.42</td>\n",
       "      <td>5.00</td>\n",
       "      <td>4.93</td>\n",
       "      <td>4.74</td>\n",
       "      <td>4.70</td>\n",
       "      <td>1</td>\n",
       "      <td>0</td>\n",
       "      <td>1</td>\n",
       "      <td>0</td>\n",
       "      <td>32</td>\n",
       "    </tr>\n",
       "    <tr>\n",
       "      <th>3</th>\n",
       "      <td>0.0</td>\n",
       "      <td>0.0</td>\n",
       "      <td>1.0</td>\n",
       "      <td>0.0</td>\n",
       "      <td>1.0</td>\n",
       "      <td>0.0</td>\n",
       "      <td>0.0</td>\n",
       "      <td>0.0</td>\n",
       "      <td>0.0</td>\n",
       "      <td>0.0</td>\n",
       "      <td>...</td>\n",
       "      <td>4.72</td>\n",
       "      <td>4.93</td>\n",
       "      <td>4.76</td>\n",
       "      <td>4.79</td>\n",
       "      <td>4.62</td>\n",
       "      <td>3</td>\n",
       "      <td>1</td>\n",
       "      <td>2</td>\n",
       "      <td>0</td>\n",
       "      <td>38</td>\n",
       "    </tr>\n",
       "    <tr>\n",
       "      <th>4</th>\n",
       "      <td>0.0</td>\n",
       "      <td>0.0</td>\n",
       "      <td>0.0</td>\n",
       "      <td>1.0</td>\n",
       "      <td>1.0</td>\n",
       "      <td>0.0</td>\n",
       "      <td>0.0</td>\n",
       "      <td>0.0</td>\n",
       "      <td>0.0</td>\n",
       "      <td>1.0</td>\n",
       "      <td>...</td>\n",
       "      <td>4.86</td>\n",
       "      <td>4.96</td>\n",
       "      <td>4.96</td>\n",
       "      <td>4.83</td>\n",
       "      <td>4.73</td>\n",
       "      <td>1</td>\n",
       "      <td>1</td>\n",
       "      <td>0</td>\n",
       "      <td>0</td>\n",
       "      <td>571</td>\n",
       "    </tr>\n",
       "  </tbody>\n",
       "</table>\n",
       "<p>5 rows × 81 columns</p>\n",
       "</div>"
      ],
      "text/plain": [
       "   host_response_time_a few days or more  host_response_time_within a day  \\\n",
       "0                                    0.0                              0.0   \n",
       "1                                    0.0                              0.0   \n",
       "2                                    0.0                              0.0   \n",
       "3                                    0.0                              0.0   \n",
       "4                                    0.0                              0.0   \n",
       "\n",
       "   host_response_time_within a few hours  host_response_time_within an hour  \\\n",
       "0                                    0.0                                1.0   \n",
       "1                                    0.0                                1.0   \n",
       "2                                    1.0                                0.0   \n",
       "3                                    1.0                                0.0   \n",
       "4                                    0.0                                1.0   \n",
       "\n",
       "   host_response_rate_cat_100  host_response_rate_cat_below_70  \\\n",
       "0                         1.0                              0.0   \n",
       "1                         1.0                              0.0   \n",
       "2                         1.0                              0.0   \n",
       "3                         1.0                              0.0   \n",
       "4                         1.0                              0.0   \n",
       "\n",
       "   host_response_rate_cat_over_70  host_response_rate_cat_over_90  \\\n",
       "0                             0.0                             0.0   \n",
       "1                             0.0                             0.0   \n",
       "2                             0.0                             0.0   \n",
       "3                             0.0                             0.0   \n",
       "4                             0.0                             0.0   \n",
       "\n",
       "   host_response_rate_cat_over_95  host_acceptance_rate_cat_100  ...  \\\n",
       "0                             0.0                           0.0  ...   \n",
       "1                             0.0                           1.0  ...   \n",
       "2                             0.0                           0.0  ...   \n",
       "3                             0.0                           0.0  ...   \n",
       "4                             0.0                           1.0  ...   \n",
       "\n",
       "   review_scores_cleanliness  review_scores_checkin  \\\n",
       "0                       4.68                   4.95   \n",
       "1                       4.98                   5.00   \n",
       "2                       4.42                   5.00   \n",
       "3                       4.72                   4.93   \n",
       "4                       4.86                   4.96   \n",
       "\n",
       "   review_scores_communication  review_scores_location  review_scores_value  \\\n",
       "0                         4.94                    4.75                 4.77   \n",
       "1                         4.99                    4.97                 4.88   \n",
       "2                         4.93                    4.74                 4.70   \n",
       "3                         4.76                    4.79                 4.62   \n",
       "4                         4.96                    4.83                 4.73   \n",
       "\n",
       "   calculated_host_listings_count  \\\n",
       "0                               5   \n",
       "1                               1   \n",
       "2                               1   \n",
       "3                               3   \n",
       "4                               1   \n",
       "\n",
       "   calculated_host_listings_count_entire_homes  \\\n",
       "0                                            0   \n",
       "1                                            0   \n",
       "2                                            0   \n",
       "3                                            1   \n",
       "4                                            1   \n",
       "\n",
       "   calculated_host_listings_count_private_rooms  \\\n",
       "0                                             5   \n",
       "1                                             1   \n",
       "2                                             1   \n",
       "3                                             2   \n",
       "4                                             0   \n",
       "\n",
       "   calculated_host_listings_count_shared_rooms  price  \n",
       "0                                            0     41  \n",
       "1                                            0     96  \n",
       "2                                            0     32  \n",
       "3                                            0     38  \n",
       "4                                            0    571  \n",
       "\n",
       "[5 rows x 81 columns]"
      ]
     },
     "execution_count": 67,
     "metadata": {},
     "output_type": "execute_result"
    }
   ],
   "source": [
    "ads.head()"
   ]
  },
  {
   "cell_type": "code",
   "execution_count": 69,
   "id": "9c047191",
   "metadata": {},
   "outputs": [
    {
     "data": {
      "text/plain": [
       "0"
      ]
     },
     "execution_count": 69,
     "metadata": {},
     "output_type": "execute_result"
    }
   ],
   "source": [
    "ads.isna().sum().sum()"
   ]
  },
  {
   "cell_type": "code",
   "execution_count": null,
   "id": "ed0ddd2b",
   "metadata": {},
   "outputs": [],
   "source": []
  },
  {
   "cell_type": "markdown",
   "id": "98b7f78f",
   "metadata": {},
   "source": [
    "### Training the model"
   ]
  },
  {
   "cell_type": "code",
   "execution_count": 89,
   "id": "10ccca25",
   "metadata": {},
   "outputs": [],
   "source": [
    "X = ads.loc[:, ads.columns!='price']\n",
    "y = ads.loc[:, 'price']"
   ]
  },
  {
   "cell_type": "code",
   "execution_count": 90,
   "id": "bf6e69ed",
   "metadata": {},
   "outputs": [],
   "source": [
    "X_train, X_test, y_train, y_test = train_test_split(X, y, test_size=0.3, random_state=42)"
   ]
  },
  {
   "cell_type": "code",
   "execution_count": 92,
   "id": "66f955ba",
   "metadata": {},
   "outputs": [],
   "source": [
    "lr = LinearRegression()"
   ]
  },
  {
   "cell_type": "code",
   "execution_count": 94,
   "id": "4cb61fc3",
   "metadata": {},
   "outputs": [],
   "source": [
    "model = lr.fit(X_train, y_train)"
   ]
  },
  {
   "cell_type": "code",
   "execution_count": 95,
   "id": "8a292117",
   "metadata": {},
   "outputs": [],
   "source": [
    "pred = model.predict(X_test)"
   ]
  },
  {
   "cell_type": "code",
   "execution_count": 97,
   "id": "ebd83d9e",
   "metadata": {},
   "outputs": [],
   "source": [
    "r2 = r2_score(y_test, pred)\n",
    "mape = mean_absolute_percentage_error(y_test, pred)"
   ]
  },
  {
   "cell_type": "code",
   "execution_count": 98,
   "id": "b5d73508",
   "metadata": {},
   "outputs": [
    {
     "data": {
      "text/plain": [
       "(0.958054888036247, 0.45936808828116776)"
      ]
     },
     "execution_count": 98,
     "metadata": {},
     "output_type": "execute_result"
    }
   ],
   "source": [
    "r2, mape"
   ]
  }
 ],
 "metadata": {
  "kernelspec": {
   "display_name": "Python 3 (ipykernel)",
   "language": "python",
   "name": "python3"
  },
  "language_info": {
   "codemirror_mode": {
    "name": "ipython",
    "version": 3
   },
   "file_extension": ".py",
   "mimetype": "text/x-python",
   "name": "python",
   "nbconvert_exporter": "python",
   "pygments_lexer": "ipython3",
   "version": "3.9.13"
  }
 },
 "nbformat": 4,
 "nbformat_minor": 5
}
