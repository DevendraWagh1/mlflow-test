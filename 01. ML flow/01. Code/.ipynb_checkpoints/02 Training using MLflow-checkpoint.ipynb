{
 "cells": [
  {
   "cell_type": "code",
   "execution_count": 1,
   "id": "5bb44f04",
   "metadata": {},
   "outputs": [],
   "source": [
    "import mlflow\n",
    "import mlflow.sklearn\n",
    "from mlflow.models import infer_signature\n",
    "\n",
    "from urllib.parse import urlparse\n",
    "import logging\n",
    "import warnings\n",
    "import pickle\n",
    "import numpy as np\n",
    "import os\n",
    "import pandas as pd\n",
    "from sklearn.model_selection import train_test_split\n",
    "from sklearn.metrics import r2_score, mean_absolute_percentage_error\n",
    "\n",
    "from ML_Pipeline_Regression_Airbnb import PercentageProcessing, ItemCount, BathroomText"
   ]
  },
  {
   "cell_type": "code",
   "execution_count": 2,
   "id": "f7e0e6de",
   "metadata": {},
   "outputs": [],
   "source": [
    "parent = 'E:\\\\00_Learning\\\\01. Courses\\\\05. ML Pipeline'\n",
    "input = 'E:\\\\00_Learning\\\\01. Courses\\\\05. ML Pipeline\\\\02. Input'"
   ]
  },
  {
   "cell_type": "code",
   "execution_count": 4,
   "id": "a3c92aaa",
   "metadata": {},
   "outputs": [
    {
     "name": "stdout",
     "output_type": "stream",
     "text": [
      "fit() called...\n",
      "transform() called...\n",
      "fit() called...\n",
      "transform() called...\n",
      "fit() called...\n",
      "transform() called...\n",
      "transform() called...\n",
      "transform() called...\n",
      "transform() called...\n",
      "R Square: 0.9632398317592179\n",
      "MAPE    : 0.48501102761823217\n",
      "transform() called...\n",
      "transform() called...\n",
      "transform() called...\n"
     ]
    }
   ],
   "source": [
    "def eval_metrics(y_true, y_pred):\n",
    "    r2 = r2_score(y_true, y_pred)\n",
    "    mape = mean_absolute_percentage_error(y_true, y_pred)\n",
    "    return r2, mape\n",
    "\n",
    "if __name__ == \"__main__\":\n",
    "    warnings.filterwarnings(\"ignore\")\n",
    "    np.random.seed(40)\n",
    "    \n",
    "    ml_pipeline = pickle.load(open(os.path.join(parent,'ml_pipeline_airbnb.pkl'), 'rb'))\n",
    "    data = pd.read_csv(os.path.join(input,'airbnb_listings.csv'))\n",
    "    data = data[data['neighbourhood'].fillna('').str.lower().str.contains('bristol')]\n",
    "    keep_columns = [\n",
    "       'host_response_time', 'host_response_rate', 'host_acceptance_rate','host_is_superhost', \n",
    "       #'host_listings_count', 'host_total_listings_count', \n",
    "       'host_verifications',\n",
    "       'host_has_profile_pic', 'host_identity_verified', 'neighbourhood',\n",
    "       # 'latitude', 'longitude', \n",
    "       'property_type', 'room_type', 'accommodates',\n",
    "       'bathrooms_text', 'bedrooms', 'beds', 'amenities',\n",
    "       #'minimum_nights', 'maximum_nights', 'minimum_minimum_nights',\n",
    "       #'maximum_minimum_nights', 'minimum_maximum_nights',\n",
    "       #'maximum_maximum_nights', 'minimum_nights_avg_ntm',\n",
    "       #'maximum_nights_avg_ntm', 'calendar_updated', \n",
    "       #'has_availability','availability_30', \n",
    "       #'availability_60', 'availability_90', 'availability_365', 'calendar_last_scraped', 'number_of_reviews',\n",
    "       'number_of_reviews_ltm', 'number_of_reviews_l30d', \n",
    "       #'first_review', 'last_review', \n",
    "       'review_scores_rating', 'review_scores_accuracy',\n",
    "       'review_scores_cleanliness', 'review_scores_checkin',\n",
    "       'review_scores_communication', 'review_scores_location',\n",
    "       'review_scores_value', \n",
    "       #'license', \n",
    "       'instant_bookable', 'calculated_host_listings_count',\n",
    "       'calculated_host_listings_count_entire_homes',\n",
    "       'calculated_host_listings_count_private_rooms',\n",
    "       'calculated_host_listings_count_shared_rooms', \n",
    "       #'reviews_per_month', \n",
    "       'price']\n",
    "    data = data[keep_columns]\n",
    "    X = data.drop(columns=['neighbourhood', 'price'], axis=1)\n",
    "    y = data['price'].str.replace('$','').str.replace(',','').astype('float').astype('int')\n",
    "    X_train, X_test, y_train, y_test = train_test_split(X, y, test_size=0.3, random_state=10)\n",
    "    \n",
    "    with mlflow.start_run():\n",
    "        m1 = ml_pipeline.fit(X_train, y_train)\n",
    "        pred = m1.predict(X_test)\n",
    "        r2, mape = eval_metrics(y_test, pred)\n",
    "        \n",
    "        print(f\"R Square: {r2}\")\n",
    "        print(f\"MAPE    : {mape}\")\n",
    "        mlflow.log_metric('R2', r2)\n",
    "        mlflow.log_metric(\"MAPE\", mape)\n",
    "        \n",
    "        predictions = m1.predict(X_train)\n",
    "        signature = infer_signature(X_train, predictions)\n",
    "        \n",
    "        tracking_url_type_store = urlparse(mlflow.get_tracking_uri()).scheme\n",
    "        \n",
    "        # Model registry does not work with file store\n",
    "        if tracking_url_type_store != \"file\":\n",
    "            # Register the model\n",
    "            # There are other ways to use the Model Registry, which depends on the use case,\n",
    "            # please refer to the doc for more information:\n",
    "            # https://mlflow.org/docs/latest/model-registry.html#api-workflow\n",
    "            mlflow.sklearn.log_model(\n",
    "                m1, \"model\", registered_model_name=\"LinearRegressionAirbnbModel\", signature=signature\n",
    "            )\n",
    "        else:\n",
    "            mlflow.sklearn.log_model(m1, \"model\", signature=signature)"
   ]
  },
  {
   "cell_type": "code",
   "execution_count": null,
   "id": "7bd925b7",
   "metadata": {},
   "outputs": [],
   "source": []
  }
 ],
 "metadata": {
  "kernelspec": {
   "display_name": "Python 3 (ipykernel)",
   "language": "python",
   "name": "python3"
  },
  "language_info": {
   "codemirror_mode": {
    "name": "ipython",
    "version": 3
   },
   "file_extension": ".py",
   "mimetype": "text/x-python",
   "name": "python",
   "nbconvert_exporter": "python",
   "pygments_lexer": "ipython3",
   "version": "3.9.13"
  }
 },
 "nbformat": 4,
 "nbformat_minor": 5
}
