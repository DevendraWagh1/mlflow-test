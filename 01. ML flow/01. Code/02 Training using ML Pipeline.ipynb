{
 "cells": [
  {
   "cell_type": "code",
   "execution_count": 31,
   "id": "5bb44f04",
   "metadata": {},
   "outputs": [],
   "source": [
    "import pickle\n",
    "import numpy as np\n",
    "import os\n",
    "import pandas as pd\n",
    "from sklearn.model_selection import train_test_split\n",
    "from sklearn.metrics import r2_score, mean_absolute_percentage_error\n",
    "\n",
    "from ML_Pipeline_Regression_Airbnb import PercentageProcessing, ItemCount, BathroomText"
   ]
  },
  {
   "cell_type": "code",
   "execution_count": 2,
   "id": "bcb7ccd9",
   "metadata": {},
   "outputs": [
    {
     "data": {
      "text/plain": [
       "'E:\\\\00_Learning\\\\01. Courses\\\\05. ML Pipeline\\\\01. Code'"
      ]
     },
     "execution_count": 2,
     "metadata": {},
     "output_type": "execute_result"
    }
   ],
   "source": [
    "os.getcwd()"
   ]
  },
  {
   "cell_type": "code",
   "execution_count": 3,
   "id": "2452f549",
   "metadata": {},
   "outputs": [],
   "source": [
    "# os.chdir(\"..\")"
   ]
  },
  {
   "cell_type": "code",
   "execution_count": 4,
   "id": "f7e0e6de",
   "metadata": {},
   "outputs": [],
   "source": [
    "parent = 'E:\\\\00_Learning\\\\01. Courses\\\\05. ML Pipeline'\n",
    "input = 'E:\\\\00_Learning\\\\01. Courses\\\\05. ML Pipeline\\\\02. Input'"
   ]
  },
  {
   "cell_type": "code",
   "execution_count": 21,
   "id": "61816856",
   "metadata": {},
   "outputs": [],
   "source": [
    "ml_pipeline = pickle.load(open(os.path.join(parent,'ml_pipeline_airbnb.pkl'), 'rb'))"
   ]
  },
  {
   "cell_type": "code",
   "execution_count": 22,
   "id": "18498c43",
   "metadata": {},
   "outputs": [],
   "source": [
    "data = pd.read_csv(os.path.join(input,'airbnb_listings.csv'))"
   ]
  },
  {
   "cell_type": "code",
   "execution_count": 23,
   "id": "ea67dd4c",
   "metadata": {},
   "outputs": [],
   "source": [
    "data = data[data['neighbourhood'].fillna('').str.lower().str.contains('bristol')]"
   ]
  },
  {
   "cell_type": "code",
   "execution_count": 24,
   "id": "9baf5a24",
   "metadata": {},
   "outputs": [],
   "source": [
    "keep_columns = [\n",
    "       'host_response_time', 'host_response_rate', 'host_acceptance_rate','host_is_superhost', \n",
    "       #'host_listings_count', 'host_total_listings_count', \n",
    "       'host_verifications',\n",
    "       'host_has_profile_pic', 'host_identity_verified', 'neighbourhood',\n",
    "       # 'latitude', 'longitude', \n",
    "       'property_type', 'room_type', 'accommodates',\n",
    "       'bathrooms_text', 'bedrooms', 'beds', 'amenities',\n",
    "       #'minimum_nights', 'maximum_nights', 'minimum_minimum_nights',\n",
    "       #'maximum_minimum_nights', 'minimum_maximum_nights',\n",
    "       #'maximum_maximum_nights', 'minimum_nights_avg_ntm',\n",
    "       #'maximum_nights_avg_ntm', 'calendar_updated', \n",
    "       #'has_availability','availability_30', \n",
    "       #'availability_60', 'availability_90', 'availability_365', 'calendar_last_scraped', 'number_of_reviews',\n",
    "       'number_of_reviews_ltm', 'number_of_reviews_l30d', \n",
    "       #'first_review', 'last_review', \n",
    "       'review_scores_rating', 'review_scores_accuracy',\n",
    "       'review_scores_cleanliness', 'review_scores_checkin',\n",
    "       'review_scores_communication', 'review_scores_location',\n",
    "       'review_scores_value', \n",
    "       #'license', \n",
    "       'instant_bookable', 'calculated_host_listings_count',\n",
    "       'calculated_host_listings_count_entire_homes',\n",
    "       'calculated_host_listings_count_private_rooms',\n",
    "       'calculated_host_listings_count_shared_rooms', \n",
    "       #'reviews_per_month', \n",
    "       'price']"
   ]
  },
  {
   "cell_type": "code",
   "execution_count": 25,
   "id": "dcafd5ec",
   "metadata": {},
   "outputs": [],
   "source": [
    "data = data[keep_columns]"
   ]
  },
  {
   "cell_type": "code",
   "execution_count": 26,
   "id": "f68766c0",
   "metadata": {},
   "outputs": [],
   "source": [
    "X = data.drop(columns=['neighbourhood', 'price'], axis=1)"
   ]
  },
  {
   "cell_type": "code",
   "execution_count": 27,
   "id": "ee97ac58",
   "metadata": {},
   "outputs": [
    {
     "name": "stderr",
     "output_type": "stream",
     "text": [
      "C:\\Users\\dev3w\\AppData\\Local\\Temp\\ipykernel_32996\\3938196490.py:1: FutureWarning: The default value of regex will change from True to False in a future version. In addition, single character regular expressions will *not* be treated as literal strings when regex=True.\n",
      "  y = data['price'].str.replace('$','').str.replace(',','').astype('float').astype('int')\n"
     ]
    }
   ],
   "source": [
    "y = data['price'].str.replace('$','').str.replace(',','').astype('float').astype('int')"
   ]
  },
  {
   "cell_type": "code",
   "execution_count": 39,
   "id": "c0bc0d14",
   "metadata": {},
   "outputs": [],
   "source": [
    "X_train, X_test, y_train, y_test = train_test_split(X, y, test_size=0.3, random_state=10)"
   ]
  },
  {
   "cell_type": "code",
   "execution_count": 40,
   "id": "4fea376a",
   "metadata": {},
   "outputs": [
    {
     "name": "stdout",
     "output_type": "stream",
     "text": [
      "fit() called...\n",
      "transform() called...\n",
      "fit() called...\n",
      "transform() called...\n",
      "fit() called...\n",
      "transform() called...\n"
     ]
    }
   ],
   "source": [
    "m1 = ml_pipeline.fit(X_train, y_train)"
   ]
  },
  {
   "cell_type": "code",
   "execution_count": 41,
   "id": "2b6b47a5",
   "metadata": {},
   "outputs": [
    {
     "name": "stdout",
     "output_type": "stream",
     "text": [
      "transform() called...\n",
      "transform() called...\n",
      "transform() called...\n"
     ]
    }
   ],
   "source": [
    "pred = m1.predict(X_test)"
   ]
  },
  {
   "cell_type": "code",
   "execution_count": 42,
   "id": "6d0de913",
   "metadata": {},
   "outputs": [
    {
     "data": {
      "text/plain": [
       "(0.9632398317592179, 0.48501102761823217)"
      ]
     },
     "execution_count": 42,
     "metadata": {},
     "output_type": "execute_result"
    }
   ],
   "source": [
    "r2_score(y_test, pred), mean_absolute_percentage_error(y_test, pred)"
   ]
  },
  {
   "cell_type": "code",
   "execution_count": 46,
   "id": "edede4b0",
   "metadata": {
    "scrolled": false
   },
   "outputs": [
    {
     "data": {
      "text/html": [
       "<style>#sk-6d1117b6-a3ba-4e34-8217-dced3f64c51e {color: black;background-color: white;}#sk-6d1117b6-a3ba-4e34-8217-dced3f64c51e pre{padding: 0;}#sk-6d1117b6-a3ba-4e34-8217-dced3f64c51e div.sk-toggleable {background-color: white;}#sk-6d1117b6-a3ba-4e34-8217-dced3f64c51e label.sk-toggleable__label {cursor: pointer;display: block;width: 100%;margin-bottom: 0;padding: 0.3em;box-sizing: border-box;text-align: center;}#sk-6d1117b6-a3ba-4e34-8217-dced3f64c51e label.sk-toggleable__label-arrow:before {content: \"▸\";float: left;margin-right: 0.25em;color: #696969;}#sk-6d1117b6-a3ba-4e34-8217-dced3f64c51e label.sk-toggleable__label-arrow:hover:before {color: black;}#sk-6d1117b6-a3ba-4e34-8217-dced3f64c51e div.sk-estimator:hover label.sk-toggleable__label-arrow:before {color: black;}#sk-6d1117b6-a3ba-4e34-8217-dced3f64c51e div.sk-toggleable__content {max-height: 0;max-width: 0;overflow: hidden;text-align: left;background-color: #f0f8ff;}#sk-6d1117b6-a3ba-4e34-8217-dced3f64c51e div.sk-toggleable__content pre {margin: 0.2em;color: black;border-radius: 0.25em;background-color: #f0f8ff;}#sk-6d1117b6-a3ba-4e34-8217-dced3f64c51e input.sk-toggleable__control:checked~div.sk-toggleable__content {max-height: 200px;max-width: 100%;overflow: auto;}#sk-6d1117b6-a3ba-4e34-8217-dced3f64c51e input.sk-toggleable__control:checked~label.sk-toggleable__label-arrow:before {content: \"▾\";}#sk-6d1117b6-a3ba-4e34-8217-dced3f64c51e div.sk-estimator input.sk-toggleable__control:checked~label.sk-toggleable__label {background-color: #d4ebff;}#sk-6d1117b6-a3ba-4e34-8217-dced3f64c51e div.sk-label input.sk-toggleable__control:checked~label.sk-toggleable__label {background-color: #d4ebff;}#sk-6d1117b6-a3ba-4e34-8217-dced3f64c51e input.sk-hidden--visually {border: 0;clip: rect(1px 1px 1px 1px);clip: rect(1px, 1px, 1px, 1px);height: 1px;margin: -1px;overflow: hidden;padding: 0;position: absolute;width: 1px;}#sk-6d1117b6-a3ba-4e34-8217-dced3f64c51e div.sk-estimator {font-family: monospace;background-color: #f0f8ff;border: 1px dotted black;border-radius: 0.25em;box-sizing: border-box;margin-bottom: 0.5em;}#sk-6d1117b6-a3ba-4e34-8217-dced3f64c51e div.sk-estimator:hover {background-color: #d4ebff;}#sk-6d1117b6-a3ba-4e34-8217-dced3f64c51e div.sk-parallel-item::after {content: \"\";width: 100%;border-bottom: 1px solid gray;flex-grow: 1;}#sk-6d1117b6-a3ba-4e34-8217-dced3f64c51e div.sk-label:hover label.sk-toggleable__label {background-color: #d4ebff;}#sk-6d1117b6-a3ba-4e34-8217-dced3f64c51e div.sk-serial::before {content: \"\";position: absolute;border-left: 1px solid gray;box-sizing: border-box;top: 2em;bottom: 0;left: 50%;}#sk-6d1117b6-a3ba-4e34-8217-dced3f64c51e div.sk-serial {display: flex;flex-direction: column;align-items: center;background-color: white;padding-right: 0.2em;padding-left: 0.2em;}#sk-6d1117b6-a3ba-4e34-8217-dced3f64c51e div.sk-item {z-index: 1;}#sk-6d1117b6-a3ba-4e34-8217-dced3f64c51e div.sk-parallel {display: flex;align-items: stretch;justify-content: center;background-color: white;}#sk-6d1117b6-a3ba-4e34-8217-dced3f64c51e div.sk-parallel::before {content: \"\";position: absolute;border-left: 1px solid gray;box-sizing: border-box;top: 2em;bottom: 0;left: 50%;}#sk-6d1117b6-a3ba-4e34-8217-dced3f64c51e div.sk-parallel-item {display: flex;flex-direction: column;position: relative;background-color: white;}#sk-6d1117b6-a3ba-4e34-8217-dced3f64c51e div.sk-parallel-item:first-child::after {align-self: flex-end;width: 50%;}#sk-6d1117b6-a3ba-4e34-8217-dced3f64c51e div.sk-parallel-item:last-child::after {align-self: flex-start;width: 50%;}#sk-6d1117b6-a3ba-4e34-8217-dced3f64c51e div.sk-parallel-item:only-child::after {width: 0;}#sk-6d1117b6-a3ba-4e34-8217-dced3f64c51e div.sk-dashed-wrapped {border: 1px dashed gray;margin: 0 0.4em 0.5em 0.4em;box-sizing: border-box;padding-bottom: 0.4em;background-color: white;position: relative;}#sk-6d1117b6-a3ba-4e34-8217-dced3f64c51e div.sk-label label {font-family: monospace;font-weight: bold;background-color: white;display: inline-block;line-height: 1.2em;}#sk-6d1117b6-a3ba-4e34-8217-dced3f64c51e div.sk-label-container {position: relative;z-index: 2;text-align: center;}#sk-6d1117b6-a3ba-4e34-8217-dced3f64c51e div.sk-container {/* jupyter's `normalize.less` sets `[hidden] { display: none; }` but bootstrap.min.css set `[hidden] { display: none !important; }` so we also need the `!important` here to be able to override the default hidden behavior on the sphinx rendered scikit-learn.org. See: https://github.com/scikit-learn/scikit-learn/issues/21755 */display: inline-block !important;position: relative;}#sk-6d1117b6-a3ba-4e34-8217-dced3f64c51e div.sk-text-repr-fallback {display: none;}</style><div id=\"sk-6d1117b6-a3ba-4e34-8217-dced3f64c51e\" class=\"sk-top-container\"><div class=\"sk-text-repr-fallback\"><pre>Pipeline(steps=[(&#x27;data_pipeline&#x27;,\n",
       "                 Pipeline(steps=[(&#x27;preprocessing&#x27;,\n",
       "                                  Pipeline(steps=[(&#x27;PercentageProcessing&#x27;,\n",
       "                                                   PercentageProcessing(feature_list=[1,\n",
       "                                                                                      2])),\n",
       "                                                  (&#x27;ItemCount&#x27;,\n",
       "                                                   ItemCount(feature_list=[4,\n",
       "                                                                           13])),\n",
       "                                                  (&#x27;BathroomText&#x27;,\n",
       "                                                   BathroomText(feature=[10]))])),\n",
       "                                 (&#x27;imputation&#x27;,\n",
       "                                  ColumnTransformer(transformers=[(&#x27;FloatTransform&#x27;,\n",
       "                                                                   SimpleImputer(),\n",
       "                                                                   [10, 11, 15,\n",
       "                                                                    16, 17, 18,\n",
       "                                                                    19, 20, 21,\n",
       "                                                                    27]),\n",
       "                                                                  (&#x27;IntTransform&#x27;,\n",
       "                                                                   SimpleImputer(strategy=&#x27;median&#x27;),\n",
       "                                                                   [4, 9, 12,\n",
       "                                                                    13, 14, 23,\n",
       "                                                                    24, 25,\n",
       "                                                                    26]),\n",
       "                                                                  (&#x27;ObjImpute&#x27;,\n",
       "                                                                   SimpleImputer(strategy=&#x27;most_frequent&#x27;),\n",
       "                                                                   [0, 1, 2, 3,\n",
       "                                                                    5, 6, 7, 8,\n",
       "                                                                    22])])),\n",
       "                                 (&#x27;ohe&#x27;,\n",
       "                                  ColumnTransformer(remainder=&#x27;passthrough&#x27;,\n",
       "                                                    transformers=[(&#x27;ohe&#x27;,\n",
       "                                                                   OneHotEncoder(handle_unknown=&#x27;ignore&#x27;),\n",
       "                                                                   [19, 20, 21,\n",
       "                                                                    22, 23, 24,\n",
       "                                                                    25, 26,\n",
       "                                                                    27])]))])),\n",
       "                (&#x27;linear_regression&#x27;, LinearRegression())])</pre><b>Please rerun this cell to show the HTML repr or trust the notebook.</b></div><div class=\"sk-container\" hidden><div class=\"sk-item sk-dashed-wrapped\"><div class=\"sk-label-container\"><div class=\"sk-label sk-toggleable\"><input class=\"sk-toggleable__control sk-hidden--visually\" id=\"a3748088-8e33-435f-ae33-3e9700dfab8e\" type=\"checkbox\" ><label for=\"a3748088-8e33-435f-ae33-3e9700dfab8e\" class=\"sk-toggleable__label sk-toggleable__label-arrow\">Pipeline</label><div class=\"sk-toggleable__content\"><pre>Pipeline(steps=[(&#x27;data_pipeline&#x27;,\n",
       "                 Pipeline(steps=[(&#x27;preprocessing&#x27;,\n",
       "                                  Pipeline(steps=[(&#x27;PercentageProcessing&#x27;,\n",
       "                                                   PercentageProcessing(feature_list=[1,\n",
       "                                                                                      2])),\n",
       "                                                  (&#x27;ItemCount&#x27;,\n",
       "                                                   ItemCount(feature_list=[4,\n",
       "                                                                           13])),\n",
       "                                                  (&#x27;BathroomText&#x27;,\n",
       "                                                   BathroomText(feature=[10]))])),\n",
       "                                 (&#x27;imputation&#x27;,\n",
       "                                  ColumnTransformer(transformers=[(&#x27;FloatTransform&#x27;,\n",
       "                                                                   SimpleImputer(),\n",
       "                                                                   [10, 11, 15,\n",
       "                                                                    16, 17, 18,\n",
       "                                                                    19, 20, 21,\n",
       "                                                                    27]),\n",
       "                                                                  (&#x27;IntTransform&#x27;,\n",
       "                                                                   SimpleImputer(strategy=&#x27;median&#x27;),\n",
       "                                                                   [4, 9, 12,\n",
       "                                                                    13, 14, 23,\n",
       "                                                                    24, 25,\n",
       "                                                                    26]),\n",
       "                                                                  (&#x27;ObjImpute&#x27;,\n",
       "                                                                   SimpleImputer(strategy=&#x27;most_frequent&#x27;),\n",
       "                                                                   [0, 1, 2, 3,\n",
       "                                                                    5, 6, 7, 8,\n",
       "                                                                    22])])),\n",
       "                                 (&#x27;ohe&#x27;,\n",
       "                                  ColumnTransformer(remainder=&#x27;passthrough&#x27;,\n",
       "                                                    transformers=[(&#x27;ohe&#x27;,\n",
       "                                                                   OneHotEncoder(handle_unknown=&#x27;ignore&#x27;),\n",
       "                                                                   [19, 20, 21,\n",
       "                                                                    22, 23, 24,\n",
       "                                                                    25, 26,\n",
       "                                                                    27])]))])),\n",
       "                (&#x27;linear_regression&#x27;, LinearRegression())])</pre></div></div></div><div class=\"sk-serial\"><div class=\"sk-item\"><div class=\"sk-label-container\"><div class=\"sk-label sk-toggleable\"><input class=\"sk-toggleable__control sk-hidden--visually\" id=\"9997a5bd-45dd-452a-b877-2f8d2d6e455e\" type=\"checkbox\" ><label for=\"9997a5bd-45dd-452a-b877-2f8d2d6e455e\" class=\"sk-toggleable__label sk-toggleable__label-arrow\">data_pipeline: Pipeline</label><div class=\"sk-toggleable__content\"><pre>Pipeline(steps=[(&#x27;preprocessing&#x27;,\n",
       "                 Pipeline(steps=[(&#x27;PercentageProcessing&#x27;,\n",
       "                                  PercentageProcessing(feature_list=[1, 2])),\n",
       "                                 (&#x27;ItemCount&#x27;, ItemCount(feature_list=[4, 13])),\n",
       "                                 (&#x27;BathroomText&#x27;,\n",
       "                                  BathroomText(feature=[10]))])),\n",
       "                (&#x27;imputation&#x27;,\n",
       "                 ColumnTransformer(transformers=[(&#x27;FloatTransform&#x27;,\n",
       "                                                  SimpleImputer(),\n",
       "                                                  [10, 11, 15, 16, 17, 18, 19,\n",
       "                                                   20, 21, 27]),\n",
       "                                                 (&#x27;IntTransform&#x27;,\n",
       "                                                  SimpleImputer(strategy=&#x27;median&#x27;),\n",
       "                                                  [4, 9, 12, 13, 14, 23, 24, 25,\n",
       "                                                   26]),\n",
       "                                                 (&#x27;ObjImpute&#x27;,\n",
       "                                                  SimpleImputer(strategy=&#x27;most_frequent&#x27;),\n",
       "                                                  [0, 1, 2, 3, 5, 6, 7, 8,\n",
       "                                                   22])])),\n",
       "                (&#x27;ohe&#x27;,\n",
       "                 ColumnTransformer(remainder=&#x27;passthrough&#x27;,\n",
       "                                   transformers=[(&#x27;ohe&#x27;,\n",
       "                                                  OneHotEncoder(handle_unknown=&#x27;ignore&#x27;),\n",
       "                                                  [19, 20, 21, 22, 23, 24, 25,\n",
       "                                                   26, 27])]))])</pre></div></div></div><div class=\"sk-serial\"><div class=\"sk-item\"><div class=\"sk-label-container\"><div class=\"sk-label sk-toggleable\"><input class=\"sk-toggleable__control sk-hidden--visually\" id=\"b0cf7c34-366f-4167-9ee5-de30d64110bd\" type=\"checkbox\" ><label for=\"b0cf7c34-366f-4167-9ee5-de30d64110bd\" class=\"sk-toggleable__label sk-toggleable__label-arrow\">preprocessing: Pipeline</label><div class=\"sk-toggleable__content\"><pre>Pipeline(steps=[(&#x27;PercentageProcessing&#x27;,\n",
       "                 PercentageProcessing(feature_list=[1, 2])),\n",
       "                (&#x27;ItemCount&#x27;, ItemCount(feature_list=[4, 13])),\n",
       "                (&#x27;BathroomText&#x27;, BathroomText(feature=[10]))])</pre></div></div></div><div class=\"sk-serial\"><div class=\"sk-item\"><div class=\"sk-estimator sk-toggleable\"><input class=\"sk-toggleable__control sk-hidden--visually\" id=\"7fc18e26-8c07-41ba-a697-fd7f6f20a5db\" type=\"checkbox\" ><label for=\"7fc18e26-8c07-41ba-a697-fd7f6f20a5db\" class=\"sk-toggleable__label sk-toggleable__label-arrow\">PercentageProcessing</label><div class=\"sk-toggleable__content\"><pre>PercentageProcessing(feature_list=[1, 2])</pre></div></div></div><div class=\"sk-item\"><div class=\"sk-estimator sk-toggleable\"><input class=\"sk-toggleable__control sk-hidden--visually\" id=\"c8c38e7e-48e8-4cba-917b-b49673a72c86\" type=\"checkbox\" ><label for=\"c8c38e7e-48e8-4cba-917b-b49673a72c86\" class=\"sk-toggleable__label sk-toggleable__label-arrow\">ItemCount</label><div class=\"sk-toggleable__content\"><pre>ItemCount(feature_list=[4, 13])</pre></div></div></div><div class=\"sk-item\"><div class=\"sk-estimator sk-toggleable\"><input class=\"sk-toggleable__control sk-hidden--visually\" id=\"2b4f26b8-6cc0-4a38-a4d1-4a385c715da2\" type=\"checkbox\" ><label for=\"2b4f26b8-6cc0-4a38-a4d1-4a385c715da2\" class=\"sk-toggleable__label sk-toggleable__label-arrow\">BathroomText</label><div class=\"sk-toggleable__content\"><pre>BathroomText(feature=[10])</pre></div></div></div></div></div><div class=\"sk-item sk-dashed-wrapped\"><div class=\"sk-label-container\"><div class=\"sk-label sk-toggleable\"><input class=\"sk-toggleable__control sk-hidden--visually\" id=\"2cac288f-95ef-443c-9cfc-ab1223142d8e\" type=\"checkbox\" ><label for=\"2cac288f-95ef-443c-9cfc-ab1223142d8e\" class=\"sk-toggleable__label sk-toggleable__label-arrow\">imputation: ColumnTransformer</label><div class=\"sk-toggleable__content\"><pre>ColumnTransformer(transformers=[(&#x27;FloatTransform&#x27;, SimpleImputer(),\n",
       "                                 [10, 11, 15, 16, 17, 18, 19, 20, 21, 27]),\n",
       "                                (&#x27;IntTransform&#x27;,\n",
       "                                 SimpleImputer(strategy=&#x27;median&#x27;),\n",
       "                                 [4, 9, 12, 13, 14, 23, 24, 25, 26]),\n",
       "                                (&#x27;ObjImpute&#x27;,\n",
       "                                 SimpleImputer(strategy=&#x27;most_frequent&#x27;),\n",
       "                                 [0, 1, 2, 3, 5, 6, 7, 8, 22])])</pre></div></div></div><div class=\"sk-parallel\"><div class=\"sk-parallel-item\"><div class=\"sk-item\"><div class=\"sk-label-container\"><div class=\"sk-label sk-toggleable\"><input class=\"sk-toggleable__control sk-hidden--visually\" id=\"e7656c8f-3788-422e-b0eb-112f83822795\" type=\"checkbox\" ><label for=\"e7656c8f-3788-422e-b0eb-112f83822795\" class=\"sk-toggleable__label sk-toggleable__label-arrow\">FloatTransform</label><div class=\"sk-toggleable__content\"><pre>[10, 11, 15, 16, 17, 18, 19, 20, 21, 27]</pre></div></div></div><div class=\"sk-serial\"><div class=\"sk-item\"><div class=\"sk-estimator sk-toggleable\"><input class=\"sk-toggleable__control sk-hidden--visually\" id=\"18fdd6b8-a6a2-4647-8a34-e8d0785cb790\" type=\"checkbox\" ><label for=\"18fdd6b8-a6a2-4647-8a34-e8d0785cb790\" class=\"sk-toggleable__label sk-toggleable__label-arrow\">SimpleImputer</label><div class=\"sk-toggleable__content\"><pre>SimpleImputer()</pre></div></div></div></div></div></div><div class=\"sk-parallel-item\"><div class=\"sk-item\"><div class=\"sk-label-container\"><div class=\"sk-label sk-toggleable\"><input class=\"sk-toggleable__control sk-hidden--visually\" id=\"15b3fac9-9c32-41e4-b306-d4fe5b55a8fe\" type=\"checkbox\" ><label for=\"15b3fac9-9c32-41e4-b306-d4fe5b55a8fe\" class=\"sk-toggleable__label sk-toggleable__label-arrow\">IntTransform</label><div class=\"sk-toggleable__content\"><pre>[4, 9, 12, 13, 14, 23, 24, 25, 26]</pre></div></div></div><div class=\"sk-serial\"><div class=\"sk-item\"><div class=\"sk-estimator sk-toggleable\"><input class=\"sk-toggleable__control sk-hidden--visually\" id=\"ed54bae3-d306-419b-adbf-2c6339672c85\" type=\"checkbox\" ><label for=\"ed54bae3-d306-419b-adbf-2c6339672c85\" class=\"sk-toggleable__label sk-toggleable__label-arrow\">SimpleImputer</label><div class=\"sk-toggleable__content\"><pre>SimpleImputer(strategy=&#x27;median&#x27;)</pre></div></div></div></div></div></div><div class=\"sk-parallel-item\"><div class=\"sk-item\"><div class=\"sk-label-container\"><div class=\"sk-label sk-toggleable\"><input class=\"sk-toggleable__control sk-hidden--visually\" id=\"6523e0e1-3dd9-44e6-85e1-0399027032d3\" type=\"checkbox\" ><label for=\"6523e0e1-3dd9-44e6-85e1-0399027032d3\" class=\"sk-toggleable__label sk-toggleable__label-arrow\">ObjImpute</label><div class=\"sk-toggleable__content\"><pre>[0, 1, 2, 3, 5, 6, 7, 8, 22]</pre></div></div></div><div class=\"sk-serial\"><div class=\"sk-item\"><div class=\"sk-estimator sk-toggleable\"><input class=\"sk-toggleable__control sk-hidden--visually\" id=\"08a1821e-f3b7-4969-8fa2-d0fadf191b35\" type=\"checkbox\" ><label for=\"08a1821e-f3b7-4969-8fa2-d0fadf191b35\" class=\"sk-toggleable__label sk-toggleable__label-arrow\">SimpleImputer</label><div class=\"sk-toggleable__content\"><pre>SimpleImputer(strategy=&#x27;most_frequent&#x27;)</pre></div></div></div></div></div></div></div></div><div class=\"sk-item sk-dashed-wrapped\"><div class=\"sk-label-container\"><div class=\"sk-label sk-toggleable\"><input class=\"sk-toggleable__control sk-hidden--visually\" id=\"ff9749f1-8433-4793-b7ce-71da1902e85e\" type=\"checkbox\" ><label for=\"ff9749f1-8433-4793-b7ce-71da1902e85e\" class=\"sk-toggleable__label sk-toggleable__label-arrow\">ohe: ColumnTransformer</label><div class=\"sk-toggleable__content\"><pre>ColumnTransformer(remainder=&#x27;passthrough&#x27;,\n",
       "                  transformers=[(&#x27;ohe&#x27;, OneHotEncoder(handle_unknown=&#x27;ignore&#x27;),\n",
       "                                 [19, 20, 21, 22, 23, 24, 25, 26, 27])])</pre></div></div></div><div class=\"sk-parallel\"><div class=\"sk-parallel-item\"><div class=\"sk-item\"><div class=\"sk-label-container\"><div class=\"sk-label sk-toggleable\"><input class=\"sk-toggleable__control sk-hidden--visually\" id=\"fa441068-240b-4985-a736-f88ba1357401\" type=\"checkbox\" ><label for=\"fa441068-240b-4985-a736-f88ba1357401\" class=\"sk-toggleable__label sk-toggleable__label-arrow\">ohe</label><div class=\"sk-toggleable__content\"><pre>[19, 20, 21, 22, 23, 24, 25, 26, 27]</pre></div></div></div><div class=\"sk-serial\"><div class=\"sk-item\"><div class=\"sk-estimator sk-toggleable\"><input class=\"sk-toggleable__control sk-hidden--visually\" id=\"74febfdf-cbdb-415b-8db3-a0a1d221b682\" type=\"checkbox\" ><label for=\"74febfdf-cbdb-415b-8db3-a0a1d221b682\" class=\"sk-toggleable__label sk-toggleable__label-arrow\">OneHotEncoder</label><div class=\"sk-toggleable__content\"><pre>OneHotEncoder(handle_unknown=&#x27;ignore&#x27;)</pre></div></div></div></div></div></div><div class=\"sk-parallel-item\"><div class=\"sk-item\"><div class=\"sk-label-container\"><div class=\"sk-label sk-toggleable\"><input class=\"sk-toggleable__control sk-hidden--visually\" id=\"bc689a87-ec0d-40ba-9e96-8fd28b077d3a\" type=\"checkbox\" ><label for=\"bc689a87-ec0d-40ba-9e96-8fd28b077d3a\" class=\"sk-toggleable__label sk-toggleable__label-arrow\">remainder</label><div class=\"sk-toggleable__content\"><pre>[0, 1, 2, 3, 4, 5, 6, 7, 8, 9, 10, 11, 12, 13, 14, 15, 16, 17, 18]</pre></div></div></div><div class=\"sk-serial\"><div class=\"sk-item\"><div class=\"sk-estimator sk-toggleable\"><input class=\"sk-toggleable__control sk-hidden--visually\" id=\"31e94042-2b70-4144-85f0-ae714aa84953\" type=\"checkbox\" ><label for=\"31e94042-2b70-4144-85f0-ae714aa84953\" class=\"sk-toggleable__label sk-toggleable__label-arrow\">passthrough</label><div class=\"sk-toggleable__content\"><pre>passthrough</pre></div></div></div></div></div></div></div></div></div></div><div class=\"sk-item\"><div class=\"sk-estimator sk-toggleable\"><input class=\"sk-toggleable__control sk-hidden--visually\" id=\"e54776f1-9b23-4361-b414-b840a6782465\" type=\"checkbox\" ><label for=\"e54776f1-9b23-4361-b414-b840a6782465\" class=\"sk-toggleable__label sk-toggleable__label-arrow\">LinearRegression</label><div class=\"sk-toggleable__content\"><pre>LinearRegression()</pre></div></div></div></div></div></div></div>"
      ],
      "text/plain": [
       "Pipeline(steps=[('data_pipeline',\n",
       "                 Pipeline(steps=[('preprocessing',\n",
       "                                  Pipeline(steps=[('PercentageProcessing',\n",
       "                                                   PercentageProcessing(feature_list=[1,\n",
       "                                                                                      2])),\n",
       "                                                  ('ItemCount',\n",
       "                                                   ItemCount(feature_list=[4,\n",
       "                                                                           13])),\n",
       "                                                  ('BathroomText',\n",
       "                                                   BathroomText(feature=[10]))])),\n",
       "                                 ('imputation',\n",
       "                                  ColumnTransformer(transformers=[('FloatTransform',\n",
       "                                                                   SimpleImputer(),\n",
       "                                                                   [10, 11, 15,\n",
       "                                                                    16, 17, 18,\n",
       "                                                                    19, 20, 21,\n",
       "                                                                    27]),\n",
       "                                                                  ('IntTransform',\n",
       "                                                                   SimpleImputer(strategy='median'),\n",
       "                                                                   [4, 9, 12,\n",
       "                                                                    13, 14, 23,\n",
       "                                                                    24, 25,\n",
       "                                                                    26]),\n",
       "                                                                  ('ObjImpute',\n",
       "                                                                   SimpleImputer(strategy='most_frequent'),\n",
       "                                                                   [0, 1, 2, 3,\n",
       "                                                                    5, 6, 7, 8,\n",
       "                                                                    22])])),\n",
       "                                 ('ohe',\n",
       "                                  ColumnTransformer(remainder='passthrough',\n",
       "                                                    transformers=[('ohe',\n",
       "                                                                   OneHotEncoder(handle_unknown='ignore'),\n",
       "                                                                   [19, 20, 21,\n",
       "                                                                    22, 23, 24,\n",
       "                                                                    25, 26,\n",
       "                                                                    27])]))])),\n",
       "                ('linear_regression', LinearRegression())])"
      ]
     },
     "metadata": {},
     "output_type": "display_data"
    }
   ],
   "source": [
    "from sklearn import set_config\n",
    "set_config(display='diagram')\n",
    "display(ml_pipeline)"
   ]
  },
  {
   "cell_type": "code",
   "execution_count": null,
   "id": "55740cc2",
   "metadata": {},
   "outputs": [],
   "source": []
  },
  {
   "cell_type": "code",
   "execution_count": 47,
   "id": "84ef2fca",
   "metadata": {},
   "outputs": [],
   "source": [
    "from sklearn.model_selection import cross_val_score"
   ]
  },
  {
   "cell_type": "code",
   "execution_count": 50,
   "id": "3e7e3dde",
   "metadata": {
    "scrolled": true
   },
   "outputs": [
    {
     "name": "stdout",
     "output_type": "stream",
     "text": [
      "__init__ called...\n",
      "__init__ called...\n",
      "__init__ called...\n",
      "fit() called...\n",
      "transform() called...\n",
      "fit() called...\n",
      "transform() called...\n",
      "fit() called...\n",
      "transform() called...\n",
      "transform() called...\n",
      "transform() called...\n",
      "transform() called...\n",
      "__init__ called...\n",
      "__init__ called...\n",
      "__init__ called...\n",
      "fit() called...\n",
      "transform() called...\n",
      "fit() called...\n",
      "transform() called...\n",
      "fit() called...\n",
      "transform() called...\n",
      "transform() called...\n",
      "transform() called...\n",
      "transform() called...\n",
      "__init__ called...\n",
      "__init__ called...\n",
      "__init__ called...\n",
      "fit() called...\n",
      "transform() called...\n",
      "fit() called...\n",
      "transform() called...\n",
      "fit() called...\n",
      "transform() called...\n",
      "transform() called...\n",
      "transform() called...\n",
      "transform() called...\n",
      "__init__ called...\n",
      "__init__ called...\n",
      "__init__ called...\n",
      "fit() called...\n",
      "transform() called...\n",
      "fit() called...\n",
      "transform() called...\n",
      "fit() called...\n",
      "transform() called...\n",
      "transform() called...\n",
      "transform() called...\n",
      "transform() called...\n",
      "__init__ called...\n",
      "__init__ called...\n",
      "__init__ called...\n",
      "fit() called...\n",
      "transform() called...\n",
      "fit() called...\n",
      "transform() called...\n",
      "fit() called...\n",
      "transform() called...\n",
      "transform() called...\n",
      "transform() called...\n",
      "transform() called...\n"
     ]
    },
    {
     "data": {
      "text/plain": [
       "0.9493821571607146"
      ]
     },
     "execution_count": 50,
     "metadata": {},
     "output_type": "execute_result"
    }
   ],
   "source": [
    "cross_val_score(ml_pipeline, X_train, y_train, cv = 5).mean()"
   ]
  },
  {
   "cell_type": "code",
   "execution_count": 72,
   "id": "73303cc7",
   "metadata": {},
   "outputs": [
    {
     "name": "stdout",
     "output_type": "stream",
     "text": [
      "fit() called...\n",
      "transform() called...\n",
      "fit() called...\n",
      "transform() called...\n",
      "fit() called...\n",
      "transform() called...\n"
     ]
    },
    {
     "data": {
      "text/plain": [
       "100155.31055864942"
      ]
     },
     "execution_count": 72,
     "metadata": {},
     "output_type": "execute_result"
    }
   ],
   "source": [
    "ml_pipeline[0].fit_transform(X_train).sum()"
   ]
  },
  {
   "cell_type": "code",
   "execution_count": 71,
   "id": "7db7c89a",
   "metadata": {},
   "outputs": [
    {
     "name": "stdout",
     "output_type": "stream",
     "text": [
      "fit() called...\n",
      "transform() called...\n",
      "fit() called...\n",
      "transform() called...\n",
      "fit() called...\n",
      "transform() called...\n"
     ]
    },
    {
     "data": {
      "text/plain": [
       "100155.31055864942"
      ]
     },
     "execution_count": 71,
     "metadata": {},
     "output_type": "execute_result"
    }
   ],
   "source": [
    "data_pipeline.fit_transform(X_train).sum()"
   ]
  },
  {
   "cell_type": "code",
   "execution_count": null,
   "id": "a3c92aaa",
   "metadata": {},
   "outputs": [],
   "source": []
  }
 ],
 "metadata": {
  "kernelspec": {
   "display_name": "Python 3 (ipykernel)",
   "language": "python",
   "name": "python3"
  },
  "language_info": {
   "codemirror_mode": {
    "name": "ipython",
    "version": 3
   },
   "file_extension": ".py",
   "mimetype": "text/x-python",
   "name": "python",
   "nbconvert_exporter": "python",
   "pygments_lexer": "ipython3",
   "version": "3.9.13"
  }
 },
 "nbformat": 4,
 "nbformat_minor": 5
}
